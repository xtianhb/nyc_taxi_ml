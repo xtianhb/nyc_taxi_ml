{
 "cells": [
  {
   "cell_type": "markdown",
   "metadata": {},
   "source": [
    "<h1 style=\"text-align: center;\">🚕 New York Taxi ML 🚕\n",
    "</h1>"
   ]
  },
  {
   "cell_type": "markdown",
   "metadata": {
    "colab_type": "text",
    "id": "38tA-ErIC4OD"
   },
   "source": [
    "<img \n",
    "    style=\"display: block; \n",
    "           margin-left: auto;\n",
    "           margin-right: auto;\n",
    "           width: 50%;\"\n",
    "    src=\"https://www.adslzone.net/app/uploads-adslzone.net/2016/04/TAXI-930x487.jpg\" \n",
    "    alt=\"Our logo\">\n",
    "</img>"
   ]
  },
  {
   "cell_type": "markdown",
   "metadata": {
    "ExecuteTime": {
     "end_time": "2020-10-03T16:38:50.256411Z",
     "start_time": "2020-10-03T16:38:50.250466Z"
    }
   },
   "source": [
    "<a id='contents' />\n",
    "\n",
    "## 📚 Contents\n",
    "\n",
    "* [1 - BUSINESS UNDERSTANDING](#pensando)\n",
    "   * [1.1 - Determinate business question and objective](#bu11)\n",
    "   * [1.2 - Situation assessment](#bu12)\n",
    "   * [1.3 - Determine the project goals](#bu13)    \n",
    "   * [1.4 - Project plan](#bu14)    \n",
    "\n",
    "\n",
    "* [2 - DATA UNDERSTANDING](#eda)\n",
    "    * [2.1 - Collect data](#du21)\n",
    "    * [2.2 - Describe data](#du22)\n",
    "    * [2.3 - Explore data](#du23)\n",
    "    * [2.4 - Verify data quality](#du24)\n",
    "\n",
    "\n",
    "* [3 - DATA PREPARATION](#ml)\n",
    "    * [3.1 - Data selection](#dp31)\n",
    "    * [3.2 - Data cleaning](#dp32)\n",
    "    * [3.3 - Feature engineering](#dp33)\n",
    "    * [3.4 - Data integration](#dp34)\n",
    "    * [3.5 - Data formatting](#dp35)\n",
    "\n",
    "\n",
    "* [4 - MODELING](#conclusiones)\n",
    "    * [4.1 - Model selection](#m41)\n",
    "    * [4.2 - Test desing](#m42)\n",
    "    * [4.3 - Model development](#m43)\n",
    "    * [4.4 - Model assessment](#m44)\n",
    "\n",
    "\n",
    "* [5 - EVALUATION](#evaluation)\n",
    "    * [5.1 - Evaluate results](#e51)\n",
    "    * [5.2 - Review process](#e52)\n",
    "    * [5.3 - Determine next steps](#e53)\n",
    "\n",
    "\n",
    "* [6 - DEPLOYMENT](#deployment)\n",
    "    * [6.1 - Deployment](#d61)\n",
    "    * [6.2 - Monitoring and maintenance](#d62)\n",
    "    * [6.3 - Final report](#d63)\n",
    "    * [6.4 - Review](#d64)"
   ]
  },
  {
   "cell_type": "markdown",
   "metadata": {},
   "source": [
    "___"
   ]
  },
  {
   "cell_type": "markdown",
   "metadata": {
    "ExecuteTime": {
     "end_time": "2020-10-03T16:40:42.562435Z",
     "start_time": "2020-10-03T16:40:42.556456Z"
    },
    "tags": []
   },
   "source": [
    "<a id='pensando' />\n",
    "\n",
    "# 1. Business Understanding ⁉️\n",
    "[(back to top)](#contents)"
   ]
  },
  {
   "cell_type": "markdown",
   "metadata": {
    "tags": []
   },
   "source": [
    "\n",
    "\n",
    "Abstract: The data is related with direct marketing campaigns (phone calls) of a Portuguese banking institution. The classification goal is to predict if the client will subscribe a term deposit (variable y).\n",
    "\n",
    "Data Set Information: The data is related with direct marketing campaigns of a Portuguese banking institution. The marketing campaigns were based on phone calls. Often, more than one contact to the same client was required, in order to access if the product (bank term deposit) would be ('yes') or not ('no') subscribed."
   ]
  },
  {
   "cell_type": "markdown",
   "metadata": {},
   "source": [
    "<a id='bu11' />\n",
    "\n",
    "## 1.1 - Determinate business question and objective\n",
    "[(back to top)](#contents)"
   ]
  },
  {
   "cell_type": "markdown",
   "metadata": {},
   "source": [
    "As we says in last lines we need classified if the producto would be yes or not surcribed. Our main goal is make a model with 80 of accurracy. "
   ]
  },
  {
   "cell_type": "markdown",
   "metadata": {},
   "source": [
    "<a id='bu12' />\n",
    "\n",
    "## 1.2 - Situation assessment\n",
    "[(back to top)](#contents)"
   ]
  },
  {
   "cell_type": "markdown",
   "metadata": {},
   "source": [
    "The resources were obtained from [UCI](https://archive.ics.uci.edu/ml/datasets/Bank+Marketing#) and [Kaggle](https://www.kaggle.com/code/henriqueyamahata/bank-marketing-classification-roc-f1-recall/notebook) \n",
    "\n",
    "The project does not require costs other than the hours spent on it, nor should paid tools be used on the scale carried out. As this is an open dataset provided by the University of Cakufirbua, the data can be accessed free of charge. We run the risk of not having a data set that includes more periods.\n",
    "\n",
    "As a contingency against this risk, a project can be developed for other banks and search for coincidences.\n"
   ]
  },
  {
   "cell_type": "markdown",
   "metadata": {},
   "source": [
    "<a id='bu13' />\n",
    "\n",
    "## 1.3 - Determine the project goals\n",
    "[(back to top)](#contents)"
   ]
  },
  {
   "cell_type": "markdown",
   "metadata": {},
   "source": [
    "El objetivo del proyecto lo vamos a definir en subobjetivos:\n",
    "\n",
    "- Objetivo 1: Entender el problema de negocio e identificar los elementos a ser considerados para el planteamiento de un Modelo de Data Science.\n",
    "\n",
    "- Objetivo 2: Describir los datos de negocio y las relaciones entre datos mediante el Análisis Exploratorio de Datos.\n",
    "\n",
    "- Objetivo 3: Elegir el algoritmo de entrenamiento y preparar los datos para el proceso de entrenamiento del modelo.\n",
    "\n",
    "- Objetivo 4: Evaluar los indicadores de desempeño predictivo del modelo y realizar optimizaciones.\n",
    "\n",
    "- Objetivo 5: Construir una presentación ejecutiva para la alta gerencia mostrando los resultados del modelo."
   ]
  },
  {
   "cell_type": "markdown",
   "metadata": {},
   "source": [
    "<a id='bu14' />\n",
    "\n",
    "## 1.4 - Project Plan\n",
    "[(back to top)](#contents)"
   ]
  },
  {
   "cell_type": "markdown",
   "metadata": {},
   "source": [
    "**Tecnologias**: Jupuyter Notebook, Visual Studio Code, Python, Collab, Github. \n",
    "\n",
    "**Framework**: Metodologia CRISP DM\n",
    "\n",
    "**Fecha de inicio**: 01/04/2022\n",
    "\n",
    "**Fecha de fin**: 05/07/2022\n",
    "\n",
    "\n",
    " **Phase**              | **Time** | **Resources/Talent** | **Risk** |                                      |   |   |   |   |   \n",
    "------------------------|----------|----------------------|----------|--------------------------------------|---|---|---|---|\n",
    " 1 Business understanding | 1 week   | All analysts         | Management change                               |   |   |   |   |  \n",
    " 2 Data understanding     | 3 week   | Data Scientists      | Data / technology problems                      |   |   |   |   |\n",
    " 3 Data preparation       | 5 week   | Data Scientists      | Data / technology problems                      |   |   |   |   |\n",
    " 4 Modeling               | 2 week   | Data Scientists      | Inability to build adequate model               |   |   |   |   |\n",
    " 5 Evaluation             | 1 week   | Data Scientists      | Economic change, inability to implement results |   |   |   |   |\n",
    " 6 Deployment             | 1 week   | Implementation team  | Economic change, inability to implement results |   |   |   |   |"
   ]
  },
  {
   "cell_type": "markdown",
   "metadata": {},
   "source": [
    "---"
   ]
  },
  {
   "cell_type": "markdown",
   "metadata": {
    "ExecuteTime": {
     "end_time": "2020-10-03T16:41:37.935073Z",
     "start_time": "2020-10-03T16:41:37.929129Z"
    }
   },
   "source": [
    "<a id='eda' />\n",
    "\n",
    "# 2. Data Understanding 🔍\n",
    "[(back to top)](#contents)"
   ]
  },
  {
   "cell_type": "markdown",
   "metadata": {
    "tags": []
   },
   "source": [
    "In this stage we seek to know the data, structure, distribution and quality of the same. To begin with, we are going to analyze the provided dataset.\n",
    "\n"
   ]
  },
  {
   "cell_type": "markdown",
   "metadata": {},
   "source": [
    "<a id='du21' />\n",
    "\n",
    "## 2.1 - Collect data\n",
    "[(back to top)](#contents)"
   ]
  },
  {
   "cell_type": "markdown",
   "metadata": {},
   "source": [
    "Loading dataset.."
   ]
  },
  {
   "cell_type": "code",
   "execution_count": 1,
   "metadata": {},
   "outputs": [
    {
     "ename": "ModuleNotFoundError",
     "evalue": "No module named 'funpymodeling'",
     "output_type": "error",
     "traceback": [
      "\u001b[0;31m---------------------------------------------------------------------------\u001b[0m",
      "\u001b[0;31mModuleNotFoundError\u001b[0m                       Traceback (most recent call last)",
      "\u001b[1;32m/home/nr600/Documents/Projects/Information_Technology/nyc_taxi_ml/NYC_TAXI_ML.ipynb Cell 20\u001b[0m line \u001b[0;36m3\n\u001b[1;32m      <a href='vscode-notebook-cell:/home/nr600/Documents/Projects/Information_Technology/nyc_taxi_ml/NYC_TAXI_ML.ipynb#X31sZmlsZQ%3D%3D?line=0'>1</a>\u001b[0m \u001b[39mimport\u001b[39;00m \u001b[39mpandas\u001b[39;00m \u001b[39mas\u001b[39;00m \u001b[39mpd\u001b[39;00m\n\u001b[1;32m      <a href='vscode-notebook-cell:/home/nr600/Documents/Projects/Information_Technology/nyc_taxi_ml/NYC_TAXI_ML.ipynb#X31sZmlsZQ%3D%3D?line=1'>2</a>\u001b[0m \u001b[39mimport\u001b[39;00m \u001b[39mnumpy\u001b[39;00m \u001b[39mas\u001b[39;00m \u001b[39mnp\u001b[39;00m\n\u001b[0;32m----> <a href='vscode-notebook-cell:/home/nr600/Documents/Projects/Information_Technology/nyc_taxi_ml/NYC_TAXI_ML.ipynb#X31sZmlsZQ%3D%3D?line=2'>3</a>\u001b[0m \u001b[39mfrom\u001b[39;00m \u001b[39mfunpymodeling\u001b[39;00m\u001b[39m.\u001b[39;00m\u001b[39mexploratory\u001b[39;00m \u001b[39mimport\u001b[39;00m profiling_num \n\u001b[1;32m      <a href='vscode-notebook-cell:/home/nr600/Documents/Projects/Information_Technology/nyc_taxi_ml/NYC_TAXI_ML.ipynb#X31sZmlsZQ%3D%3D?line=4'>5</a>\u001b[0m \u001b[39mimport\u001b[39;00m \u001b[39mcsv\u001b[39;00m\n",
      "\u001b[0;31mModuleNotFoundError\u001b[0m: No module named 'funpymodeling'"
     ]
    }
   ],
   "source": [
    "import pandas as pd\n",
    "import numpy as np\n",
    "#from funpymodeling.exploratory import profiling_num \n",
    "\n",
    "import csv"
   ]
  },
  {
   "cell_type": "code",
   "execution_count": null,
   "metadata": {},
   "outputs": [
    {
     "name": "stdout",
     "output_type": "stream",
     "text": [
      "   VendorID tpep_pickup_datetime tpep_dropoff_datetime  passenger_count  \\\n",
      "0         1  2022-05-01 00:00:36   2022-05-01 00:19:18              1.0   \n",
      "1         1  2022-05-01 00:27:44   2022-05-01 00:41:33              1.0   \n",
      "2         1  2022-05-01 00:59:00   2022-05-01 01:14:22              1.0   \n",
      "3         1  2022-05-01 00:48:18   2022-05-01 01:28:02              1.0   \n",
      "4         1  2022-05-01 00:28:26   2022-05-01 00:37:49              1.0   \n",
      "\n",
      "   trip_distance  RatecodeID store_and_fwd_flag  PULocationID  DOLocationID  \\\n",
      "0            4.1         1.0                  N           246           151   \n",
      "1            2.3         1.0                  N           238            74   \n",
      "2            4.2         1.0                  N           163           260   \n",
      "3            0.0         1.0                  N            79           182   \n",
      "4            1.6         1.0                  N           238            75   \n",
      "\n",
      "   payment_type  fare_amount  extra  mta_tax  tip_amount  tolls_amount  \\\n",
      "0             2         17.0    3.0      0.5        0.00           0.0   \n",
      "1             2         11.0    3.0      0.5        0.00           0.0   \n",
      "2             2         15.5    3.0      0.5        0.00           0.0   \n",
      "3             1         41.2    0.0      0.5        0.00           0.0   \n",
      "4             1          7.5    3.0      0.5        2.25           0.0   \n",
      "\n",
      "   improvement_surcharge  total_amount  congestion_surcharge  airport_fee  \n",
      "0                    0.3         20.80                   2.5          0.0  \n",
      "1                    0.3         14.80                   2.5          0.0  \n",
      "2                    0.3         19.30                   2.5          0.0  \n",
      "3                    0.3         42.00                   0.0          0.0  \n",
      "4                    0.3         13.55                   2.5          0.0  \n"
     ]
    }
   ],
   "source": [
    "# Specify the GitHub URL of the Parquet file\n",
    "github_url = 'https://github.com/Dotto-Luis/Projects/raw/main/Information_Technology/NYCTaxiFarePrediction/yellow_tripdata_2022-05.parquet'\n",
    "\n",
    "# Read the Parquet file directly from the GitHub URL using pandas\n",
    "df = pd.read_parquet(github_url)\n",
    "\n",
    "# Now, you can work with the DataFrame 'df' in your Jupyter Notebook\n",
    "print(df.head())"
   ]
  },
  {
   "cell_type": "code",
   "execution_count": null,
   "metadata": {},
   "outputs": [
    {
     "data": {
      "text/html": [
       "<div>\n",
       "<style scoped>\n",
       "    .dataframe tbody tr th:only-of-type {\n",
       "        vertical-align: middle;\n",
       "    }\n",
       "\n",
       "    .dataframe tbody tr th {\n",
       "        vertical-align: top;\n",
       "    }\n",
       "\n",
       "    .dataframe thead th {\n",
       "        text-align: right;\n",
       "    }\n",
       "</style>\n",
       "<table border=\"1\" class=\"dataframe\">\n",
       "  <thead>\n",
       "    <tr style=\"text-align: right;\">\n",
       "      <th></th>\n",
       "      <th>VendorID</th>\n",
       "      <th>tpep_pickup_datetime</th>\n",
       "      <th>tpep_dropoff_datetime</th>\n",
       "      <th>passenger_count</th>\n",
       "      <th>trip_distance</th>\n",
       "      <th>RatecodeID</th>\n",
       "      <th>store_and_fwd_flag</th>\n",
       "      <th>PULocationID</th>\n",
       "      <th>DOLocationID</th>\n",
       "      <th>payment_type</th>\n",
       "      <th>fare_amount</th>\n",
       "      <th>extra</th>\n",
       "      <th>mta_tax</th>\n",
       "      <th>tip_amount</th>\n",
       "      <th>tolls_amount</th>\n",
       "      <th>improvement_surcharge</th>\n",
       "      <th>total_amount</th>\n",
       "      <th>congestion_surcharge</th>\n",
       "      <th>airport_fee</th>\n",
       "    </tr>\n",
       "  </thead>\n",
       "  <tbody>\n",
       "    <tr>\n",
       "      <th>0</th>\n",
       "      <td>1</td>\n",
       "      <td>2022-05-01 00:00:36</td>\n",
       "      <td>2022-05-01 00:19:18</td>\n",
       "      <td>1.0</td>\n",
       "      <td>4.1</td>\n",
       "      <td>1.0</td>\n",
       "      <td>N</td>\n",
       "      <td>246</td>\n",
       "      <td>151</td>\n",
       "      <td>2</td>\n",
       "      <td>17.0</td>\n",
       "      <td>3.0</td>\n",
       "      <td>0.5</td>\n",
       "      <td>0.00</td>\n",
       "      <td>0.0</td>\n",
       "      <td>0.3</td>\n",
       "      <td>20.80</td>\n",
       "      <td>2.5</td>\n",
       "      <td>0.0</td>\n",
       "    </tr>\n",
       "    <tr>\n",
       "      <th>1</th>\n",
       "      <td>1</td>\n",
       "      <td>2022-05-01 00:27:44</td>\n",
       "      <td>2022-05-01 00:41:33</td>\n",
       "      <td>1.0</td>\n",
       "      <td>2.3</td>\n",
       "      <td>1.0</td>\n",
       "      <td>N</td>\n",
       "      <td>238</td>\n",
       "      <td>74</td>\n",
       "      <td>2</td>\n",
       "      <td>11.0</td>\n",
       "      <td>3.0</td>\n",
       "      <td>0.5</td>\n",
       "      <td>0.00</td>\n",
       "      <td>0.0</td>\n",
       "      <td>0.3</td>\n",
       "      <td>14.80</td>\n",
       "      <td>2.5</td>\n",
       "      <td>0.0</td>\n",
       "    </tr>\n",
       "    <tr>\n",
       "      <th>2</th>\n",
       "      <td>1</td>\n",
       "      <td>2022-05-01 00:59:00</td>\n",
       "      <td>2022-05-01 01:14:22</td>\n",
       "      <td>1.0</td>\n",
       "      <td>4.2</td>\n",
       "      <td>1.0</td>\n",
       "      <td>N</td>\n",
       "      <td>163</td>\n",
       "      <td>260</td>\n",
       "      <td>2</td>\n",
       "      <td>15.5</td>\n",
       "      <td>3.0</td>\n",
       "      <td>0.5</td>\n",
       "      <td>0.00</td>\n",
       "      <td>0.0</td>\n",
       "      <td>0.3</td>\n",
       "      <td>19.30</td>\n",
       "      <td>2.5</td>\n",
       "      <td>0.0</td>\n",
       "    </tr>\n",
       "    <tr>\n",
       "      <th>3</th>\n",
       "      <td>1</td>\n",
       "      <td>2022-05-01 00:48:18</td>\n",
       "      <td>2022-05-01 01:28:02</td>\n",
       "      <td>1.0</td>\n",
       "      <td>0.0</td>\n",
       "      <td>1.0</td>\n",
       "      <td>N</td>\n",
       "      <td>79</td>\n",
       "      <td>182</td>\n",
       "      <td>1</td>\n",
       "      <td>41.2</td>\n",
       "      <td>0.0</td>\n",
       "      <td>0.5</td>\n",
       "      <td>0.00</td>\n",
       "      <td>0.0</td>\n",
       "      <td>0.3</td>\n",
       "      <td>42.00</td>\n",
       "      <td>0.0</td>\n",
       "      <td>0.0</td>\n",
       "    </tr>\n",
       "    <tr>\n",
       "      <th>4</th>\n",
       "      <td>1</td>\n",
       "      <td>2022-05-01 00:28:26</td>\n",
       "      <td>2022-05-01 00:37:49</td>\n",
       "      <td>1.0</td>\n",
       "      <td>1.6</td>\n",
       "      <td>1.0</td>\n",
       "      <td>N</td>\n",
       "      <td>238</td>\n",
       "      <td>75</td>\n",
       "      <td>1</td>\n",
       "      <td>7.5</td>\n",
       "      <td>3.0</td>\n",
       "      <td>0.5</td>\n",
       "      <td>2.25</td>\n",
       "      <td>0.0</td>\n",
       "      <td>0.3</td>\n",
       "      <td>13.55</td>\n",
       "      <td>2.5</td>\n",
       "      <td>0.0</td>\n",
       "    </tr>\n",
       "  </tbody>\n",
       "</table>\n",
       "</div>"
      ],
      "text/plain": [
       "   VendorID tpep_pickup_datetime tpep_dropoff_datetime  passenger_count  \\\n",
       "0         1  2022-05-01 00:00:36   2022-05-01 00:19:18              1.0   \n",
       "1         1  2022-05-01 00:27:44   2022-05-01 00:41:33              1.0   \n",
       "2         1  2022-05-01 00:59:00   2022-05-01 01:14:22              1.0   \n",
       "3         1  2022-05-01 00:48:18   2022-05-01 01:28:02              1.0   \n",
       "4         1  2022-05-01 00:28:26   2022-05-01 00:37:49              1.0   \n",
       "\n",
       "   trip_distance  RatecodeID store_and_fwd_flag  PULocationID  DOLocationID  \\\n",
       "0            4.1         1.0                  N           246           151   \n",
       "1            2.3         1.0                  N           238            74   \n",
       "2            4.2         1.0                  N           163           260   \n",
       "3            0.0         1.0                  N            79           182   \n",
       "4            1.6         1.0                  N           238            75   \n",
       "\n",
       "   payment_type  fare_amount  extra  mta_tax  tip_amount  tolls_amount  \\\n",
       "0             2         17.0    3.0      0.5        0.00           0.0   \n",
       "1             2         11.0    3.0      0.5        0.00           0.0   \n",
       "2             2         15.5    3.0      0.5        0.00           0.0   \n",
       "3             1         41.2    0.0      0.5        0.00           0.0   \n",
       "4             1          7.5    3.0      0.5        2.25           0.0   \n",
       "\n",
       "   improvement_surcharge  total_amount  congestion_surcharge  airport_fee  \n",
       "0                    0.3         20.80                   2.5          0.0  \n",
       "1                    0.3         14.80                   2.5          0.0  \n",
       "2                    0.3         19.30                   2.5          0.0  \n",
       "3                    0.3         42.00                   0.0          0.0  \n",
       "4                    0.3         13.55                   2.5          0.0  "
      ]
     },
     "execution_count": 10,
     "metadata": {},
     "output_type": "execute_result"
    }
   ],
   "source": [
    "df.head()"
   ]
  },
  {
   "cell_type": "markdown",
   "metadata": {},
   "source": [
    "<a id='du22' />\n",
    "\n",
    "## 2.2 - Describe data\n",
    "[(back to top)](#contents)"
   ]
  },
  {
   "cell_type": "code",
   "execution_count": null,
   "metadata": {},
   "outputs": [
    {
     "data": {
      "text/plain": [
       "(3588295, 19)"
      ]
     },
     "execution_count": 11,
     "metadata": {},
     "output_type": "execute_result"
    }
   ],
   "source": [
    "df.shape"
   ]
  },
  {
   "cell_type": "code",
   "execution_count": null,
   "metadata": {},
   "outputs": [
    {
     "data": {
      "text/plain": [
       "VendorID                          int64\n",
       "tpep_pickup_datetime     datetime64[us]\n",
       "tpep_dropoff_datetime    datetime64[us]\n",
       "passenger_count                 float64\n",
       "trip_distance                   float64\n",
       "RatecodeID                      float64\n",
       "store_and_fwd_flag               object\n",
       "PULocationID                      int64\n",
       "DOLocationID                      int64\n",
       "payment_type                      int64\n",
       "fare_amount                     float64\n",
       "extra                           float64\n",
       "mta_tax                         float64\n",
       "tip_amount                      float64\n",
       "tolls_amount                    float64\n",
       "improvement_surcharge           float64\n",
       "total_amount                    float64\n",
       "congestion_surcharge            float64\n",
       "airport_fee                     float64\n",
       "dtype: object"
      ]
     },
     "execution_count": 12,
     "metadata": {},
     "output_type": "execute_result"
    }
   ],
   "source": [
    "df.dtypes"
   ]
  },
  {
   "cell_type": "code",
   "execution_count": null,
   "metadata": {},
   "outputs": [
    {
     "ename": "NameError",
     "evalue": "name 'profiling_num' is not defined",
     "output_type": "error",
     "traceback": [
      "\u001b[0;31m---------------------------------------------------------------------------\u001b[0m",
      "\u001b[0;31mNameError\u001b[0m                                 Traceback (most recent call last)",
      "\u001b[1;32m/home/nr600/Documents/Projects/Information_Technology/nyc_taxi_ml/NYC_TAXI_ML.ipynb Cell 26\u001b[0m line \u001b[0;36m1\n\u001b[0;32m----> <a href='vscode-notebook-cell:/home/nr600/Documents/Projects/Information_Technology/nyc_taxi_ml/NYC_TAXI_ML.ipynb#X40sZmlsZQ%3D%3D?line=0'>1</a>\u001b[0m profiling_num(df)\n",
      "\u001b[0;31mNameError\u001b[0m: name 'profiling_num' is not defined"
     ]
    }
   ],
   "source": [
    "#profiling_num(df)"
   ]
  },
  {
   "cell_type": "code",
   "execution_count": null,
   "metadata": {},
   "outputs": [
    {
     "data": {
      "text/html": [
       "<div>\n",
       "<style scoped>\n",
       "    .dataframe tbody tr th:only-of-type {\n",
       "        vertical-align: middle;\n",
       "    }\n",
       "\n",
       "    .dataframe tbody tr th {\n",
       "        vertical-align: top;\n",
       "    }\n",
       "\n",
       "    .dataframe thead th {\n",
       "        text-align: right;\n",
       "    }\n",
       "</style>\n",
       "<table border=\"1\" class=\"dataframe\">\n",
       "  <thead>\n",
       "    <tr style=\"text-align: right;\">\n",
       "      <th></th>\n",
       "      <th>age</th>\n",
       "      <th>duration</th>\n",
       "      <th>campaign</th>\n",
       "      <th>pdays</th>\n",
       "      <th>previous</th>\n",
       "      <th>emp.var.rate</th>\n",
       "      <th>cons.price.idx</th>\n",
       "      <th>cons.conf.idx</th>\n",
       "      <th>euribor3m</th>\n",
       "      <th>nr.employed</th>\n",
       "    </tr>\n",
       "  </thead>\n",
       "  <tbody>\n",
       "    <tr>\n",
       "      <th>count</th>\n",
       "      <td>41188.00000</td>\n",
       "      <td>41188.000000</td>\n",
       "      <td>41188.000000</td>\n",
       "      <td>41188.000000</td>\n",
       "      <td>41188.000000</td>\n",
       "      <td>41188.000000</td>\n",
       "      <td>41188.000000</td>\n",
       "      <td>41188.000000</td>\n",
       "      <td>41188.000000</td>\n",
       "      <td>41188.000000</td>\n",
       "    </tr>\n",
       "    <tr>\n",
       "      <th>mean</th>\n",
       "      <td>40.02406</td>\n",
       "      <td>258.285010</td>\n",
       "      <td>2.567593</td>\n",
       "      <td>962.475454</td>\n",
       "      <td>0.172963</td>\n",
       "      <td>0.081886</td>\n",
       "      <td>93.575664</td>\n",
       "      <td>-40.502600</td>\n",
       "      <td>3.621291</td>\n",
       "      <td>5167.035911</td>\n",
       "    </tr>\n",
       "    <tr>\n",
       "      <th>std</th>\n",
       "      <td>10.42125</td>\n",
       "      <td>259.279249</td>\n",
       "      <td>2.770014</td>\n",
       "      <td>186.910907</td>\n",
       "      <td>0.494901</td>\n",
       "      <td>1.570960</td>\n",
       "      <td>0.578840</td>\n",
       "      <td>4.628198</td>\n",
       "      <td>1.734447</td>\n",
       "      <td>72.251528</td>\n",
       "    </tr>\n",
       "    <tr>\n",
       "      <th>min</th>\n",
       "      <td>17.00000</td>\n",
       "      <td>0.000000</td>\n",
       "      <td>1.000000</td>\n",
       "      <td>0.000000</td>\n",
       "      <td>0.000000</td>\n",
       "      <td>-3.400000</td>\n",
       "      <td>92.201000</td>\n",
       "      <td>-50.800000</td>\n",
       "      <td>0.634000</td>\n",
       "      <td>4963.600000</td>\n",
       "    </tr>\n",
       "    <tr>\n",
       "      <th>25%</th>\n",
       "      <td>32.00000</td>\n",
       "      <td>102.000000</td>\n",
       "      <td>1.000000</td>\n",
       "      <td>999.000000</td>\n",
       "      <td>0.000000</td>\n",
       "      <td>-1.800000</td>\n",
       "      <td>93.075000</td>\n",
       "      <td>-42.700000</td>\n",
       "      <td>1.344000</td>\n",
       "      <td>5099.100000</td>\n",
       "    </tr>\n",
       "    <tr>\n",
       "      <th>50%</th>\n",
       "      <td>38.00000</td>\n",
       "      <td>180.000000</td>\n",
       "      <td>2.000000</td>\n",
       "      <td>999.000000</td>\n",
       "      <td>0.000000</td>\n",
       "      <td>1.100000</td>\n",
       "      <td>93.749000</td>\n",
       "      <td>-41.800000</td>\n",
       "      <td>4.857000</td>\n",
       "      <td>5191.000000</td>\n",
       "    </tr>\n",
       "    <tr>\n",
       "      <th>75%</th>\n",
       "      <td>47.00000</td>\n",
       "      <td>319.000000</td>\n",
       "      <td>3.000000</td>\n",
       "      <td>999.000000</td>\n",
       "      <td>0.000000</td>\n",
       "      <td>1.400000</td>\n",
       "      <td>93.994000</td>\n",
       "      <td>-36.400000</td>\n",
       "      <td>4.961000</td>\n",
       "      <td>5228.100000</td>\n",
       "    </tr>\n",
       "    <tr>\n",
       "      <th>max</th>\n",
       "      <td>98.00000</td>\n",
       "      <td>4918.000000</td>\n",
       "      <td>56.000000</td>\n",
       "      <td>999.000000</td>\n",
       "      <td>7.000000</td>\n",
       "      <td>1.400000</td>\n",
       "      <td>94.767000</td>\n",
       "      <td>-26.900000</td>\n",
       "      <td>5.045000</td>\n",
       "      <td>5228.100000</td>\n",
       "    </tr>\n",
       "  </tbody>\n",
       "</table>\n",
       "</div>"
      ],
      "text/plain": [
       "               age      duration      campaign         pdays      previous  \\\n",
       "count  41188.00000  41188.000000  41188.000000  41188.000000  41188.000000   \n",
       "mean      40.02406    258.285010      2.567593    962.475454      0.172963   \n",
       "std       10.42125    259.279249      2.770014    186.910907      0.494901   \n",
       "min       17.00000      0.000000      1.000000      0.000000      0.000000   \n",
       "25%       32.00000    102.000000      1.000000    999.000000      0.000000   \n",
       "50%       38.00000    180.000000      2.000000    999.000000      0.000000   \n",
       "75%       47.00000    319.000000      3.000000    999.000000      0.000000   \n",
       "max       98.00000   4918.000000     56.000000    999.000000      7.000000   \n",
       "\n",
       "       emp.var.rate  cons.price.idx  cons.conf.idx     euribor3m   nr.employed  \n",
       "count  41188.000000    41188.000000   41188.000000  41188.000000  41188.000000  \n",
       "mean       0.081886       93.575664     -40.502600      3.621291   5167.035911  \n",
       "std        1.570960        0.578840       4.628198      1.734447     72.251528  \n",
       "min       -3.400000       92.201000     -50.800000      0.634000   4963.600000  \n",
       "25%       -1.800000       93.075000     -42.700000      1.344000   5099.100000  \n",
       "50%        1.100000       93.749000     -41.800000      4.857000   5191.000000  \n",
       "75%        1.400000       93.994000     -36.400000      4.961000   5228.100000  \n",
       "max        1.400000       94.767000     -26.900000      5.045000   5228.100000  "
      ]
     },
     "execution_count": 8,
     "metadata": {},
     "output_type": "execute_result"
    }
   ],
   "source": [
    "df.describe()"
   ]
  },
  {
   "cell_type": "markdown",
   "metadata": {},
   "source": [
    "<a id='du23' />\n",
    "\n",
    "## 2.3 - Explore data\n",
    "[(back to top)](#contents)"
   ]
  },
  {
   "cell_type": "code",
   "execution_count": null,
   "metadata": {},
   "outputs": [
    {
     "data": {
      "text/plain": [
       "age               41188\n",
       "job               41188\n",
       "marital           41188\n",
       "education         41188\n",
       "default           41188\n",
       "housing           41188\n",
       "loan              41188\n",
       "contact           41188\n",
       "month             41188\n",
       "day_of_week       41188\n",
       "duration          41188\n",
       "campaign          41188\n",
       "pdays             41188\n",
       "previous          41188\n",
       "poutcome          41188\n",
       "emp.var.rate      41188\n",
       "cons.price.idx    41188\n",
       "cons.conf.idx     41188\n",
       "euribor3m         41188\n",
       "nr.employed       41188\n",
       "y                 41188\n",
       "dtype: int64"
      ]
     },
     "execution_count": 11,
     "metadata": {},
     "output_type": "execute_result"
    }
   ],
   "source": [
    "df.count()"
   ]
  },
  {
   "cell_type": "markdown",
   "metadata": {},
   "source": [
    "Let's analyze our dataset with three different analysis:\n",
    "\n",
    "- Univariate\n",
    "- Bivariate\n",
    "- Multivariate"
   ]
  },
  {
   "cell_type": "markdown",
   "metadata": {},
   "source": [
    "### 2.3.1 Analisis Univariado"
   ]
  },
  {
   "cell_type": "code",
   "execution_count": null,
   "metadata": {},
   "outputs": [],
   "source": []
  },
  {
   "cell_type": "code",
   "execution_count": null,
   "metadata": {},
   "outputs": [],
   "source": []
  },
  {
   "cell_type": "markdown",
   "metadata": {
    "tags": []
   },
   "source": [
    "### 2.3.2 Analisis Bivariado"
   ]
  },
  {
   "cell_type": "code",
   "execution_count": null,
   "metadata": {},
   "outputs": [],
   "source": []
  },
  {
   "cell_type": "code",
   "execution_count": null,
   "metadata": {},
   "outputs": [],
   "source": []
  },
  {
   "cell_type": "markdown",
   "metadata": {},
   "source": [
    "### 2.3.3 Analisis Multivariado"
   ]
  },
  {
   "cell_type": "code",
   "execution_count": null,
   "metadata": {},
   "outputs": [],
   "source": []
  },
  {
   "cell_type": "code",
   "execution_count": null,
   "metadata": {},
   "outputs": [],
   "source": []
  },
  {
   "cell_type": "markdown",
   "metadata": {},
   "source": [
    "<a id='du24' />\n",
    "\n",
    "## 2.4 - Verify data quality\n"
   ]
  },
  {
   "cell_type": "markdown",
   "metadata": {},
   "source": [
    "[(back to top)](#contents)"
   ]
  },
  {
   "cell_type": "markdown",
   "metadata": {},
   "source": [
    "How is your data quality? Many missing values? Is the data collection appropriate enough?. Make sure that the data is past your quality threshold."
   ]
  },
  {
   "cell_type": "markdown",
   "metadata": {},
   "source": [
    "---"
   ]
  },
  {
   "cell_type": "markdown",
   "metadata": {
    "ExecuteTime": {
     "end_time": "2020-10-03T16:42:04.821924Z",
     "start_time": "2020-10-03T16:42:04.815942Z"
    }
   },
   "source": [
    "<a id='ml' />\n",
    "\n",
    "# 3. Data Preparation 🗄️\n",
    "[(back to top)](#contents)"
   ]
  },
  {
   "cell_type": "markdown",
   "metadata": {},
   "source": [
    "After you understand the data you have, it is time for the Data Preparation. This phase is what we did to prepare the data for the modeling phase. "
   ]
  },
  {
   "cell_type": "markdown",
   "metadata": {},
   "source": [
    "<a id='dp31' />\n",
    "\n",
    "## 3.1 - Data selection\n",
    "[(back to top)](#contents)"
   ]
  },
  {
   "cell_type": "markdown",
   "metadata": {},
   "source": [
    "Selecting the dataset, columns, and/or rows you would use. When you exclude data, make sure you have a valid explanation. The way you filter data should reflect the business question as well."
   ]
  },
  {
   "cell_type": "markdown",
   "metadata": {},
   "source": [
    "<a id='dp32' />\n",
    "\n",
    "## 3.2 - Data cleaning\n",
    "[(back to top)](#contents)"
   ]
  },
  {
   "cell_type": "markdown",
   "metadata": {},
   "source": [
    "Garbage-in, garbage-out — what happens if you did not clean the data properly. This is the task when you need to make sure your data is right. Cleaning data takes a lot of preparation and data understanding — you need a reason to correct data or impute new data. Your data science project should explain the steps you take to clean the data in detail. For me personally, I would take a closer look at this task when I am looking at the candidate."
   ]
  },
  {
   "cell_type": "markdown",
   "metadata": {},
   "source": [
    "<a id='dp33' />\n",
    "\n",
    "## 3.3 - Data engineering\n",
    "[(back to top)](#contents)"
   ]
  },
  {
   "cell_type": "markdown",
   "metadata": {
    "tags": []
   },
   "source": [
    "Feature engineering you might think interesting or helpful. Try to be creative when creating new data from existing data."
   ]
  },
  {
   "cell_type": "markdown",
   "metadata": {},
   "source": [
    "<a id='dp34' />\n",
    "\n",
    "## 3.4 - Data integration\n",
    "[(back to top)](#contents)"
   ]
  },
  {
   "cell_type": "markdown",
   "metadata": {
    "tags": []
   },
   "source": [
    "New data set from combining two or more data sets. It might be a lot harder to acquire the dataset from free resources, but it is possible."
   ]
  },
  {
   "cell_type": "markdown",
   "metadata": {},
   "source": [
    "<a id='dp35' />\n",
    "\n",
    "## 3.5 - Data formatting\n",
    "[(back to top)](#contents)"
   ]
  },
  {
   "cell_type": "markdown",
   "metadata": {},
   "source": [
    "Formatting data when you need it. For example, convert the categorical value into numerical value or vice versa. Don’t forget to state your reasoning."
   ]
  },
  {
   "cell_type": "markdown",
   "metadata": {},
   "source": [
    "---"
   ]
  },
  {
   "cell_type": "markdown",
   "metadata": {},
   "source": [
    "<a id='conclusiones' />\n",
    "\n",
    "# 4. Modeling 🏗️\n",
    "[(back to top)](#contents)"
   ]
  },
  {
   "cell_type": "markdown",
   "metadata": {},
   "source": [
    "\n",
    "El objetivo último de esta fase es construir un modelo que nos permita alcanzar los objetivos del proyecto.\n",
    "\n",
    "En esta fase deberemos ser capaces de:\n",
    "\n",
    "Seleccionar las técnicas de modelado más adecuadas para nuestro juego de datos y nuestros objetivos.\n",
    "Fijar una estrategia de veriﬁcación de la calidad del modelo.\n",
    "Construir un modelo a partir de la aplicación de las técnicas seleccionadas sobre el juego de datos.\n",
    "Ajustar el modelo evaluando su ﬁabilidad y su impacto en los objetivos anteriormente establecidos.\n",
    "Nos encontramos ante un problema de clasificación. Aplicaremos un método de aprendizaje supervisado, concretamente el clasificador RandomForest, para predecir el diagnóstico de cáncer de mama (tumor benigno o maligno), usando el conjunto de datos original con todos los atributos.\n",
    "\n",
    "Dividimos las observaciones en un conjunto de entrenamiento para construir el modelo y otro conjunto de test para evaluarlo. Para ello, a partir de dataset inicial tomaremos el 75% de las observaciones junto con su etiqueta de clase asociada para el conjunto de entrenamiento. El 25% restante se asignan al conjunto de test.\n",
    "\n",
    "La implementación la realizaremos en Python, utilizando la librería sckit-learn.\n"
   ]
  },
  {
   "cell_type": "markdown",
   "metadata": {},
   "source": [
    "For many data enthusiasts out there, the Modeling phase might be the most exciting — well, it is. However, this phase is shorter compared to the other phase we just passed previously. In this phase, we would develop our machine learning model/product to answer the business question."
   ]
  },
  {
   "cell_type": "markdown",
   "metadata": {},
   "source": [
    "<a id='m41' />\n",
    "\n",
    "## 4.1 - Model selection\n",
    "[(back to top)](#contents)"
   ]
  },
  {
   "cell_type": "markdown",
   "metadata": {},
   "source": [
    "Using which machine learning algorithms to try. You might want to experiment with many models. It would be desirable if you could explain why you select a certain algorithm."
   ]
  },
  {
   "cell_type": "markdown",
   "metadata": {},
   "source": [
    "<a id='m42' />\n",
    "\n",
    "## 4.2 - Test desing\n",
    "[(back to top)](#contents)"
   ]
  },
  {
   "cell_type": "markdown",
   "metadata": {},
   "source": [
    "Design your modeling test design by splitting the data into training, test, validation sets, or cross-validation. Justify the reason for how you design the test."
   ]
  },
  {
   "cell_type": "markdown",
   "metadata": {},
   "source": [
    "<a id='m43' />\n",
    "\n",
    "## 4.3 - Model development\n",
    "[(back to top)](#contents)"
   ]
  },
  {
   "cell_type": "markdown",
   "metadata": {},
   "source": [
    "Fit your model using the data you have prepared. Manage your resources well here — it might take a long time, depend on your data and your experiment design. The development should consider how the business question and industrial scene would be as well, such as “Would the model I develop is possible in the business,” “Is the resources I need to develop this model is costly?” etc."
   ]
  },
  {
   "cell_type": "markdown",
   "metadata": {},
   "source": [
    "<a id='m44' />\n",
    "\n",
    "## 4.4 - Model assessment\n",
    "[(back to top)](#contents)"
   ]
  },
  {
   "cell_type": "markdown",
   "metadata": {},
   "source": [
    "Set your success technical metrics and choose the best model(s) viable for solving the business question. Try to explain why you decide on certain metrics and why not the other."
   ]
  },
  {
   "cell_type": "markdown",
   "metadata": {},
   "source": [
    "---"
   ]
  },
  {
   "cell_type": "markdown",
   "metadata": {},
   "source": [
    "<a id='evaluation' />\n",
    "\n",
    "# 5. Evaluation 📊\n",
    "[(back to top)](#contents)"
   ]
  },
  {
   "cell_type": "markdown",
   "metadata": {},
   "source": [
    "En esta fase nos centrarnos en evaluar el grado de acercamiento del modelo a los objetivos de negocio.\n",
    "\n",
    "En esta fase deberemos ser capaces de:\n",
    "\n",
    "Evaluar el modelo o modelos generados hasta el momento.\n",
    "Revisar todo el proceso de minería de datos que nos ha llevado hasta este punto.\n",
    "Establecer los siguientes pasos a tomar, tanto si se trata de repetir fases anteriores como si se trata de abrir nuevas líneas de investigación.\n",
    "Siguiendo nuestro ejemplo, para la evaluación del modelo calcularemos una serie de métricas sobre un conjunto de datos (conjunto de test) que el modelo no conoce. Métricas habituales son la precisión (accuracy), sensibilidad y F-score:"
   ]
  },
  {
   "cell_type": "markdown",
   "metadata": {},
   "source": [
    "The Evaluation phase is different from the Modeling technical evaluation. This phase evaluates the model concerning the business indicator and what to do next."
   ]
  },
  {
   "cell_type": "markdown",
   "metadata": {},
   "source": [
    "<a id='e51' />\n",
    "\n",
    "## 5.1 - Evaluate results\n",
    "[(back to top)](#contents)"
   ]
  },
  {
   "cell_type": "markdown",
   "metadata": {},
   "source": [
    "Would the business success criteria be met using your model? which model(s) would you choose?. This is the phase when you should explain how your model would help the business. Explain it as realistic as possible, and don’t use too much technical jargon that people outside of the data world could understand."
   ]
  },
  {
   "cell_type": "markdown",
   "metadata": {},
   "source": [
    "<a id='e52' />\n",
    "\n",
    "## 5.2 - Review process\n",
    "[(back to top)](#contents)"
   ]
  },
  {
   "cell_type": "markdown",
   "metadata": {},
   "source": [
    "Review your work process. Was anything missing? Need more time? Were all phases executed? Try to Summarize your findings and correct anything if required. Your first data science project iteration did not need to be the perfect one. Learning from the mistake is part of the process and what the company wants to see as well."
   ]
  },
  {
   "cell_type": "markdown",
   "metadata": {},
   "source": [
    "<a id='e53' />\n",
    "\n",
    "## 5.3 - Determine next steps\n",
    "[(back to top)](#contents)"
   ]
  },
  {
   "cell_type": "markdown",
   "metadata": {},
   "source": [
    "Based on the previous tasks, decide if the model is ready for deployment, needs more iteration, or just creates a new project."
   ]
  },
  {
   "cell_type": "markdown",
   "metadata": {},
   "source": [
    "---"
   ]
  },
  {
   "cell_type": "markdown",
   "metadata": {},
   "source": [
    "<a id='deployment' />\n",
    "\n",
    "# 6. Deployment 📜\n",
    "[(back to top)](#contents)"
   ]
  },
  {
   "cell_type": "markdown",
   "metadata": {},
   "source": [
    "El objetivo último de esta fase es realizar el despliegue de los resultados obtenidos de forma que sea propagado a los usuarios finales así como el mantenimiento del mismo una vez el despliegue haya finalizado.\n",
    "\n",
    "En esta fase deberemos ser capaces de:\n",
    "\n",
    "Diseñar un plan de despliegue de modelos y conocimiento sobre nuestra organización.\n",
    "Realizar seguimiento y mantenimiento de la parte más operativa del despliegue.\n",
    "Revisar el proyecto en su globalidad con el objetivo de identiﬁcar lecciones aprendidas.\n",
    "Siguiendo con nuestro ejemplo el despliegue de la solución implicaría tareas como:\n",
    "\n",
    "Implantación de un sistema de captura digital de la imagen de anatomía patológica.\n",
    "Implantación de software de clasificación automática de tejidos de cáncer de mama.\n",
    "Integración con el software del laboratorio de anatomía patológica.\n",
    "Implantación de nuevos procedimientos operativos del laboratorio de anatomía patológica.\n",
    "Monitorización del funcionamiento del nuevo sistema y grado de adherencia de los usuarios al mismo.\n",
    "Medición del grado de precisión diagnóstica y la eficiencia del laboratorio tras la puesta en marcha del sistema."
   ]
  },
  {
   "cell_type": "markdown",
   "metadata": {},
   "source": [
    "You might have the best model in the world, but if your user/customer could not access the model result, it is useless. This phase might seem too much for a fresher, but if you could build a realistic enough concept, it would score you many points with the company. "
   ]
  },
  {
   "cell_type": "markdown",
   "metadata": {},
   "source": [
    "<a id='d61' />\n",
    "\n",
    "## 6.1 - Deployment \n",
    "[(back to top)](#contents)"
   ]
  },
  {
   "cell_type": "markdown",
   "metadata": {},
   "source": [
    "How would you like to deploy the model? How is the result presented or delivered? Try to plan and document the process."
   ]
  },
  {
   "cell_type": "markdown",
   "metadata": {},
   "source": [
    "<a id='d62' />\n",
    "\n",
    "## 6.2 - Monitoring and maintenance \n",
    "[(back to top)](#contents)"
   ]
  },
  {
   "cell_type": "markdown",
   "metadata": {},
   "source": [
    "What is the monitoring and maintenance plan going to be like? Monitoring the result and maintaining the model quality is as important as any other phase. Businesses don’t want the model to become a burden."
   ]
  },
  {
   "cell_type": "markdown",
   "metadata": {},
   "source": [
    "<a id='d63' />\n",
    "\n",
    "## 6.3 - Final report\n",
    "[(back to top)](#contents)"
   ]
  },
  {
   "cell_type": "markdown",
   "metadata": {},
   "source": [
    "Conclude the project by creating the summary report, create the presentation, and try to present it to someone you know."
   ]
  },
  {
   "cell_type": "markdown",
   "metadata": {},
   "source": [
    "<a id='d64' />\n",
    "\n",
    "## 6.4 - Review \n",
    "[(back to top)](#contents)"
   ]
  },
  {
   "cell_type": "markdown",
   "metadata": {},
   "source": [
    "Review the project by thinking about what is good, what you could improve, and what you think is lacking. Determine if the project needs more iteration or only needs frequent maintenance."
   ]
  },
  {
   "cell_type": "markdown",
   "metadata": {},
   "source": [
    "---"
   ]
  },
  {
   "cell_type": "markdown",
   "metadata": {
    "tags": []
   },
   "source": [
    "#### *References*"
   ]
  },
  {
   "cell_type": "markdown",
   "metadata": {},
   "source": [
    "* https://towardsdatascience.com/crisp-dm-methodology-for-your-first-data-science-project-769f35e0346c"
   ]
  },
  {
   "cell_type": "markdown",
   "metadata": {},
   "source": [
    "* https://www.datascience-pm.com/crisp-dm-2/"
   ]
  },
  {
   "cell_type": "markdown",
   "metadata": {},
   "source": [
    "* https://medium.com/@eiki1212/eda-data-mining-workflow-for-data-science-82b70d67f4ac"
   ]
  },
  {
   "cell_type": "code",
   "execution_count": null,
   "metadata": {},
   "outputs": [],
   "source": []
  }
 ],
 "metadata": {
  "kernelspec": {
   "display_name": "Python 3 (ipykernel)",
   "language": "python",
   "name": "python3"
  },
  "language_info": {
   "codemirror_mode": {
    "name": "ipython",
    "version": 3
   },
   "file_extension": ".py",
   "mimetype": "text/x-python",
   "name": "python",
   "nbconvert_exporter": "python",
   "pygments_lexer": "ipython3",
   "version": "3.8.12"
  },
  "varInspector": {
   "cols": {
    "lenName": 16,
    "lenType": 16,
    "lenVar": 40
   },
   "kernels_config": {
    "python": {
     "delete_cmd_postfix": "",
     "delete_cmd_prefix": "del ",
     "library": "var_list.py",
     "varRefreshCmd": "print(var_dic_list())"
    },
    "r": {
     "delete_cmd_postfix": ") ",
     "delete_cmd_prefix": "rm(",
     "library": "var_list.r",
     "varRefreshCmd": "cat(var_dic_list()) "
    }
   },
   "types_to_exclude": [
    "module",
    "function",
    "builtin_function_or_method",
    "instance",
    "_Feature"
   ],
   "window_display": false
  }
 },
 "nbformat": 4,
 "nbformat_minor": 4
}
