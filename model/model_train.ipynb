{
 "cells": [
  {
   "cell_type": "markdown",
   "metadata": {},
   "source": [
    "# NYC Taxi Fare & Duration\n",
    "## Model Training"
   ]
  },
  {
   "cell_type": "code",
   "execution_count": 1,
   "metadata": {},
   "outputs": [],
   "source": [
    "%load_ext autoreload\n",
    "%autoreload 2"
   ]
  },
  {
   "cell_type": "code",
   "execution_count": 2,
   "metadata": {},
   "outputs": [],
   "source": [
    "import os\n",
    "import sys\n",
    "import matplotlib.pyplot as plt\n",
    "import pandas as pd\n",
    "import numpy as np\n",
    "import wget\n",
    "import pickle\n",
    "\n",
    "sys.path.append(\"..\")\n",
    "\n",
    "import source.configs as configs\n",
    "import preprocessing as preprocessing\n",
    "\n",
    "# Check if we are in COLAB\n",
    "IN_COLAB = 'google.colab' in sys.modules"
   ]
  },
  {
   "cell_type": "code",
   "execution_count": 3,
   "metadata": {},
   "outputs": [],
   "source": [
    "if not os.path.exists(\"../dataset/yellow_tripdata_2022-05.parquet\"):\n",
    "    if IN_COLAB:\n",
    "        !wget https://d37ci6vzurychx.cloudfront.net/trip-data/yellow_tripdata_2022-05.parquet \"../dataset\"\n",
    "    else:\n",
    "        wget.download(configs.START_DATASET_URL, \"../dataset\")"
   ]
  },
  {
   "cell_type": "code",
   "execution_count": 4,
   "metadata": {},
   "outputs": [],
   "source": [
    "dataset = pd.read_parquet(\"../dataset/yellow_tripdata_2022-05.parquet\")"
   ]
  },
  {
   "cell_type": "code",
   "execution_count": 5,
   "metadata": {},
   "outputs": [],
   "source": [
    "dataset = preprocessing.add_features(dataset)\n",
    "dataset = preprocessing.add_targets(dataset)\n",
    "dataset = preprocessing.process_outliers(dataset, \"delete\")\n",
    "dataset = preprocessing.fill_na_values(dataset)"
   ]
  },
  {
   "cell_type": "markdown",
   "metadata": {},
   "source": [
    "### Features\n",
    "* trip_distance\n",
    "* hour_of_day: Extracted from tpep_pickup_datetime\n",
    "* hour_zone: Extracted from tpep_pickup_datetime. Categorical:[Morning, Noon, Afternoon, Evening, Night]\n",
    "* rush_hour: Extracted from tpep_pickup_datetime. Binary.\n",
    "### Targets\n",
    "* fare_amount\n",
    "* trip_duration"
   ]
  },
  {
   "cell_type": "code",
   "execution_count": 6,
   "metadata": {},
   "outputs": [],
   "source": [
    "columns = preprocessing.features + preprocessing.targets\n",
    "train_dataset = preprocessing.select_features(dataset, columns)\n",
    "train_dataset, encoders = preprocessing.create_one_hot_encodings(train_dataset, columns)\n",
    "pickle.dump(encoders, open('encoders.pkl', 'wb'))"
   ]
  },
  {
   "cell_type": "code",
   "execution_count": 7,
   "metadata": {},
   "outputs": [
    {
     "data": {
      "text/plain": [
       "['trip_distance',\n",
       " 'hour_of_day',\n",
       " 'rush_hour',\n",
       " 'fare_amount',\n",
       " 'trip_duration',\n",
       " 'day_of_week_0',\n",
       " 'day_of_week_1',\n",
       " 'day_of_week_2',\n",
       " 'day_of_week_3',\n",
       " 'day_of_week_4',\n",
       " 'day_of_week_5',\n",
       " 'day_of_week_6',\n",
       " 'hour_zone_afternoon',\n",
       " 'hour_zone_evening',\n",
       " 'hour_zone_morning',\n",
       " 'hour_zone_night',\n",
       " 'hour_zone_noon']"
      ]
     },
     "execution_count": 7,
     "metadata": {},
     "output_type": "execute_result"
    }
   ],
   "source": [
    "train_dataset.columns.to_list()"
   ]
  },
  {
   "cell_type": "code",
   "execution_count": 8,
   "metadata": {},
   "outputs": [
    {
     "name": "stdout",
     "output_type": "stream",
     "text": [
      "Ok, no NAs in train dataset.\n"
     ]
    }
   ],
   "source": [
    "for col in train_dataset.isna().sum():\n",
    "    assert col==0\n",
    "print(\"Ok, no NAs in train dataset.\")"
   ]
  },
  {
   "cell_type": "code",
   "execution_count": 9,
   "metadata": {},
   "outputs": [
    {
     "data": {
      "text/html": [
       "<div>\n",
       "<style scoped>\n",
       "    .dataframe tbody tr th:only-of-type {\n",
       "        vertical-align: middle;\n",
       "    }\n",
       "\n",
       "    .dataframe tbody tr th {\n",
       "        vertical-align: top;\n",
       "    }\n",
       "\n",
       "    .dataframe thead th {\n",
       "        text-align: right;\n",
       "    }\n",
       "</style>\n",
       "<table border=\"1\" class=\"dataframe\">\n",
       "  <thead>\n",
       "    <tr style=\"text-align: right;\">\n",
       "      <th></th>\n",
       "      <th>trip_distance</th>\n",
       "      <th>hour_of_day</th>\n",
       "      <th>rush_hour</th>\n",
       "      <th>fare_amount</th>\n",
       "      <th>trip_duration</th>\n",
       "      <th>day_of_week_0</th>\n",
       "      <th>day_of_week_1</th>\n",
       "      <th>day_of_week_2</th>\n",
       "      <th>day_of_week_3</th>\n",
       "      <th>day_of_week_4</th>\n",
       "      <th>day_of_week_5</th>\n",
       "      <th>day_of_week_6</th>\n",
       "      <th>hour_zone_afternoon</th>\n",
       "      <th>hour_zone_evening</th>\n",
       "      <th>hour_zone_morning</th>\n",
       "      <th>hour_zone_night</th>\n",
       "      <th>hour_zone_noon</th>\n",
       "    </tr>\n",
       "  </thead>\n",
       "  <tbody>\n",
       "    <tr>\n",
       "      <th>count</th>\n",
       "      <td>2.976593e+06</td>\n",
       "      <td>2.976593e+06</td>\n",
       "      <td>2.976593e+06</td>\n",
       "      <td>2.976593e+06</td>\n",
       "      <td>2.976593e+06</td>\n",
       "      <td>2.976593e+06</td>\n",
       "      <td>2.976593e+06</td>\n",
       "      <td>2.976593e+06</td>\n",
       "      <td>2.976593e+06</td>\n",
       "      <td>2.976593e+06</td>\n",
       "      <td>2.976593e+06</td>\n",
       "      <td>2.976593e+06</td>\n",
       "      <td>2.976593e+06</td>\n",
       "      <td>2.976593e+06</td>\n",
       "      <td>2.976593e+06</td>\n",
       "      <td>2.976593e+06</td>\n",
       "      <td>2.976593e+06</td>\n",
       "    </tr>\n",
       "    <tr>\n",
       "      <th>mean</th>\n",
       "      <td>3.514028e+00</td>\n",
       "      <td>1.414663e+01</td>\n",
       "      <td>3.146419e-01</td>\n",
       "      <td>1.445461e+01</td>\n",
       "      <td>1.625068e+01</td>\n",
       "      <td>1.317970e-01</td>\n",
       "      <td>1.434214e-01</td>\n",
       "      <td>1.480747e-01</td>\n",
       "      <td>1.516029e-01</td>\n",
       "      <td>1.431217e-01</td>\n",
       "      <td>1.361469e-01</td>\n",
       "      <td>1.458355e-01</td>\n",
       "      <td>3.036475e-01</td>\n",
       "      <td>2.434874e-01</td>\n",
       "      <td>2.287918e-01</td>\n",
       "      <td>1.673118e-01</td>\n",
       "      <td>5.676154e-02</td>\n",
       "    </tr>\n",
       "    <tr>\n",
       "      <th>std</th>\n",
       "      <td>4.241348e+00</td>\n",
       "      <td>5.758340e+00</td>\n",
       "      <td>4.643732e-01</td>\n",
       "      <td>1.186018e+01</td>\n",
       "      <td>1.270762e+01</td>\n",
       "      <td>3.382700e-01</td>\n",
       "      <td>3.505021e-01</td>\n",
       "      <td>3.551740e-01</td>\n",
       "      <td>3.586356e-01</td>\n",
       "      <td>3.501970e-01</td>\n",
       "      <td>3.429446e-01</td>\n",
       "      <td>3.529413e-01</td>\n",
       "      <td>4.598323e-01</td>\n",
       "      <td>4.291869e-01</td>\n",
       "      <td>4.200549e-01</td>\n",
       "      <td>3.732540e-01</td>\n",
       "      <td>2.313864e-01</td>\n",
       "    </tr>\n",
       "    <tr>\n",
       "      <th>min</th>\n",
       "      <td>1.000000e-01</td>\n",
       "      <td>0.000000e+00</td>\n",
       "      <td>0.000000e+00</td>\n",
       "      <td>2.500000e+00</td>\n",
       "      <td>2.500000e-01</td>\n",
       "      <td>0.000000e+00</td>\n",
       "      <td>0.000000e+00</td>\n",
       "      <td>0.000000e+00</td>\n",
       "      <td>0.000000e+00</td>\n",
       "      <td>0.000000e+00</td>\n",
       "      <td>0.000000e+00</td>\n",
       "      <td>0.000000e+00</td>\n",
       "      <td>0.000000e+00</td>\n",
       "      <td>0.000000e+00</td>\n",
       "      <td>0.000000e+00</td>\n",
       "      <td>0.000000e+00</td>\n",
       "      <td>0.000000e+00</td>\n",
       "    </tr>\n",
       "    <tr>\n",
       "      <th>25%</th>\n",
       "      <td>1.170000e+00</td>\n",
       "      <td>1.000000e+01</td>\n",
       "      <td>0.000000e+00</td>\n",
       "      <td>7.000000e+00</td>\n",
       "      <td>7.800000e+00</td>\n",
       "      <td>0.000000e+00</td>\n",
       "      <td>0.000000e+00</td>\n",
       "      <td>0.000000e+00</td>\n",
       "      <td>0.000000e+00</td>\n",
       "      <td>0.000000e+00</td>\n",
       "      <td>0.000000e+00</td>\n",
       "      <td>0.000000e+00</td>\n",
       "      <td>0.000000e+00</td>\n",
       "      <td>0.000000e+00</td>\n",
       "      <td>0.000000e+00</td>\n",
       "      <td>0.000000e+00</td>\n",
       "      <td>0.000000e+00</td>\n",
       "    </tr>\n",
       "    <tr>\n",
       "      <th>50%</th>\n",
       "      <td>1.920000e+00</td>\n",
       "      <td>1.500000e+01</td>\n",
       "      <td>0.000000e+00</td>\n",
       "      <td>1.050000e+01</td>\n",
       "      <td>1.268333e+01</td>\n",
       "      <td>0.000000e+00</td>\n",
       "      <td>0.000000e+00</td>\n",
       "      <td>0.000000e+00</td>\n",
       "      <td>0.000000e+00</td>\n",
       "      <td>0.000000e+00</td>\n",
       "      <td>0.000000e+00</td>\n",
       "      <td>0.000000e+00</td>\n",
       "      <td>0.000000e+00</td>\n",
       "      <td>0.000000e+00</td>\n",
       "      <td>0.000000e+00</td>\n",
       "      <td>0.000000e+00</td>\n",
       "      <td>0.000000e+00</td>\n",
       "    </tr>\n",
       "    <tr>\n",
       "      <th>75%</th>\n",
       "      <td>3.600000e+00</td>\n",
       "      <td>1.900000e+01</td>\n",
       "      <td>1.000000e+00</td>\n",
       "      <td>1.600000e+01</td>\n",
       "      <td>2.038333e+01</td>\n",
       "      <td>0.000000e+00</td>\n",
       "      <td>0.000000e+00</td>\n",
       "      <td>0.000000e+00</td>\n",
       "      <td>0.000000e+00</td>\n",
       "      <td>0.000000e+00</td>\n",
       "      <td>0.000000e+00</td>\n",
       "      <td>0.000000e+00</td>\n",
       "      <td>1.000000e+00</td>\n",
       "      <td>0.000000e+00</td>\n",
       "      <td>0.000000e+00</td>\n",
       "      <td>0.000000e+00</td>\n",
       "      <td>0.000000e+00</td>\n",
       "    </tr>\n",
       "    <tr>\n",
       "      <th>max</th>\n",
       "      <td>2.500000e+01</td>\n",
       "      <td>2.300000e+01</td>\n",
       "      <td>1.000000e+00</td>\n",
       "      <td>7.500000e+01</td>\n",
       "      <td>9.000000e+01</td>\n",
       "      <td>1.000000e+00</td>\n",
       "      <td>1.000000e+00</td>\n",
       "      <td>1.000000e+00</td>\n",
       "      <td>1.000000e+00</td>\n",
       "      <td>1.000000e+00</td>\n",
       "      <td>1.000000e+00</td>\n",
       "      <td>1.000000e+00</td>\n",
       "      <td>1.000000e+00</td>\n",
       "      <td>1.000000e+00</td>\n",
       "      <td>1.000000e+00</td>\n",
       "      <td>1.000000e+00</td>\n",
       "      <td>1.000000e+00</td>\n",
       "    </tr>\n",
       "  </tbody>\n",
       "</table>\n",
       "</div>"
      ],
      "text/plain": [
       "       trip_distance   hour_of_day     rush_hour   fare_amount  trip_duration  \\\n",
       "count   2.976593e+06  2.976593e+06  2.976593e+06  2.976593e+06   2.976593e+06   \n",
       "mean    3.514028e+00  1.414663e+01  3.146419e-01  1.445461e+01   1.625068e+01   \n",
       "std     4.241348e+00  5.758340e+00  4.643732e-01  1.186018e+01   1.270762e+01   \n",
       "min     1.000000e-01  0.000000e+00  0.000000e+00  2.500000e+00   2.500000e-01   \n",
       "25%     1.170000e+00  1.000000e+01  0.000000e+00  7.000000e+00   7.800000e+00   \n",
       "50%     1.920000e+00  1.500000e+01  0.000000e+00  1.050000e+01   1.268333e+01   \n",
       "75%     3.600000e+00  1.900000e+01  1.000000e+00  1.600000e+01   2.038333e+01   \n",
       "max     2.500000e+01  2.300000e+01  1.000000e+00  7.500000e+01   9.000000e+01   \n",
       "\n",
       "       day_of_week_0  day_of_week_1  day_of_week_2  day_of_week_3  \\\n",
       "count   2.976593e+06   2.976593e+06   2.976593e+06   2.976593e+06   \n",
       "mean    1.317970e-01   1.434214e-01   1.480747e-01   1.516029e-01   \n",
       "std     3.382700e-01   3.505021e-01   3.551740e-01   3.586356e-01   \n",
       "min     0.000000e+00   0.000000e+00   0.000000e+00   0.000000e+00   \n",
       "25%     0.000000e+00   0.000000e+00   0.000000e+00   0.000000e+00   \n",
       "50%     0.000000e+00   0.000000e+00   0.000000e+00   0.000000e+00   \n",
       "75%     0.000000e+00   0.000000e+00   0.000000e+00   0.000000e+00   \n",
       "max     1.000000e+00   1.000000e+00   1.000000e+00   1.000000e+00   \n",
       "\n",
       "       day_of_week_4  day_of_week_5  day_of_week_6  hour_zone_afternoon  \\\n",
       "count   2.976593e+06   2.976593e+06   2.976593e+06         2.976593e+06   \n",
       "mean    1.431217e-01   1.361469e-01   1.458355e-01         3.036475e-01   \n",
       "std     3.501970e-01   3.429446e-01   3.529413e-01         4.598323e-01   \n",
       "min     0.000000e+00   0.000000e+00   0.000000e+00         0.000000e+00   \n",
       "25%     0.000000e+00   0.000000e+00   0.000000e+00         0.000000e+00   \n",
       "50%     0.000000e+00   0.000000e+00   0.000000e+00         0.000000e+00   \n",
       "75%     0.000000e+00   0.000000e+00   0.000000e+00         1.000000e+00   \n",
       "max     1.000000e+00   1.000000e+00   1.000000e+00         1.000000e+00   \n",
       "\n",
       "       hour_zone_evening  hour_zone_morning  hour_zone_night  hour_zone_noon  \n",
       "count       2.976593e+06       2.976593e+06     2.976593e+06    2.976593e+06  \n",
       "mean        2.434874e-01       2.287918e-01     1.673118e-01    5.676154e-02  \n",
       "std         4.291869e-01       4.200549e-01     3.732540e-01    2.313864e-01  \n",
       "min         0.000000e+00       0.000000e+00     0.000000e+00    0.000000e+00  \n",
       "25%         0.000000e+00       0.000000e+00     0.000000e+00    0.000000e+00  \n",
       "50%         0.000000e+00       0.000000e+00     0.000000e+00    0.000000e+00  \n",
       "75%         0.000000e+00       0.000000e+00     0.000000e+00    0.000000e+00  \n",
       "max         1.000000e+00       1.000000e+00     1.000000e+00    1.000000e+00  "
      ]
     },
     "execution_count": 9,
     "metadata": {},
     "output_type": "execute_result"
    }
   ],
   "source": [
    "train_dataset.describe()"
   ]
  },
  {
   "cell_type": "code",
   "execution_count": 10,
   "metadata": {},
   "outputs": [
    {
     "data": {
      "text/plain": [
       "['trip_distance',\n",
       " 'hour_of_day',\n",
       " 'rush_hour',\n",
       " 'fare_amount',\n",
       " 'trip_duration',\n",
       " 'day_of_week_0',\n",
       " 'day_of_week_1',\n",
       " 'day_of_week_2',\n",
       " 'day_of_week_3',\n",
       " 'day_of_week_4',\n",
       " 'day_of_week_5',\n",
       " 'day_of_week_6',\n",
       " 'hour_zone_afternoon',\n",
       " 'hour_zone_evening',\n",
       " 'hour_zone_morning',\n",
       " 'hour_zone_night',\n",
       " 'hour_zone_noon']"
      ]
     },
     "execution_count": 10,
     "metadata": {},
     "output_type": "execute_result"
    }
   ],
   "source": [
    "train_dataset.columns.to_list()"
   ]
  },
  {
   "cell_type": "code",
   "execution_count": 11,
   "metadata": {},
   "outputs": [
    {
     "data": {
      "image/png": "[encoded data removed]",
      "text/plain": [
       "<Figure size 1000x1000 with 2 Axes>"
      ]
     },
     "metadata": {},
     "output_type": "display_data"
    }
   ],
   "source": [
    "correlation_matrix = train_dataset.corr()\n",
    "plt.figure(figsize=(10, 10))  # Adjust the figure size as needed\n",
    "plt.imshow(correlation_matrix, cmap='coolwarm', interpolation='nearest')\n",
    "plt.colorbar()  # Add a colorbar to show the scale\n",
    "plt.title('Correlation Matrix')\n",
    "plt.xticks(ticks=range(len(correlation_matrix)), labels=correlation_matrix.columns)\n",
    "plt.yticks(ticks=range(len(correlation_matrix)), labels=correlation_matrix.columns)\n",
    "plt.show()"
   ]
  },
  {
   "cell_type": "markdown",
   "metadata": {},
   "source": [
    "## Model Training"
   ]
  },
  {
   "cell_type": "code",
   "execution_count": 12,
   "metadata": {},
   "outputs": [],
   "source": [
    "from sklearn.model_selection import train_test_split\n",
    "from sklearn.metrics import mean_squared_error, r2_score"
   ]
  },
  {
   "cell_type": "markdown",
   "metadata": {},
   "source": [
    "Split dataset"
   ]
  },
  {
   "cell_type": "code",
   "execution_count": 13,
   "metadata": {},
   "outputs": [],
   "source": [
    "# Split features and targets\n",
    "X, y = preprocessing.split_dataset(train_dataset)\n",
    "X_train, X_test, y_train, y_test = train_test_split(X, y, test_size=0.2, random_state=42)\n",
    "y_train_td = y_train[\"trip_duration\"]\n",
    "y_train_fa = y_train[\"fare_amount\"]"
   ]
  },
  {
   "cell_type": "markdown",
   "metadata": {},
   "source": [
    "Model preparation"
   ]
  },
  {
   "cell_type": "code",
   "execution_count": 14,
   "metadata": {},
   "outputs": [],
   "source": [
    "scaler = None\n",
    "X_train_scaled = X_train\n",
    "X_test_scaled = X_test"
   ]
  },
  {
   "cell_type": "markdown",
   "metadata": {},
   "source": [
    "## LINEAR MODEL"
   ]
  },
  {
   "cell_type": "code",
   "execution_count": 15,
   "metadata": {},
   "outputs": [],
   "source": [
    "from sklearn.linear_model import LinearRegression\n",
    "linreg_model_td = LinearRegression(n_jobs=-1)\n",
    "linreg_model_fa = LinearRegression(n_jobs=-1)"
   ]
  },
  {
   "cell_type": "code",
   "execution_count": 16,
   "metadata": {},
   "outputs": [
    {
     "name": "stdout",
     "output_type": "stream",
     "text": [
      "Fit model TD\n",
      "Fit model FA\n"
     ]
    }
   ],
   "source": [
    "print(\"Fit model TD\")\n",
    "linreg_model_td.fit(X_train_scaled, y_train_td.values.ravel());\n",
    "print(\"Fit model FA\")\n",
    "linreg_model_fa.fit(X_train_scaled, y_train_fa.values.ravel());"
   ]
  },
  {
   "cell_type": "code",
   "execution_count": 17,
   "metadata": {},
   "outputs": [
    {
     "name": "stdout",
     "output_type": "stream",
     "text": [
      "Trip duration MSE: 7.1465010457552145 minutes\n",
      "Trip duration R2: 0.6830549018314522\n",
      "Fare amount MSE: 3.334760600921611 $\n",
      "Fare amount R2: 0.9207771149171728\n"
     ]
    }
   ],
   "source": [
    "test_predictions_fa = linreg_model_fa.predict(X_test_scaled)\n",
    "test_predictions_td = linreg_model_td.predict(X_test_scaled)\n",
    "\n",
    "y_test_td = y_test[\"trip_duration\"]\n",
    "mse_td = mean_squared_error(y_test_td, test_predictions_td)**0.5\n",
    "r2_td = r2_score(y_test_td, test_predictions_td)\n",
    "print(f\"Trip duration MSE: {mse_td} minutes\")\n",
    "print(f\"Trip duration R2: {r2_td}\")\n",
    "\n",
    "y_test_fa = y_test[\"fare_amount\"]\n",
    "mse_fa = mean_squared_error(y_test_fa, test_predictions_fa)**0.5\n",
    "r2_fa = r2_score(y_test_fa, test_predictions_fa)\n",
    "print(f\"Fare amount MSE: {mse_fa} $\")\n",
    "print(f\"Fare amount R2: {r2_fa}\")"
   ]
  },
  {
   "cell_type": "code",
   "execution_count": 18,
   "metadata": {},
   "outputs": [],
   "source": [
    "pickle.dump(linreg_model_fa, open('linreg_model_fa.pkl', 'wb'))\n",
    "pickle.dump(linreg_model_td, open('linreg_model_td.pkl', 'wb'))"
   ]
  },
  {
   "cell_type": "markdown",
   "metadata": {},
   "source": [
    "## MODEL RANDOM FOREST"
   ]
  },
  {
   "cell_type": "code",
   "execution_count": 19,
   "metadata": {},
   "outputs": [],
   "source": [
    "from sklearn.ensemble import RandomForestRegressor\n",
    "rf_model_td = RandomForestRegressor(n_jobs=-1,\n",
    "                                    n_estimators=10)\n",
    "rf_model_fa = RandomForestRegressor(n_jobs=-1,\n",
    "                                    n_estimators=10 )"
   ]
  },
  {
   "cell_type": "code",
   "execution_count": 20,
   "metadata": {},
   "outputs": [
    {
     "name": "stdout",
     "output_type": "stream",
     "text": [
      "Fit model TD\n",
      "Fit model FA\n"
     ]
    }
   ],
   "source": [
    "print(\"Fit model TD\")\n",
    "rf_model_td.fit(X_train_scaled, y_train_td.values.ravel());\n",
    "print(\"Fit model FA\")\n",
    "rf_model_fa.fit(X_train_scaled, y_train_fa.values.ravel());"
   ]
  },
  {
   "cell_type": "code",
   "execution_count": 21,
   "metadata": {},
   "outputs": [
    {
     "name": "stdout",
     "output_type": "stream",
     "text": [
      "Trip duration MSE: 5.899043023344491 minutes\n",
      "Trip duration R2: 0.7840465018358139\n",
      "Fare amount MSE: 3.1877169594051833 $\n",
      "Fare amount R2: 0.9276096233066897\n"
     ]
    }
   ],
   "source": [
    "test_predictions_fa = rf_model_fa.predict(X_test_scaled)\n",
    "test_predictions_td = rf_model_td.predict(X_test_scaled)\n",
    "\n",
    "y_test_td = y_test[\"trip_duration\"]\n",
    "mse_td = mean_squared_error(y_test_td, test_predictions_td)**0.5\n",
    "r2_td = r2_score(y_test_td, test_predictions_td)\n",
    "print(f\"Trip duration MSE: {mse_td} minutes\")\n",
    "print(f\"Trip duration R2: {r2_td}\")\n",
    "\n",
    "y_test_fa = y_test[\"fare_amount\"]\n",
    "mse_fa = mean_squared_error(y_test_fa, test_predictions_fa)**0.5\n",
    "r2_fa = r2_score(y_test_fa, test_predictions_fa)\n",
    "print(f\"Fare amount MSE: {mse_fa} $\")\n",
    "print(f\"Fare amount R2: {r2_fa}\")"
   ]
  },
  {
   "cell_type": "code",
   "execution_count": 22,
   "metadata": {},
   "outputs": [],
   "source": [
    "pickle.dump(rf_model_fa, open('rf_model_fa.pkl', 'wb'))\n",
    "pickle.dump(rf_model_td, open('rf_model_td.pkl', 'wb'))"
   ]
  },
  {
   "cell_type": "markdown",
   "metadata": {},
   "source": [
    "## MODEL LIGHT GBM"
   ]
  },
  {
   "cell_type": "code",
   "execution_count": 23,
   "metadata": {},
   "outputs": [
    {
     "name": "stdout",
     "output_type": "stream",
     "text": [
      "Model LightGBM\n"
     ]
    }
   ],
   "source": [
    "\n",
    "print(\"Model LightGBM\")\n",
    "import lightgbm as lgb\n",
    "train_data_lgb_td = lgb.Dataset(X_train_scaled, label=y_train_td)\n",
    "train_data_lgb_fa = lgb.Dataset(X_train_scaled, label=y_train_fa)\n",
    "params = {\n",
    "'objective': 'regression',  # 'regression' for regression problems\n",
    "'metric': 'rmse',          # Root Mean Squared Error for evaluation\n",
    "'boosting_type': 'gbdt',   # Gradient Boosting Decision Tree\n",
    "'num_leaves': 100,          # Maximum number of leaves in one tree\n",
    "'learning_rate': 0.05,     # Learning rate\n",
    "'feature_fraction': 0.9,   # Fraction of features to be used in each iteration\n",
    "'bagging_fraction': 0.8,   # Fraction of data to be used for bagging\n",
    "'bagging_freq': 5,         # Frequency for bagging\n",
    "'verbose': 1               # Verbosity (0: silent, 1: progress bar, 2: print all)\n",
    "}\n",
    "num_rounds = 100  # Number of boosting rounds (iterations)"
   ]
  },
  {
   "cell_type": "code",
   "execution_count": 24,
   "metadata": {},
   "outputs": [
    {
     "name": "stdout",
     "output_type": "stream",
     "text": [
      "Training LGBM\n",
      "Fit model TD\n",
      "[LightGBM] [Info] Auto-choosing row-wise multi-threading, the overhead of testing was 0.097297 seconds.\n",
      "You can set `force_row_wise=true` to remove the overhead.\n",
      "And if memory is not enough, you can set `force_col_wise=true`.\n",
      "[LightGBM] [Info] Total Bins 305\n",
      "[LightGBM] [Info] Number of data points in the train set: 2381274, number of used features: 15\n",
      "[LightGBM] [Info] Start training from score 16.255198\n",
      "Fit model FA\n",
      "[LightGBM] [Info] Auto-choosing row-wise multi-threading, the overhead of testing was 0.031560 seconds.\n",
      "You can set `force_row_wise=true` to remove the overhead.\n",
      "And if memory is not enough, you can set `force_col_wise=true`.\n",
      "[LightGBM] [Info] Total Bins 305\n",
      "[LightGBM] [Info] Number of data points in the train set: 2381274, number of used features: 15\n",
      "[LightGBM] [Info] Start training from score 14.458650\n",
      "Done!\n"
     ]
    }
   ],
   "source": [
    "print(\"Training LGBM\")\n",
    "print(\"Fit model TD\")\n",
    "lgbm_model_td = lgb.train(params, train_data_lgb_td, num_rounds)\n",
    "print(\"Fit model FA\")\n",
    "lgbm_model_fa = lgb.train(params, train_data_lgb_fa, num_rounds)\n",
    "print(\"Done!\")"
   ]
  },
  {
   "cell_type": "code",
   "execution_count": 25,
   "metadata": {},
   "outputs": [
    {
     "name": "stdout",
     "output_type": "stream",
     "text": [
      "Trip duration MSE: 5.3339808361314205 minutes\n",
      "Trip duration R2: 0.8234368703420935\n",
      "Fare amount MSE: 2.9074254442208685 $\n",
      "Fare amount R2: 0.9397803115657803\n"
     ]
    }
   ],
   "source": [
    "test_predictions_fa = lgbm_model_fa.predict(X_test_scaled)\n",
    "test_predictions_td = lgbm_model_td.predict(X_test_scaled)\n",
    "\n",
    "y_test_td = y_test[\"trip_duration\"]\n",
    "mse_td = mean_squared_error(y_test_td, test_predictions_td)**0.5\n",
    "r2_td = r2_score(y_test_td, test_predictions_td)\n",
    "print(f\"Trip duration MSE: {mse_td} minutes\")\n",
    "print(f\"Trip duration R2: {r2_td}\")\n",
    "\n",
    "y_test_fa = y_test[\"fare_amount\"]\n",
    "mse_fa = mean_squared_error(y_test_fa, test_predictions_fa)**0.5\n",
    "r2_fa = r2_score(y_test_fa, test_predictions_fa)\n",
    "print(f\"Fare amount MSE: {mse_fa} $\")\n",
    "print(f\"Fare amount R2: {r2_fa}\")\n"
   ]
  },
  {
   "cell_type": "code",
   "execution_count": 26,
   "metadata": {},
   "outputs": [],
   "source": [
    "pickle.dump(lgbm_model_fa, open('lgbm_model_fa.pkl', 'wb'))\n",
    "pickle.dump(lgbm_model_td, open('lgbm_model_td.pkl', 'wb'))"
   ]
  },
  {
   "cell_type": "markdown",
   "metadata": {},
   "source": [
    "# Inference"
   ]
  },
  {
   "cell_type": "code",
   "execution_count": 27,
   "metadata": {},
   "outputs": [
    {
     "name": "stdout",
     "output_type": "stream",
     "text": [
      "rf_model_td.pkl\n",
      "rf_model_fa.pkl\n"
     ]
    }
   ],
   "source": [
    "model_prefix = \"rf\"\n",
    "model_name_td = f\"{model_prefix}_model_td.pkl\"\n",
    "model_name_fa = f\"{model_prefix}_model_fa.pkl\"\n",
    "\n",
    "print(model_name_td)\n",
    "print(model_name_fa)\n",
    "\n",
    "if os.path.exists(model_name_td):\n",
    "    with open(model_name_td, \"rb\") as model_td_fd:\n",
    "        model_td = pickle.load(model_td_fd)\n",
    "else:\n",
    "    print(\"TD model not found!\")\n",
    "\n",
    "if os.path.exists(model_name_fa):\n",
    "    with open(model_name_fa, \"rb\") as model_fa_fd:\n",
    "        model_fa = pickle.load(model_fa_fd)\n",
    "else:\n",
    "    print(\"FA model not found!\")\n",
    "\n",
    "if os.path.exists(\"encoders.pkl\"):\n",
    "    with open(\"encoders.pkl\", \"rb\") as encoders_file:\n",
    "        encoders = pickle.load(encoders_file)\n",
    "else:\n",
    "    print(\"Encoders model not found!\")"
   ]
  },
  {
   "cell_type": "markdown",
   "metadata": {},
   "source": [
    "Input"
   ]
  },
  {
   "cell_type": "code",
   "execution_count": 28,
   "metadata": {},
   "outputs": [],
   "source": [
    "pickup_date=\"2023/12/12\"\n",
    "pickup_time=\"12:15:12\"\n",
    "tpep_pickup_datetime = pickup_date + \" \" + pickup_time\n",
    "trip_distance = \"5.5\""
   ]
  },
  {
   "cell_type": "code",
   "execution_count": 29,
   "metadata": {},
   "outputs": [],
   "source": [
    "data = {\n",
    "    \"trip_distance\": [float(trip_distance)], \n",
    "    \"tpep_pickup_datetime\": [pd.to_datetime(tpep_pickup_datetime)] }\n",
    "df = pd.DataFrame(data)\n",
    "df = preprocessing.add_features(df)\n",
    "df.drop(columns=\"tpep_pickup_datetime\", inplace=True)"
   ]
  },
  {
   "cell_type": "code",
   "execution_count": 30,
   "metadata": {},
   "outputs": [],
   "source": [
    "for encoder_model in encoders:\n",
    "    encoder, col = encoder_model\n",
    "    array = pd.DataFrame(df[col].values.reshape(1,-1), columns=[col])\n",
    "    encoded_data = encoder.transform(array)\n",
    "    encoded_data = encoded_data.toarray()\n",
    "    encoded_df = pd.DataFrame(encoded_data, \n",
    "                            columns=encoder.get_feature_names_out([col])\n",
    "    )\n",
    "    df = pd.concat([df, encoded_df], axis=1, join=\"inner\")\n",
    "    df.drop(columns=col, inplace=True)"
   ]
  },
  {
   "cell_type": "code",
   "execution_count": 31,
   "metadata": {},
   "outputs": [
    {
     "data": {
      "text/plain": [
       "['trip_distance',\n",
       " 'hour_of_day',\n",
       " 'rush_hour',\n",
       " 'day_of_week_0',\n",
       " 'day_of_week_1',\n",
       " 'day_of_week_2',\n",
       " 'day_of_week_3',\n",
       " 'day_of_week_4',\n",
       " 'day_of_week_5',\n",
       " 'day_of_week_6',\n",
       " 'hour_zone_afternoon',\n",
       " 'hour_zone_evening',\n",
       " 'hour_zone_morning',\n",
       " 'hour_zone_night',\n",
       " 'hour_zone_noon']"
      ]
     },
     "execution_count": 31,
     "metadata": {},
     "output_type": "execute_result"
    }
   ],
   "source": [
    "df.columns.to_list()"
   ]
  },
  {
   "cell_type": "code",
   "execution_count": 33,
   "metadata": {},
   "outputs": [
    {
     "data": {
      "text/plain": [
       "(21.5, 23)"
      ]
     },
     "execution_count": 33,
     "metadata": {},
     "output_type": "execute_result"
    }
   ],
   "source": [
    "y_fa = round(model_fa.predict(df)[0],2)\n",
    "y_td = int(model_td.predict(df)[0])\n",
    "y_fa, y_td"
   ]
  }
 ],
 "metadata": {
  "kernelspec": {
   "display_name": "venv",
   "language": "python",
   "name": "python3"
  },
  "language_info": {
   "codemirror_mode": {
    "name": "ipython",
    "version": 3
   },
   "file_extension": ".py",
   "mimetype": "text/x-python",
   "name": "python",
   "nbconvert_exporter": "python",
   "pygments_lexer": "ipython3",
   "version": "3.10.12"
  }
 },
 "nbformat": 4,
 "nbformat_minor": 2
}
