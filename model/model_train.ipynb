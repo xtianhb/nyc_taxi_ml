{
 "cells": [
  {
   "cell_type": "markdown",
   "metadata": {},
   "source": [
    "# NYC Taxi Fare & Duration\n",
    "## Model Training"
   ]
  },
  {
   "cell_type": "code",
   "execution_count": 1,
   "metadata": {},
   "outputs": [],
   "source": [
    "%load_ext autoreload\n",
    "%autoreload 2"
   ]
  },
  {
   "cell_type": "code",
   "execution_count": 2,
   "metadata": {},
   "outputs": [],
   "source": [
    "import os\n",
    "import sys\n",
    "import matplotlib.pyplot as plt\n",
    "import pandas as pd\n",
    "import numpy as np\n",
    "import wget\n",
    "import pickle\n",
    "import glob\n",
    "\n",
    "sys.path.append(\"..\")\n",
    "\n",
    "import source.configs as configs\n",
    "import preprocessing as preprocessing\n",
    "\n",
    "# Check if we are in COLAB\n",
    "IN_COLAB = 'google.colab' in sys.modules"
   ]
  },
  {
   "cell_type": "markdown",
   "metadata": {},
   "source": [
    "Download dataset files (2022)"
   ]
  },
  {
   "cell_type": "code",
   "execution_count": 113,
   "metadata": {},
   "outputs": [
    {
     "name": "stdout",
     "output_type": "stream",
     "text": [
      "Skipping yellow_tripdata_2022-05.parquet\n"
     ]
    }
   ],
   "source": [
    "if IN_COLAB:\n",
    "    !wget https://d37ci6vzurychx.cloudfront.net/trip-data/yellow_tripdata_2022-05.parquet \"../dataset\"\n",
    "else:\n",
    "    for url in configs.START_DATASET_URLS:\n",
    "        fname = url.split(\"/\")[-1] \n",
    "        if not os.path.exists(f\"../dataset/{fname}\"):\n",
    "            print(f\"Downloading {fname}\")\n",
    "            wget.download(url, \"../dataset\")\n",
    "        else:\n",
    "            print(f\"Skipping {fname}\")"
   ]
  },
  {
   "cell_type": "code",
   "execution_count": 114,
   "metadata": {},
   "outputs": [
    {
     "name": "stdout",
     "output_type": "stream",
     "text": [
      "Reading ../dataset/yellow_tripdata_2022-05.parquet\n",
      "Pandas concat...\n",
      "Done!\n"
     ]
    }
   ],
   "source": [
    "files_list = glob.glob(\"../dataset/*.parquet\")\n",
    "dataset_list = []\n",
    "for file in files_list:\n",
    "    print(f\"Reading {file}\")\n",
    "    df_month = pd.read_parquet(file)\n",
    "    dataset_list.append(df_month)\n",
    "print(\"Pandas concat...\")\n",
    "dataset = pd.concat(dataset_list, axis=0, ignore_index=True)\n",
    "print(\"Done!\")"
   ]
  },
  {
   "cell_type": "code",
   "execution_count": 115,
   "metadata": {},
   "outputs": [
    {
     "name": "stdout",
     "output_type": "stream",
     "text": [
      "Add targets\n",
      "Add features\n",
      "Building average speed dictionary\n",
      "Process outliers\n",
      "fill na values\n",
      "Done!\n"
     ]
    }
   ],
   "source": [
    "print(\"Add targets\")\n",
    "dataset = preprocessing.add_targets(dataset)\n",
    "print(\"Add features\")\n",
    "dataset, avg_speed_dict = preprocessing.add_features(dataset)\n",
    "pickle.dump(avg_speed_dict, open(\"avg_speed_dict.pkl\", \"wb\"))\n",
    "print(\"Process outliers\")\n",
    "dataset = preprocessing.process_outliers(dataset, \"delete\")\n",
    "print(\"fill na values\")\n",
    "dataset = preprocessing.fill_na_values(dataset)\n",
    "print(\"Done!\")"
   ]
  },
  {
   "cell_type": "markdown",
   "metadata": {},
   "source": [
    "### Features\n",
    "* trip_distance\n",
    "* hour_of_day: Extracted from tpep_pickup_datetime\n",
    "* hour_zone: Extracted from tpep_pickup_datetime. Categorical:[Morning, Noon, Afternoon, Evening, Night]\n",
    "* rush_hour: Extracted from tpep_pickup_datetime. Binary.\n",
    "### Targets\n",
    "* fare_amount\n",
    "* trip_duration"
   ]
  },
  {
   "cell_type": "code",
   "execution_count": 116,
   "metadata": {},
   "outputs": [],
   "source": [
    "columns = preprocessing.features + preprocessing.targets\n",
    "train_dataset = preprocessing.select_features(dataset, columns)\n",
    "train_dataset, encoders = preprocessing.create_one_hot_encodings(train_dataset, columns)\n",
    "pickle.dump(encoders, open('encoders.pkl', 'wb'))"
   ]
  },
  {
   "cell_type": "code",
   "execution_count": 117,
   "metadata": {},
   "outputs": [
    {
     "data": {
      "text/plain": [
       "['trip_distance',\n",
       " 'hour_of_day',\n",
       " 'rush_hour',\n",
       " 'trip_d2',\n",
       " 'avg_speed',\n",
       " 'fare_amount',\n",
       " 'trip_duration',\n",
       " 'day_of_week_0',\n",
       " 'day_of_week_1',\n",
       " 'day_of_week_2',\n",
       " 'day_of_week_3',\n",
       " 'day_of_week_4',\n",
       " 'day_of_week_5',\n",
       " 'day_of_week_6',\n",
       " 'hour_zone_afternoon',\n",
       " 'hour_zone_evening',\n",
       " 'hour_zone_morning',\n",
       " 'hour_zone_night',\n",
       " 'hour_zone_noon']"
      ]
     },
     "execution_count": 117,
     "metadata": {},
     "output_type": "execute_result"
    }
   ],
   "source": [
    "train_dataset.columns.to_list()"
   ]
  },
  {
   "cell_type": "code",
   "execution_count": 118,
   "metadata": {},
   "outputs": [
    {
     "name": "stdout",
     "output_type": "stream",
     "text": [
      "Ok, no NAs in train dataset.\n"
     ]
    }
   ],
   "source": [
    "for col in train_dataset.isna().sum():\n",
    "    assert col==0\n",
    "print(\"Ok, no NAs in train dataset.\")"
   ]
  },
  {
   "cell_type": "code",
   "execution_count": 119,
   "metadata": {},
   "outputs": [
    {
     "data": {
      "text/html": [
       "<div>\n",
       "<style scoped>\n",
       "    .dataframe tbody tr th:only-of-type {\n",
       "        vertical-align: middle;\n",
       "    }\n",
       "\n",
       "    .dataframe tbody tr th {\n",
       "        vertical-align: top;\n",
       "    }\n",
       "\n",
       "    .dataframe thead th {\n",
       "        text-align: right;\n",
       "    }\n",
       "</style>\n",
       "<table border=\"1\" class=\"dataframe\">\n",
       "  <thead>\n",
       "    <tr style=\"text-align: right;\">\n",
       "      <th></th>\n",
       "      <th>trip_distance</th>\n",
       "      <th>hour_of_day</th>\n",
       "      <th>rush_hour</th>\n",
       "      <th>trip_d2</th>\n",
       "      <th>avg_speed</th>\n",
       "      <th>fare_amount</th>\n",
       "      <th>trip_duration</th>\n",
       "      <th>day_of_week_0</th>\n",
       "      <th>day_of_week_1</th>\n",
       "      <th>day_of_week_2</th>\n",
       "      <th>day_of_week_3</th>\n",
       "      <th>day_of_week_4</th>\n",
       "      <th>day_of_week_5</th>\n",
       "      <th>day_of_week_6</th>\n",
       "      <th>hour_zone_afternoon</th>\n",
       "      <th>hour_zone_evening</th>\n",
       "      <th>hour_zone_morning</th>\n",
       "      <th>hour_zone_night</th>\n",
       "      <th>hour_zone_noon</th>\n",
       "    </tr>\n",
       "  </thead>\n",
       "  <tbody>\n",
       "    <tr>\n",
       "      <th>count</th>\n",
       "      <td>2.976593e+06</td>\n",
       "      <td>2.976593e+06</td>\n",
       "      <td>2.976593e+06</td>\n",
       "      <td>2.976593e+06</td>\n",
       "      <td>2.976593e+06</td>\n",
       "      <td>2.976593e+06</td>\n",
       "      <td>2.976593e+06</td>\n",
       "      <td>2.976593e+06</td>\n",
       "      <td>2.976593e+06</td>\n",
       "      <td>2.976593e+06</td>\n",
       "      <td>2.976593e+06</td>\n",
       "      <td>2.976593e+06</td>\n",
       "      <td>2.976593e+06</td>\n",
       "      <td>2.976593e+06</td>\n",
       "      <td>2.976593e+06</td>\n",
       "      <td>2.976593e+06</td>\n",
       "      <td>2.976593e+06</td>\n",
       "      <td>2.976593e+06</td>\n",
       "      <td>2.976593e+06</td>\n",
       "    </tr>\n",
       "    <tr>\n",
       "      <th>mean</th>\n",
       "      <td>3.514028e+00</td>\n",
       "      <td>1.414663e+01</td>\n",
       "      <td>3.146419e-01</td>\n",
       "      <td>3.033742e+01</td>\n",
       "      <td>1.993351e-01</td>\n",
       "      <td>1.445461e+01</td>\n",
       "      <td>1.625068e+01</td>\n",
       "      <td>1.317970e-01</td>\n",
       "      <td>1.434214e-01</td>\n",
       "      <td>1.480747e-01</td>\n",
       "      <td>1.516029e-01</td>\n",
       "      <td>1.431217e-01</td>\n",
       "      <td>1.361469e-01</td>\n",
       "      <td>1.458355e-01</td>\n",
       "      <td>3.036475e-01</td>\n",
       "      <td>2.434874e-01</td>\n",
       "      <td>2.287918e-01</td>\n",
       "      <td>1.673118e-01</td>\n",
       "      <td>5.676154e-02</td>\n",
       "    </tr>\n",
       "    <tr>\n",
       "      <th>std</th>\n",
       "      <td>4.241348e+00</td>\n",
       "      <td>5.758340e+00</td>\n",
       "      <td>4.643732e-01</td>\n",
       "      <td>7.749047e+01</td>\n",
       "      <td>3.687140e-01</td>\n",
       "      <td>1.186018e+01</td>\n",
       "      <td>1.270762e+01</td>\n",
       "      <td>3.382700e-01</td>\n",
       "      <td>3.505021e-01</td>\n",
       "      <td>3.551740e-01</td>\n",
       "      <td>3.586356e-01</td>\n",
       "      <td>3.501970e-01</td>\n",
       "      <td>3.429446e-01</td>\n",
       "      <td>3.529413e-01</td>\n",
       "      <td>4.598323e-01</td>\n",
       "      <td>4.291869e-01</td>\n",
       "      <td>4.200549e-01</td>\n",
       "      <td>3.732540e-01</td>\n",
       "      <td>2.313864e-01</td>\n",
       "    </tr>\n",
       "    <tr>\n",
       "      <th>min</th>\n",
       "      <td>1.000000e-01</td>\n",
       "      <td>0.000000e+00</td>\n",
       "      <td>0.000000e+00</td>\n",
       "      <td>1.000000e-02</td>\n",
       "      <td>1.175779e-03</td>\n",
       "      <td>2.500000e+00</td>\n",
       "      <td>2.500000e-01</td>\n",
       "      <td>0.000000e+00</td>\n",
       "      <td>0.000000e+00</td>\n",
       "      <td>0.000000e+00</td>\n",
       "      <td>0.000000e+00</td>\n",
       "      <td>0.000000e+00</td>\n",
       "      <td>0.000000e+00</td>\n",
       "      <td>0.000000e+00</td>\n",
       "      <td>0.000000e+00</td>\n",
       "      <td>0.000000e+00</td>\n",
       "      <td>0.000000e+00</td>\n",
       "      <td>0.000000e+00</td>\n",
       "      <td>0.000000e+00</td>\n",
       "    </tr>\n",
       "    <tr>\n",
       "      <th>25%</th>\n",
       "      <td>1.170000e+00</td>\n",
       "      <td>1.000000e+01</td>\n",
       "      <td>0.000000e+00</td>\n",
       "      <td>1.368900e+00</td>\n",
       "      <td>1.272085e-01</td>\n",
       "      <td>7.000000e+00</td>\n",
       "      <td>7.800000e+00</td>\n",
       "      <td>0.000000e+00</td>\n",
       "      <td>0.000000e+00</td>\n",
       "      <td>0.000000e+00</td>\n",
       "      <td>0.000000e+00</td>\n",
       "      <td>0.000000e+00</td>\n",
       "      <td>0.000000e+00</td>\n",
       "      <td>0.000000e+00</td>\n",
       "      <td>0.000000e+00</td>\n",
       "      <td>0.000000e+00</td>\n",
       "      <td>0.000000e+00</td>\n",
       "      <td>0.000000e+00</td>\n",
       "      <td>0.000000e+00</td>\n",
       "    </tr>\n",
       "    <tr>\n",
       "      <th>50%</th>\n",
       "      <td>1.920000e+00</td>\n",
       "      <td>1.500000e+01</td>\n",
       "      <td>0.000000e+00</td>\n",
       "      <td>3.686400e+00</td>\n",
       "      <td>1.683871e-01</td>\n",
       "      <td>1.050000e+01</td>\n",
       "      <td>1.268333e+01</td>\n",
       "      <td>0.000000e+00</td>\n",
       "      <td>0.000000e+00</td>\n",
       "      <td>0.000000e+00</td>\n",
       "      <td>0.000000e+00</td>\n",
       "      <td>0.000000e+00</td>\n",
       "      <td>0.000000e+00</td>\n",
       "      <td>0.000000e+00</td>\n",
       "      <td>0.000000e+00</td>\n",
       "      <td>0.000000e+00</td>\n",
       "      <td>0.000000e+00</td>\n",
       "      <td>0.000000e+00</td>\n",
       "      <td>0.000000e+00</td>\n",
       "    </tr>\n",
       "    <tr>\n",
       "      <th>75%</th>\n",
       "      <td>3.600000e+00</td>\n",
       "      <td>1.900000e+01</td>\n",
       "      <td>1.000000e+00</td>\n",
       "      <td>1.296000e+01</td>\n",
       "      <td>2.318560e-01</td>\n",
       "      <td>1.600000e+01</td>\n",
       "      <td>2.038333e+01</td>\n",
       "      <td>0.000000e+00</td>\n",
       "      <td>0.000000e+00</td>\n",
       "      <td>0.000000e+00</td>\n",
       "      <td>0.000000e+00</td>\n",
       "      <td>0.000000e+00</td>\n",
       "      <td>0.000000e+00</td>\n",
       "      <td>0.000000e+00</td>\n",
       "      <td>1.000000e+00</td>\n",
       "      <td>0.000000e+00</td>\n",
       "      <td>0.000000e+00</td>\n",
       "      <td>0.000000e+00</td>\n",
       "      <td>0.000000e+00</td>\n",
       "    </tr>\n",
       "    <tr>\n",
       "      <th>max</th>\n",
       "      <td>2.500000e+01</td>\n",
       "      <td>2.300000e+01</td>\n",
       "      <td>1.000000e+00</td>\n",
       "      <td>6.250000e+02</td>\n",
       "      <td>8.480000e+01</td>\n",
       "      <td>7.500000e+01</td>\n",
       "      <td>9.000000e+01</td>\n",
       "      <td>1.000000e+00</td>\n",
       "      <td>1.000000e+00</td>\n",
       "      <td>1.000000e+00</td>\n",
       "      <td>1.000000e+00</td>\n",
       "      <td>1.000000e+00</td>\n",
       "      <td>1.000000e+00</td>\n",
       "      <td>1.000000e+00</td>\n",
       "      <td>1.000000e+00</td>\n",
       "      <td>1.000000e+00</td>\n",
       "      <td>1.000000e+00</td>\n",
       "      <td>1.000000e+00</td>\n",
       "      <td>1.000000e+00</td>\n",
       "    </tr>\n",
       "  </tbody>\n",
       "</table>\n",
       "</div>"
      ],
      "text/plain": [
       "       trip_distance   hour_of_day     rush_hour       trip_d2     avg_speed  \\\n",
       "count   2.976593e+06  2.976593e+06  2.976593e+06  2.976593e+06  2.976593e+06   \n",
       "mean    3.514028e+00  1.414663e+01  3.146419e-01  3.033742e+01  1.993351e-01   \n",
       "std     4.241348e+00  5.758340e+00  4.643732e-01  7.749047e+01  3.687140e-01   \n",
       "min     1.000000e-01  0.000000e+00  0.000000e+00  1.000000e-02  1.175779e-03   \n",
       "25%     1.170000e+00  1.000000e+01  0.000000e+00  1.368900e+00  1.272085e-01   \n",
       "50%     1.920000e+00  1.500000e+01  0.000000e+00  3.686400e+00  1.683871e-01   \n",
       "75%     3.600000e+00  1.900000e+01  1.000000e+00  1.296000e+01  2.318560e-01   \n",
       "max     2.500000e+01  2.300000e+01  1.000000e+00  6.250000e+02  8.480000e+01   \n",
       "\n",
       "        fare_amount  trip_duration  day_of_week_0  day_of_week_1  \\\n",
       "count  2.976593e+06   2.976593e+06   2.976593e+06   2.976593e+06   \n",
       "mean   1.445461e+01   1.625068e+01   1.317970e-01   1.434214e-01   \n",
       "std    1.186018e+01   1.270762e+01   3.382700e-01   3.505021e-01   \n",
       "min    2.500000e+00   2.500000e-01   0.000000e+00   0.000000e+00   \n",
       "25%    7.000000e+00   7.800000e+00   0.000000e+00   0.000000e+00   \n",
       "50%    1.050000e+01   1.268333e+01   0.000000e+00   0.000000e+00   \n",
       "75%    1.600000e+01   2.038333e+01   0.000000e+00   0.000000e+00   \n",
       "max    7.500000e+01   9.000000e+01   1.000000e+00   1.000000e+00   \n",
       "\n",
       "       day_of_week_2  day_of_week_3  day_of_week_4  day_of_week_5  \\\n",
       "count   2.976593e+06   2.976593e+06   2.976593e+06   2.976593e+06   \n",
       "mean    1.480747e-01   1.516029e-01   1.431217e-01   1.361469e-01   \n",
       "std     3.551740e-01   3.586356e-01   3.501970e-01   3.429446e-01   \n",
       "min     0.000000e+00   0.000000e+00   0.000000e+00   0.000000e+00   \n",
       "25%     0.000000e+00   0.000000e+00   0.000000e+00   0.000000e+00   \n",
       "50%     0.000000e+00   0.000000e+00   0.000000e+00   0.000000e+00   \n",
       "75%     0.000000e+00   0.000000e+00   0.000000e+00   0.000000e+00   \n",
       "max     1.000000e+00   1.000000e+00   1.000000e+00   1.000000e+00   \n",
       "\n",
       "       day_of_week_6  hour_zone_afternoon  hour_zone_evening  \\\n",
       "count   2.976593e+06         2.976593e+06       2.976593e+06   \n",
       "mean    1.458355e-01         3.036475e-01       2.434874e-01   \n",
       "std     3.529413e-01         4.598323e-01       4.291869e-01   \n",
       "min     0.000000e+00         0.000000e+00       0.000000e+00   \n",
       "25%     0.000000e+00         0.000000e+00       0.000000e+00   \n",
       "50%     0.000000e+00         0.000000e+00       0.000000e+00   \n",
       "75%     0.000000e+00         1.000000e+00       0.000000e+00   \n",
       "max     1.000000e+00         1.000000e+00       1.000000e+00   \n",
       "\n",
       "       hour_zone_morning  hour_zone_night  hour_zone_noon  \n",
       "count       2.976593e+06     2.976593e+06    2.976593e+06  \n",
       "mean        2.287918e-01     1.673118e-01    5.676154e-02  \n",
       "std         4.200549e-01     3.732540e-01    2.313864e-01  \n",
       "min         0.000000e+00     0.000000e+00    0.000000e+00  \n",
       "25%         0.000000e+00     0.000000e+00    0.000000e+00  \n",
       "50%         0.000000e+00     0.000000e+00    0.000000e+00  \n",
       "75%         0.000000e+00     0.000000e+00    0.000000e+00  \n",
       "max         1.000000e+00     1.000000e+00    1.000000e+00  "
      ]
     },
     "execution_count": 119,
     "metadata": {},
     "output_type": "execute_result"
    }
   ],
   "source": [
    "train_dataset.describe()"
   ]
  },
  {
   "cell_type": "code",
   "execution_count": 120,
   "metadata": {},
   "outputs": [
    {
     "data": {
      "text/plain": [
       "['trip_distance',\n",
       " 'hour_of_day',\n",
       " 'rush_hour',\n",
       " 'trip_d2',\n",
       " 'avg_speed',\n",
       " 'fare_amount',\n",
       " 'trip_duration',\n",
       " 'day_of_week_0',\n",
       " 'day_of_week_1',\n",
       " 'day_of_week_2',\n",
       " 'day_of_week_3',\n",
       " 'day_of_week_4',\n",
       " 'day_of_week_5',\n",
       " 'day_of_week_6',\n",
       " 'hour_zone_afternoon',\n",
       " 'hour_zone_evening',\n",
       " 'hour_zone_morning',\n",
       " 'hour_zone_night',\n",
       " 'hour_zone_noon']"
      ]
     },
     "execution_count": 120,
     "metadata": {},
     "output_type": "execute_result"
    }
   ],
   "source": [
    "train_dataset.columns.to_list()"
   ]
  },
  {
   "cell_type": "code",
   "execution_count": 121,
   "metadata": {},
   "outputs": [
    {
     "data": {
      "image/png": "[encoded data removed]",
      "text/plain": [
       "<Figure size 1000x1000 with 2 Axes>"
      ]
     },
     "metadata": {},
     "output_type": "display_data"
    }
   ],
   "source": [
    "correlation_matrix = train_dataset.corr()\n",
    "plt.figure(figsize=(10, 10))  # Adjust the figure size as needed\n",
    "plt.imshow(correlation_matrix, cmap='coolwarm', interpolation='nearest')\n",
    "plt.colorbar()  # Add a colorbar to show the scale\n",
    "plt.title('Correlation Matrix')\n",
    "plt.xticks(ticks=range(len(correlation_matrix)), labels=correlation_matrix.columns)\n",
    "plt.yticks(ticks=range(len(correlation_matrix)), labels=correlation_matrix.columns)\n",
    "plt.show()"
   ]
  },
  {
   "cell_type": "markdown",
   "metadata": {},
   "source": [
    "## Model Training"
   ]
  },
  {
   "cell_type": "code",
   "execution_count": 122,
   "metadata": {},
   "outputs": [],
   "source": [
    "from sklearn.model_selection import train_test_split\n",
    "from sklearn.metrics import mean_squared_error, r2_score"
   ]
  },
  {
   "cell_type": "markdown",
   "metadata": {},
   "source": [
    "Split dataset"
   ]
  },
  {
   "cell_type": "code",
   "execution_count": 123,
   "metadata": {},
   "outputs": [],
   "source": [
    "# Split features and targets\n",
    "X, y = preprocessing.split_dataset(train_dataset)\n",
    "X_train, X_test, y_train, y_test = train_test_split(X, y, test_size=0.2, random_state=42)\n",
    "y_train_td = y_train[\"trip_duration\"]\n",
    "y_train_fa = y_train[\"fare_amount\"]"
   ]
  },
  {
   "cell_type": "markdown",
   "metadata": {},
   "source": [
    "Model preparation"
   ]
  },
  {
   "cell_type": "code",
   "execution_count": 124,
   "metadata": {},
   "outputs": [],
   "source": [
    "scaler = None\n",
    "X_train_scaled = X_train\n",
    "X_test_scaled = X_test"
   ]
  },
  {
   "cell_type": "markdown",
   "metadata": {},
   "source": [
    "## LINEAR MODEL"
   ]
  },
  {
   "cell_type": "code",
   "execution_count": 125,
   "metadata": {},
   "outputs": [],
   "source": [
    "from sklearn.linear_model import LinearRegression\n",
    "linreg_model_td = LinearRegression(n_jobs=-1)\n",
    "linreg_model_fa = LinearRegression(n_jobs=-1)"
   ]
  },
  {
   "cell_type": "code",
   "execution_count": 126,
   "metadata": {},
   "outputs": [
    {
     "name": "stdout",
     "output_type": "stream",
     "text": [
      "Fit model TD\n",
      "Fit model FA\n",
      "Done!\n"
     ]
    }
   ],
   "source": [
    "print(\"Fit model TD\")\n",
    "linreg_model_td.fit(X_train_scaled, y_train_td.values.ravel());\n",
    "print(\"Fit model FA\")\n",
    "linreg_model_fa.fit(X_train_scaled, y_train_fa.values.ravel());\n",
    "print(\"Done!\")"
   ]
  },
  {
   "cell_type": "code",
   "execution_count": 127,
   "metadata": {},
   "outputs": [
    {
     "name": "stdout",
     "output_type": "stream",
     "text": [
      "Trip duration MSE: 6.657965163129323 minutes\n",
      "Trip duration R2: 0.7249066113254721\n",
      "Fare amount MSE: 3.146065110323787 $\n",
      "Fare amount R2: 0.9294890211880854\n"
     ]
    }
   ],
   "source": [
    "test_predictions_fa = linreg_model_fa.predict(X_test_scaled)\n",
    "test_predictions_td = linreg_model_td.predict(X_test_scaled)\n",
    "\n",
    "y_test_td = y_test[\"trip_duration\"]\n",
    "mse_td = mean_squared_error(y_test_td, test_predictions_td)**0.5\n",
    "r2_td = r2_score(y_test_td, test_predictions_td)\n",
    "print(f\"Trip duration MSE: {mse_td} minutes\")\n",
    "print(f\"Trip duration R2: {r2_td}\")\n",
    "\n",
    "y_test_fa = y_test[\"fare_amount\"]\n",
    "mse_fa = mean_squared_error(y_test_fa, test_predictions_fa)**0.5\n",
    "r2_fa = r2_score(y_test_fa, test_predictions_fa)\n",
    "print(f\"Fare amount MSE: {mse_fa} $\")\n",
    "print(f\"Fare amount R2: {r2_fa}\")"
   ]
  },
  {
   "cell_type": "code",
   "execution_count": 128,
   "metadata": {},
   "outputs": [],
   "source": [
    "pickle.dump(linreg_model_fa, open('linreg_model_fa.pkl', 'wb'))\n",
    "pickle.dump(linreg_model_td, open('linreg_model_td.pkl', 'wb'))"
   ]
  },
  {
   "cell_type": "markdown",
   "metadata": {},
   "source": [
    "## MODEL RANDOM FOREST"
   ]
  },
  {
   "cell_type": "code",
   "execution_count": 129,
   "metadata": {},
   "outputs": [],
   "source": [
    "ENABLE_RF = False"
   ]
  },
  {
   "cell_type": "code",
   "execution_count": 130,
   "metadata": {},
   "outputs": [],
   "source": [
    "if ENABLE_RF:\n",
    "    from sklearn.ensemble import RandomForestRegressor\n",
    "    rf_model_td = RandomForestRegressor(n_jobs=-1,\n",
    "                                        n_estimators=5)\n",
    "    rf_model_fa = RandomForestRegressor(n_jobs=-1,\n",
    "                                        n_estimators=5)"
   ]
  },
  {
   "cell_type": "code",
   "execution_count": 131,
   "metadata": {},
   "outputs": [],
   "source": [
    "if ENABLE_RF:\n",
    "    print(\"Fit model TD\")\n",
    "    rf_model_td.fit(X_train_scaled, y_train_td.values.ravel());\n",
    "    print(\"Fit model FA\")\n",
    "    rf_model_fa.fit(X_train_scaled, y_train_fa.values.ravel());\n",
    "    print(\"Done!\")"
   ]
  },
  {
   "cell_type": "code",
   "execution_count": 132,
   "metadata": {},
   "outputs": [],
   "source": [
    "if ENABLE_RF:\n",
    "    test_predictions_fa = rf_model_fa.predict(X_test_scaled)\n",
    "    test_predictions_td = rf_model_td.predict(X_test_scaled)\n",
    "\n",
    "    y_test_td = y_test[\"trip_duration\"]\n",
    "    mse_td = mean_squared_error(y_test_td, test_predictions_td)**0.5\n",
    "    r2_td = r2_score(y_test_td, test_predictions_td)\n",
    "    print(f\"Trip duration MSE: {mse_td} minutes\")\n",
    "    print(f\"Trip duration R2: {r2_td}\")\n",
    "\n",
    "    y_test_fa = y_test[\"fare_amount\"]\n",
    "    mse_fa = mean_squared_error(y_test_fa, test_predictions_fa)**0.5\n",
    "    r2_fa = r2_score(y_test_fa, test_predictions_fa)\n",
    "    print(f\"Fare amount MSE: {mse_fa} $\")\n",
    "    print(f\"Fare amount R2: {r2_fa}\")"
   ]
  },
  {
   "cell_type": "code",
   "execution_count": 133,
   "metadata": {},
   "outputs": [],
   "source": [
    "if ENABLE_RF:\n",
    "    pickle.dump(rf_model_fa, open('rf_model_fa.pkl', 'wb'))\n",
    "    pickle.dump(rf_model_td, open('rf_model_td.pkl', 'wb'))"
   ]
  },
  {
   "cell_type": "markdown",
   "metadata": {},
   "source": [
    "## MODEL LIGHT GBM"
   ]
  },
  {
   "cell_type": "code",
   "execution_count": 154,
   "metadata": {},
   "outputs": [
    {
     "name": "stdout",
     "output_type": "stream",
     "text": [
      "Model LightGBM\n"
     ]
    }
   ],
   "source": [
    "\n",
    "print(\"Model LightGBM\")\n",
    "import lightgbm as lgb\n",
    "train_data_lgb_td = lgb.Dataset(X_train_scaled, label=y_train_td)\n",
    "train_data_lgb_fa = lgb.Dataset(X_train_scaled, label=y_train_fa)\n",
    "params = {\n",
    "'objective': 'regression',  # 'regression' for regression problems\n",
    "'metric': 'rmse',          # Root Mean Squared Error for evaluation\n",
    "'boosting_type': 'gbdt',   # Gradient Boosting Decision Tree\n",
    "'num_leaves': 20,         # Maximum number of leaves in one tree\n",
    "'learning_rate': 0.05,     # Learning rate\n",
    "'feature_fraction': 0.9,   # Fraction of features to be used in each iteration\n",
    "'bagging_fraction': 0.8,   # Fraction of data to be used for bagging\n",
    "'bagging_freq': 5,         # Frequency for bagging\n",
    "'verbose': 2               # Verbosity (0: silent, 1: progress bar, 2: print all)\n",
    "}\n",
    "num_rounds = 100  # Number of boosting rounds (iterations)"
   ]
  },
  {
   "cell_type": "code",
   "execution_count": 155,
   "metadata": {},
   "outputs": [
    {
     "name": "stdout",
     "output_type": "stream",
     "text": [
      "Training LGBM\n",
      "Fit model TD\n",
      "[LightGBM] [Debug] Dataset::GetMultiBinFromAllFeatures: sparse rate 0.101724\n",
      "[LightGBM] [Debug] init for col-wise cost 0.000014 seconds, init for row-wise cost 0.056912 seconds\n",
      "[LightGBM] [Info] Auto-choosing row-wise multi-threading, the overhead of testing was 0.055886 seconds.\n",
      "You can set `force_row_wise=true` to remove the overhead.\n",
      "And if memory is not enough, you can set `force_col_wise=true`.\n",
      "[LightGBM] [Debug] Using Dense Multi-Val Bin\n",
      "[LightGBM] [Info] Total Bins 815\n",
      "[LightGBM] [Info] Number of data points in the train set: 2381274, number of used features: 17\n",
      "[LightGBM] [Debug] Use subset for bagging\n",
      "[LightGBM] [Info] Start training from score 16.255198\n",
      "[LightGBM] [Debug] Re-bagging, using 1905883 data to train\n",
      "[LightGBM] [Debug] Trained a tree with leaves = 20 and depth = 5\n",
      "[LightGBM] [Debug] Trained a tree with leaves = 20 and depth = 5\n",
      "[LightGBM] [Debug] Trained a tree with leaves = 20 and depth = 5\n",
      "[LightGBM] [Debug] Trained a tree with leaves = 20 and depth = 5\n",
      "[LightGBM] [Debug] Trained a tree with leaves = 20 and depth = 5\n",
      "[LightGBM] [Debug] Re-bagging, using 1904848 data to train\n",
      "[LightGBM] [Debug] Trained a tree with leaves = 20 and depth = 5\n",
      "[LightGBM] [Debug] Trained a tree with leaves = 20 and depth = 5\n",
      "[LightGBM] [Debug] Trained a tree with leaves = 20 and depth = 5\n",
      "[LightGBM] [Debug] Trained a tree with leaves = 20 and depth = 5\n",
      "[LightGBM] [Debug] Trained a tree with leaves = 20 and depth = 5\n",
      "[LightGBM] [Debug] Re-bagging, using 1905813 data to train\n",
      "[LightGBM] [Debug] Trained a tree with leaves = 20 and depth = 5\n",
      "[LightGBM] [Debug] Trained a tree with leaves = 20 and depth = 5\n",
      "[LightGBM] [Debug] Trained a tree with leaves = 20 and depth = 5\n",
      "[LightGBM] [Debug] Trained a tree with leaves = 20 and depth = 5\n",
      "[LightGBM] [Debug] Trained a tree with leaves = 20 and depth = 5\n",
      "[LightGBM] [Debug] Re-bagging, using 1905058 data to train\n",
      "[LightGBM] [Debug] Trained a tree with leaves = 20 and depth = 5\n",
      "[LightGBM] [Debug] Trained a tree with leaves = 20 and depth = 5\n",
      "[LightGBM] [Debug] Trained a tree with leaves = 20 and depth = 5\n",
      "[LightGBM] [Debug] Trained a tree with leaves = 20 and depth = 5\n",
      "[LightGBM] [Debug] Trained a tree with leaves = 20 and depth = 5\n",
      "[LightGBM] [Debug] Re-bagging, using 1904437 data to train\n",
      "[LightGBM] [Debug] Trained a tree with leaves = 20 and depth = 5\n",
      "[LightGBM] [Debug] Trained a tree with leaves = 20 and depth = 6\n",
      "[LightGBM] [Debug] Trained a tree with leaves = 20 and depth = 5\n",
      "[LightGBM] [Debug] Trained a tree with leaves = 20 and depth = 5\n",
      "[LightGBM] [Debug] Trained a tree with leaves = 20 and depth = 5\n",
      "[LightGBM] [Debug] Re-bagging, using 1906217 data to train\n",
      "[LightGBM] [Debug] Trained a tree with leaves = 20 and depth = 6\n",
      "[LightGBM] [Debug] Trained a tree with leaves = 20 and depth = 5\n",
      "[LightGBM] [Debug] Trained a tree with leaves = 20 and depth = 5\n",
      "[LightGBM] [Debug] Trained a tree with leaves = 20 and depth = 5\n",
      "[LightGBM] [Debug] Trained a tree with leaves = 20 and depth = 6\n",
      "[LightGBM] [Debug] Re-bagging, using 1904858 data to train\n",
      "[LightGBM] [Debug] Trained a tree with leaves = 20 and depth = 5\n",
      "[LightGBM] [Debug] Trained a tree with leaves = 20 and depth = 5\n",
      "[LightGBM] [Debug] Trained a tree with leaves = 20 and depth = 6\n",
      "[LightGBM] [Debug] Trained a tree with leaves = 20 and depth = 5\n",
      "[LightGBM] [Debug] Trained a tree with leaves = 20 and depth = 6\n",
      "[LightGBM] [Debug] Re-bagging, using 1905226 data to train\n",
      "[LightGBM] [Debug] Trained a tree with leaves = 20 and depth = 5\n",
      "[LightGBM] [Debug] Trained a tree with leaves = 20 and depth = 5\n",
      "[LightGBM] [Debug] Trained a tree with leaves = 20 and depth = 5\n",
      "[LightGBM] [Debug] Trained a tree with leaves = 20 and depth = 6\n",
      "[LightGBM] [Debug] Trained a tree with leaves = 20 and depth = 5\n",
      "[LightGBM] [Debug] Re-bagging, using 1903910 data to train\n",
      "[LightGBM] [Debug] Trained a tree with leaves = 20 and depth = 6\n",
      "[LightGBM] [Debug] Trained a tree with leaves = 20 and depth = 6\n",
      "[LightGBM] [Debug] Trained a tree with leaves = 20 and depth = 5\n",
      "[LightGBM] [Debug] Trained a tree with leaves = 20 and depth = 5\n",
      "[LightGBM] [Debug] Trained a tree with leaves = 20 and depth = 5\n",
      "[LightGBM] [Debug] Re-bagging, using 1905331 data to train\n",
      "[LightGBM] [Debug] Trained a tree with leaves = 20 and depth = 6\n",
      "[LightGBM] [Debug] Trained a tree with leaves = 20 and depth = 6\n",
      "[LightGBM] [Debug] Trained a tree with leaves = 20 and depth = 6\n",
      "[LightGBM] [Debug] Trained a tree with leaves = 20 and depth = 5\n",
      "[LightGBM] [Debug] Trained a tree with leaves = 20 and depth = 6\n",
      "[LightGBM] [Debug] Re-bagging, using 1905011 data to train\n",
      "[LightGBM] [Debug] Trained a tree with leaves = 20 and depth = 6\n",
      "[LightGBM] [Debug] Trained a tree with leaves = 20 and depth = 5\n",
      "[LightGBM] [Debug] Trained a tree with leaves = 20 and depth = 5\n",
      "[LightGBM] [Debug] Trained a tree with leaves = 20 and depth = 6\n",
      "[LightGBM] [Debug] Trained a tree with leaves = 20 and depth = 6\n",
      "[LightGBM] [Debug] Re-bagging, using 1905391 data to train\n",
      "[LightGBM] [Debug] Trained a tree with leaves = 20 and depth = 6\n",
      "[LightGBM] [Debug] Trained a tree with leaves = 20 and depth = 5\n",
      "[LightGBM] [Debug] Trained a tree with leaves = 20 and depth = 6\n",
      "[LightGBM] [Debug] Trained a tree with leaves = 20 and depth = 6\n",
      "[LightGBM] [Debug] Trained a tree with leaves = 20 and depth = 5\n",
      "[LightGBM] [Debug] Re-bagging, using 1905347 data to train\n",
      "[LightGBM] [Debug] Trained a tree with leaves = 20 and depth = 5\n",
      "[LightGBM] [Debug] Trained a tree with leaves = 20 and depth = 6\n",
      "[LightGBM] [Debug] Trained a tree with leaves = 20 and depth = 5\n",
      "[LightGBM] [Debug] Trained a tree with leaves = 20 and depth = 7\n",
      "[LightGBM] [Debug] Trained a tree with leaves = 20 and depth = 6\n",
      "[LightGBM] [Debug] Re-bagging, using 1904703 data to train\n",
      "[LightGBM] [Debug] Trained a tree with leaves = 20 and depth = 6\n",
      "[LightGBM] [Debug] Trained a tree with leaves = 20 and depth = 7\n",
      "[LightGBM] [Debug] Trained a tree with leaves = 20 and depth = 6\n",
      "[LightGBM] [Debug] Trained a tree with leaves = 20 and depth = 6\n",
      "[LightGBM] [Debug] Trained a tree with leaves = 20 and depth = 6\n",
      "[LightGBM] [Debug] Re-bagging, using 1905461 data to train\n",
      "[LightGBM] [Debug] Trained a tree with leaves = 20 and depth = 6\n",
      "[LightGBM] [Debug] Trained a tree with leaves = 20 and depth = 6\n",
      "[LightGBM] [Debug] Trained a tree with leaves = 20 and depth = 6\n",
      "[LightGBM] [Debug] Trained a tree with leaves = 20 and depth = 7\n",
      "[LightGBM] [Debug] Trained a tree with leaves = 20 and depth = 6\n",
      "[LightGBM] [Debug] Re-bagging, using 1905581 data to train\n",
      "[LightGBM] [Debug] Trained a tree with leaves = 20 and depth = 6\n",
      "[LightGBM] [Debug] Trained a tree with leaves = 20 and depth = 9\n",
      "[LightGBM] [Debug] Trained a tree with leaves = 20 and depth = 6\n",
      "[LightGBM] [Debug] Trained a tree with leaves = 20 and depth = 6\n",
      "[LightGBM] [Debug] Trained a tree with leaves = 20 and depth = 6\n",
      "[LightGBM] [Debug] Re-bagging, using 1905544 data to train\n",
      "[LightGBM] [Debug] Trained a tree with leaves = 20 and depth = 6\n",
      "[LightGBM] [Debug] Trained a tree with leaves = 20 and depth = 6\n",
      "[LightGBM] [Debug] Trained a tree with leaves = 20 and depth = 7\n",
      "[LightGBM] [Debug] Trained a tree with leaves = 20 and depth = 6\n",
      "[LightGBM] [Debug] Trained a tree with leaves = 20 and depth = 6\n",
      "[LightGBM] [Debug] Re-bagging, using 1906261 data to train\n",
      "[LightGBM] [Debug] Trained a tree with leaves = 20 and depth = 6\n",
      "[LightGBM] [Debug] Trained a tree with leaves = 20 and depth = 7\n",
      "[LightGBM] [Debug] Trained a tree with leaves = 20 and depth = 6\n",
      "[LightGBM] [Debug] Trained a tree with leaves = 20 and depth = 6\n",
      "[LightGBM] [Debug] Trained a tree with leaves = 20 and depth = 6\n",
      "[LightGBM] [Debug] Re-bagging, using 1905274 data to train\n",
      "[LightGBM] [Debug] Trained a tree with leaves = 20 and depth = 7\n",
      "[LightGBM] [Debug] Trained a tree with leaves = 20 and depth = 8\n",
      "[LightGBM] [Debug] Trained a tree with leaves = 20 and depth = 6\n",
      "[LightGBM] [Debug] Trained a tree with leaves = 20 and depth = 6\n",
      "[LightGBM] [Debug] Trained a tree with leaves = 20 and depth = 6\n",
      "[LightGBM] [Debug] Re-bagging, using 1905693 data to train\n",
      "[LightGBM] [Debug] Trained a tree with leaves = 20 and depth = 7\n",
      "[LightGBM] [Debug] Trained a tree with leaves = 20 and depth = 6\n",
      "[LightGBM] [Debug] Trained a tree with leaves = 20 and depth = 7\n",
      "[LightGBM] [Debug] Trained a tree with leaves = 20 and depth = 7\n",
      "[LightGBM] [Debug] Trained a tree with leaves = 20 and depth = 8\n",
      "Fit model FA\n",
      "[LightGBM] [Debug] Dataset::GetMultiBinFromAllFeatures: sparse rate 0.101724\n",
      "[LightGBM] [Debug] init for col-wise cost 0.000010 seconds, init for row-wise cost 0.039772 seconds\n",
      "[LightGBM] [Info] Auto-choosing row-wise multi-threading, the overhead of testing was 0.026522 seconds.\n",
      "You can set `force_row_wise=true` to remove the overhead.\n",
      "And if memory is not enough, you can set `force_col_wise=true`.\n",
      "[LightGBM] [Debug] Using Dense Multi-Val Bin\n",
      "[LightGBM] [Info] Total Bins 815\n",
      "[LightGBM] [Info] Number of data points in the train set: 2381274, number of used features: 17\n",
      "[LightGBM] [Debug] Use subset for bagging\n",
      "[LightGBM] [Info] Start training from score 14.458650\n",
      "[LightGBM] [Debug] Re-bagging, using 1905883 data to train\n",
      "[LightGBM] [Debug] Trained a tree with leaves = 20 and depth = 5\n",
      "[LightGBM] [Debug] Trained a tree with leaves = 20 and depth = 5\n",
      "[LightGBM] [Debug] Trained a tree with leaves = 20 and depth = 5\n",
      "[LightGBM] [Debug] Trained a tree with leaves = 20 and depth = 6\n",
      "[LightGBM] [Debug] Trained a tree with leaves = 20 and depth = 5\n",
      "[LightGBM] [Debug] Re-bagging, using 1904848 data to train\n",
      "[LightGBM] [Debug] Trained a tree with leaves = 20 and depth = 6\n",
      "[LightGBM] [Debug] Trained a tree with leaves = 20 and depth = 6\n",
      "[LightGBM] [Debug] Trained a tree with leaves = 20 and depth = 6\n",
      "[LightGBM] [Debug] Trained a tree with leaves = 20 and depth = 6\n",
      "[LightGBM] [Debug] Trained a tree with leaves = 20 and depth = 6\n",
      "[LightGBM] [Debug] Re-bagging, using 1905813 data to train\n",
      "[LightGBM] [Debug] Trained a tree with leaves = 20 and depth = 5\n",
      "[LightGBM] [Debug] Trained a tree with leaves = 20 and depth = 6\n",
      "[LightGBM] [Debug] Trained a tree with leaves = 20 and depth = 6\n",
      "[LightGBM] [Debug] Trained a tree with leaves = 20 and depth = 6\n",
      "[LightGBM] [Debug] Trained a tree with leaves = 20 and depth = 6\n",
      "[LightGBM] [Debug] Re-bagging, using 1905058 data to train\n",
      "[LightGBM] [Debug] Trained a tree with leaves = 20 and depth = 6\n",
      "[LightGBM] [Debug] Trained a tree with leaves = 20 and depth = 6\n",
      "[LightGBM] [Debug] Trained a tree with leaves = 20 and depth = 6\n",
      "[LightGBM] [Debug] Trained a tree with leaves = 20 and depth = 6\n",
      "[LightGBM] [Debug] Trained a tree with leaves = 20 and depth = 6\n",
      "[LightGBM] [Debug] Re-bagging, using 1904437 data to train\n",
      "[LightGBM] [Debug] Trained a tree with leaves = 20 and depth = 6\n",
      "[LightGBM] [Debug] Trained a tree with leaves = 20 and depth = 6\n",
      "[LightGBM] [Debug] Trained a tree with leaves = 20 and depth = 6\n",
      "[LightGBM] [Debug] Trained a tree with leaves = 20 and depth = 6\n",
      "[LightGBM] [Debug] Trained a tree with leaves = 20 and depth = 6\n",
      "[LightGBM] [Debug] Re-bagging, using 1906217 data to train\n",
      "[LightGBM] [Debug] Trained a tree with leaves = 20 and depth = 6\n",
      "[LightGBM] [Debug] Trained a tree with leaves = 20 and depth = 6\n",
      "[LightGBM] [Debug] Trained a tree with leaves = 20 and depth = 6\n",
      "[LightGBM] [Debug] Trained a tree with leaves = 20 and depth = 6\n",
      "[LightGBM] [Debug] Trained a tree with leaves = 20 and depth = 6\n",
      "[LightGBM] [Debug] Re-bagging, using 1904858 data to train\n",
      "[LightGBM] [Debug] Trained a tree with leaves = 20 and depth = 6\n",
      "[LightGBM] [Debug] Trained a tree with leaves = 20 and depth = 6\n",
      "[LightGBM] [Debug] Trained a tree with leaves = 20 and depth = 6\n",
      "[LightGBM] [Debug] Trained a tree with leaves = 20 and depth = 6\n",
      "[LightGBM] [Debug] Trained a tree with leaves = 20 and depth = 6\n",
      "[LightGBM] [Debug] Re-bagging, using 1905226 data to train\n",
      "[LightGBM] [Debug] Trained a tree with leaves = 20 and depth = 6\n",
      "[LightGBM] [Debug] Trained a tree with leaves = 20 and depth = 6\n",
      "[LightGBM] [Debug] Trained a tree with leaves = 20 and depth = 6\n",
      "[LightGBM] [Debug] Trained a tree with leaves = 20 and depth = 6\n",
      "[LightGBM] [Debug] Trained a tree with leaves = 20 and depth = 6\n",
      "[LightGBM] [Debug] Re-bagging, using 1903910 data to train\n",
      "[LightGBM] [Debug] Trained a tree with leaves = 20 and depth = 6\n",
      "[LightGBM] [Debug] Trained a tree with leaves = 20 and depth = 6\n",
      "[LightGBM] [Debug] Trained a tree with leaves = 20 and depth = 6\n",
      "[LightGBM] [Debug] Trained a tree with leaves = 20 and depth = 6\n",
      "[LightGBM] [Debug] Trained a tree with leaves = 20 and depth = 6\n",
      "[LightGBM] [Debug] Re-bagging, using 1905331 data to train\n",
      "[LightGBM] [Debug] Trained a tree with leaves = 20 and depth = 6\n",
      "[LightGBM] [Debug] Trained a tree with leaves = 20 and depth = 6\n",
      "[LightGBM] [Debug] Trained a tree with leaves = 20 and depth = 6\n",
      "[LightGBM] [Debug] Trained a tree with leaves = 20 and depth = 6\n",
      "[LightGBM] [Debug] Trained a tree with leaves = 20 and depth = 6\n",
      "[LightGBM] [Debug] Re-bagging, using 1905011 data to train\n",
      "[LightGBM] [Debug] Trained a tree with leaves = 20 and depth = 6\n",
      "[LightGBM] [Debug] Trained a tree with leaves = 20 and depth = 6\n",
      "[LightGBM] [Debug] Trained a tree with leaves = 20 and depth = 7\n",
      "[LightGBM] [Debug] Trained a tree with leaves = 20 and depth = 6\n",
      "[LightGBM] [Debug] Trained a tree with leaves = 20 and depth = 6\n",
      "[LightGBM] [Debug] Re-bagging, using 1905391 data to train\n",
      "[LightGBM] [Debug] Trained a tree with leaves = 20 and depth = 7\n",
      "[LightGBM] [Debug] Trained a tree with leaves = 20 and depth = 7\n",
      "[LightGBM] [Debug] Trained a tree with leaves = 20 and depth = 6\n",
      "[LightGBM] [Debug] Trained a tree with leaves = 20 and depth = 6\n",
      "[LightGBM] [Debug] Trained a tree with leaves = 20 and depth = 6\n",
      "[LightGBM] [Debug] Re-bagging, using 1905347 data to train\n",
      "[LightGBM] [Debug] Trained a tree with leaves = 20 and depth = 6\n",
      "[LightGBM] [Debug] Trained a tree with leaves = 20 and depth = 7\n",
      "[LightGBM] [Debug] Trained a tree with leaves = 20 and depth = 6\n",
      "[LightGBM] [Debug] Trained a tree with leaves = 20 and depth = 7\n",
      "[LightGBM] [Debug] Trained a tree with leaves = 20 and depth = 6\n",
      "[LightGBM] [Debug] Re-bagging, using 1904703 data to train\n",
      "[LightGBM] [Debug] Trained a tree with leaves = 20 and depth = 6\n",
      "[LightGBM] [Debug] Trained a tree with leaves = 20 and depth = 6\n",
      "[LightGBM] [Debug] Trained a tree with leaves = 20 and depth = 6\n",
      "[LightGBM] [Debug] Trained a tree with leaves = 20 and depth = 7\n",
      "[LightGBM] [Debug] Trained a tree with leaves = 20 and depth = 7\n",
      "[LightGBM] [Debug] Re-bagging, using 1905461 data to train\n",
      "[LightGBM] [Debug] Trained a tree with leaves = 20 and depth = 6\n",
      "[LightGBM] [Debug] Trained a tree with leaves = 20 and depth = 7\n",
      "[LightGBM] [Debug] Trained a tree with leaves = 20 and depth = 7\n",
      "[LightGBM] [Debug] Trained a tree with leaves = 20 and depth = 6\n",
      "[LightGBM] [Debug] Trained a tree with leaves = 20 and depth = 7\n",
      "[LightGBM] [Debug] Re-bagging, using 1905581 data to train\n",
      "[LightGBM] [Debug] Trained a tree with leaves = 20 and depth = 7\n",
      "[LightGBM] [Debug] Trained a tree with leaves = 20 and depth = 9\n",
      "[LightGBM] [Debug] Trained a tree with leaves = 20 and depth = 7\n",
      "[LightGBM] [Debug] Trained a tree with leaves = 20 and depth = 6\n",
      "[LightGBM] [Debug] Trained a tree with leaves = 20 and depth = 6\n",
      "[LightGBM] [Debug] Re-bagging, using 1905544 data to train\n",
      "[LightGBM] [Debug] Trained a tree with leaves = 20 and depth = 7\n",
      "[LightGBM] [Debug] Trained a tree with leaves = 20 and depth = 6\n",
      "[LightGBM] [Debug] Trained a tree with leaves = 20 and depth = 7\n",
      "[LightGBM] [Debug] Trained a tree with leaves = 20 and depth = 7\n",
      "[LightGBM] [Debug] Trained a tree with leaves = 20 and depth = 6\n",
      "[LightGBM] [Debug] Re-bagging, using 1906261 data to train\n",
      "[LightGBM] [Debug] Trained a tree with leaves = 20 and depth = 7\n",
      "[LightGBM] [Debug] Trained a tree with leaves = 20 and depth = 6\n",
      "[LightGBM] [Debug] Trained a tree with leaves = 20 and depth = 7\n",
      "[LightGBM] [Debug] Trained a tree with leaves = 20 and depth = 7\n",
      "[LightGBM] [Debug] Trained a tree with leaves = 20 and depth = 6\n",
      "[LightGBM] [Debug] Re-bagging, using 1905274 data to train\n",
      "[LightGBM] [Debug] Trained a tree with leaves = 20 and depth = 7\n",
      "[LightGBM] [Debug] Trained a tree with leaves = 20 and depth = 7\n",
      "[LightGBM] [Debug] Trained a tree with leaves = 20 and depth = 7\n",
      "[LightGBM] [Debug] Trained a tree with leaves = 20 and depth = 7\n",
      "[LightGBM] [Debug] Trained a tree with leaves = 20 and depth = 7\n",
      "[LightGBM] [Debug] Re-bagging, using 1905693 data to train\n",
      "[LightGBM] [Debug] Trained a tree with leaves = 20 and depth = 9\n",
      "[LightGBM] [Debug] Trained a tree with leaves = 20 and depth = 7\n",
      "[LightGBM] [Debug] Trained a tree with leaves = 20 and depth = 7\n",
      "[LightGBM] [Debug] Trained a tree with leaves = 20 and depth = 7\n",
      "[LightGBM] [Debug] Trained a tree with leaves = 20 and depth = 10\n",
      "Done!\n"
     ]
    }
   ],
   "source": [
    "print(\"Training LGBM\")\n",
    "print(\"Fit model TD\")\n",
    "lgbm_model_td = lgb.train(params, train_data_lgb_td, num_rounds)\n",
    "print(\"Fit model FA\")\n",
    "lgbm_model_fa = lgb.train(params, train_data_lgb_fa, num_rounds)\n",
    "print(\"Done!\")"
   ]
  },
  {
   "cell_type": "code",
   "execution_count": 156,
   "metadata": {},
   "outputs": [
    {
     "name": "stdout",
     "output_type": "stream",
     "text": [
      "Trip duration MSE: 0.6946209085737489 minutes\n",
      "Trip duration R2: 0.9970057171717756\n",
      "Fare amount MSE: 2.2285894971513565 $\n",
      "Fare amount R2: 0.9646180724017899\n"
     ]
    }
   ],
   "source": [
    "test_predictions_fa = lgbm_model_fa.predict(X_test_scaled)\n",
    "test_predictions_td = lgbm_model_td.predict(X_test_scaled)\n",
    "\n",
    "y_test_td = y_test[\"trip_duration\"]\n",
    "mse_td = mean_squared_error(y_test_td, test_predictions_td)**0.5\n",
    "r2_td = r2_score(y_test_td, test_predictions_td)\n",
    "print(f\"Trip duration MSE: {mse_td} minutes\")\n",
    "print(f\"Trip duration R2: {r2_td}\")\n",
    "\n",
    "y_test_fa = y_test[\"fare_amount\"]\n",
    "mse_fa = mean_squared_error(y_test_fa, test_predictions_fa)**0.5\n",
    "r2_fa = r2_score(y_test_fa, test_predictions_fa)\n",
    "print(f\"Fare amount MSE: {mse_fa} $\")\n",
    "print(f\"Fare amount R2: {r2_fa}\")\n"
   ]
  },
  {
   "cell_type": "code",
   "execution_count": 157,
   "metadata": {},
   "outputs": [],
   "source": [
    "pickle.dump(lgbm_model_fa, open('lgbm_model_fa.pkl', 'wb'))\n",
    "pickle.dump(lgbm_model_td, open('lgbm_model_td.pkl', 'wb'))"
   ]
  },
  {
   "cell_type": "markdown",
   "metadata": {},
   "source": [
    "# Inference"
   ]
  },
  {
   "cell_type": "code",
   "execution_count": 158,
   "metadata": {},
   "outputs": [
    {
     "name": "stdout",
     "output_type": "stream",
     "text": [
      "lgbm_model_td.pkl\n",
      "lgbm_model_fa.pkl\n"
     ]
    }
   ],
   "source": [
    "model_prefix = \"lgbm\"\n",
    "model_name_td = f\"{model_prefix}_model_td.pkl\"\n",
    "model_name_fa = f\"{model_prefix}_model_fa.pkl\"\n",
    "\n",
    "print(model_name_td)\n",
    "print(model_name_fa)\n",
    "\n",
    "if os.path.exists(model_name_td):\n",
    "    with open(model_name_td, \"rb\") as model_td_fd:\n",
    "        model_td = pickle.load(model_td_fd)\n",
    "else:\n",
    "    print(\"TD model not found!\")\n",
    "\n",
    "if os.path.exists(model_name_fa):\n",
    "    with open(model_name_fa, \"rb\") as model_fa_fd:\n",
    "        model_fa = pickle.load(model_fa_fd)\n",
    "else:\n",
    "    print(\"FA model not found!\")\n",
    "\n",
    "if os.path.exists(\"encoders.pkl\"):\n",
    "    with open(\"encoders.pkl\", \"rb\") as encoders_file:\n",
    "        encoders = pickle.load(encoders_file)\n",
    "else:\n",
    "    print(\"Encoders model not found!\")\n",
    "\n",
    "if os.path.exists(\"avg_speed_dict.pkl\"):\n",
    "    with open(\"avg_speed_dict.pkl\", \"rb\") as avg_speed_dict_fd:\n",
    "        avg_speed_dict = pickle.load(avg_speed_dict_fd)\n",
    "else:\n",
    "    print(\"Average speed dictionary not found!\")"
   ]
  },
  {
   "cell_type": "markdown",
   "metadata": {},
   "source": [
    "Input"
   ]
  },
  {
   "cell_type": "code",
   "execution_count": 164,
   "metadata": {},
   "outputs": [],
   "source": [
    "pickup_date=\"2022/05/09\"\n",
    "pickup_time=\"06:00:00\"\n",
    "tpep_pickup_datetime = pickup_date + \" \" + pickup_time\n",
    "trip_distance = \"15\""
   ]
  },
  {
   "cell_type": "code",
   "execution_count": 165,
   "metadata": {},
   "outputs": [
    {
     "name": "stdout",
     "output_type": "stream",
     "text": [
      "Using pre-processed average speed dictionary\n"
     ]
    }
   ],
   "source": [
    "data = {\n",
    "    \"trip_distance\": [float(trip_distance)], \n",
    "    \"tpep_pickup_datetime\": [pd.to_datetime(tpep_pickup_datetime)] }\n",
    "df = pd.DataFrame(data)\n",
    "df,_ = preprocessing.add_features(df, avg_speed_dict)\n",
    "df.drop(columns=\"tpep_pickup_datetime\", inplace=True)"
   ]
  },
  {
   "cell_type": "code",
   "execution_count": 166,
   "metadata": {},
   "outputs": [],
   "source": [
    "for encoder_model in encoders:\n",
    "    encoder, col = encoder_model\n",
    "    array = pd.DataFrame(df[col].values.reshape(1,-1), columns=[col])\n",
    "    encoded_data = encoder.transform(array)\n",
    "    encoded_data = encoded_data.toarray()\n",
    "    encoded_df = pd.DataFrame(encoded_data, \n",
    "                            columns=encoder.get_feature_names_out([col])\n",
    "    )\n",
    "    df = pd.concat([df, encoded_df], axis=1, join=\"inner\")\n",
    "    df.drop(columns=col, inplace=True)"
   ]
  },
  {
   "cell_type": "code",
   "execution_count": 167,
   "metadata": {},
   "outputs": [
    {
     "data": {
      "text/plain": [
       "['trip_distance',\n",
       " 'hour_of_day',\n",
       " 'rush_hour',\n",
       " 'trip_d2',\n",
       " 'avg_speed',\n",
       " 'day_of_week_0',\n",
       " 'day_of_week_1',\n",
       " 'day_of_week_2',\n",
       " 'day_of_week_3',\n",
       " 'day_of_week_4',\n",
       " 'day_of_week_5',\n",
       " 'day_of_week_6',\n",
       " 'hour_zone_afternoon',\n",
       " 'hour_zone_evening',\n",
       " 'hour_zone_morning',\n",
       " 'hour_zone_night',\n",
       " 'hour_zone_noon']"
      ]
     },
     "execution_count": 167,
     "metadata": {},
     "output_type": "execute_result"
    }
   ],
   "source": [
    "df.columns.to_list()"
   ]
  },
  {
   "cell_type": "code",
   "execution_count": 169,
   "metadata": {},
   "outputs": [
    {
     "data": {
      "text/plain": [
       "(45.49, 20)"
      ]
     },
     "execution_count": 169,
     "metadata": {},
     "output_type": "execute_result"
    }
   ],
   "source": [
    "y_fa = round(model_fa.predict(df)[0],2)\n",
    "y_td = int(model_td.predict(df)[0])\n",
    "y_fa, y_td"
   ]
  }
 ],
 "metadata": {
  "kernelspec": {
   "display_name": "venv",
   "language": "python",
   "name": "python3"
  },
  "language_info": {
   "codemirror_mode": {
    "name": "ipython",
    "version": 3
   },
   "file_extension": ".py",
   "mimetype": "text/x-python",
   "name": "python",
   "nbconvert_exporter": "python",
   "pygments_lexer": "ipython3",
   "version": "3.10.12"
  }
 },
 "nbformat": 4,
 "nbformat_minor": 2
}
