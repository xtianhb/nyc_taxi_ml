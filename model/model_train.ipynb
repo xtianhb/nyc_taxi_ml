{
 "cells": [
  {
   "cell_type": "markdown",
   "metadata": {},
   "source": [
    "# NYC Taxi Fare & Duration\n",
    "## Model Training"
   ]
  },
  {
   "cell_type": "code",
   "execution_count": 1,
   "metadata": {},
   "outputs": [],
   "source": [
    "%load_ext autoreload\n",
    "%autoreload 2"
   ]
  },
  {
   "cell_type": "code",
   "execution_count": 2,
   "metadata": {},
   "outputs": [],
   "source": [
    "import os\n",
    "import sys\n",
    "import matplotlib.pyplot as plt\n",
    "import pandas as pd\n",
    "import numpy as np\n",
    "import wget\n",
    "import pickle\n",
    "\n",
    "sys.path.append(\"..\")\n",
    "\n",
    "import source.configs as configs\n",
    "import preprocessing as preprocessing\n",
    "\n",
    "# Check if we are in COLAB\n",
    "IN_COLAB = 'google.colab' in sys.modules"
   ]
  },
  {
   "cell_type": "code",
   "execution_count": 3,
   "metadata": {},
   "outputs": [],
   "source": [
    "if not os.path.exists(\"../dataset/yellow_tripdata_2022-05.parquet\"):\n",
    "    if IN_COLAB:\n",
    "        !wget https://d37ci6vzurychx.cloudfront.net/trip-data/yellow_tripdata_2022-05.parquet \"../dataset\"\n",
    "    else:\n",
    "        wget.download(configs.START_DATASET_URL, \"../dataset\")"
   ]
  },
  {
   "cell_type": "code",
   "execution_count": 4,
   "metadata": {},
   "outputs": [],
   "source": [
    "dataset = pd.read_parquet(\"../dataset/yellow_tripdata_2022-05.parquet\")"
   ]
  },
  {
   "cell_type": "code",
   "execution_count": 5,
   "metadata": {},
   "outputs": [],
   "source": [
    "dataset = preprocessing.add_features(dataset)\n",
    "dataset = preprocessing.add_targets(dataset)\n",
    "dataset = preprocessing.fill_na_values(dataset)\n",
    "dataset = preprocessing.process_outliers(dataset, \"delete\")"
   ]
  },
  {
   "cell_type": "markdown",
   "metadata": {},
   "source": [
    "### Features\n",
    "* trip_distance\n",
    "* hour_of_day: Extracted from tpep_pickup_datetime\n",
    "* hour_zone: Extracted from tpep_pickup_datetime. Categorical:[Morning, Noon, Afternoon, Evening, Night]\n",
    "* rush_hour: Extracted from tpep_pickup_datetime. Binary.\n",
    "### Targets\n",
    "* fare_amount\n",
    "* trip_duration"
   ]
  },
  {
   "cell_type": "code",
   "execution_count": 6,
   "metadata": {},
   "outputs": [],
   "source": [
    "columns = preprocessing.features + preprocessing.targets\n",
    "train_dataset = preprocessing.select_features(dataset, columns)\n",
    "train_dataset, encoders = preprocessing.create_one_hot_encodings(train_dataset, columns)\n",
    "pickle.dump(encoders, open('encoders.pkl', 'wb'))"
   ]
  },
  {
   "cell_type": "code",
   "execution_count": 7,
   "metadata": {},
   "outputs": [
    {
     "data": {
      "text/plain": [
       "['trip_distance',\n",
       " 'hour_of_day',\n",
       " 'rush_hour',\n",
       " 'fare_amount',\n",
       " 'trip_duration',\n",
       " 'hour_zone_afternoon',\n",
       " 'hour_zone_evening',\n",
       " 'hour_zone_morning',\n",
       " 'hour_zone_night',\n",
       " 'hour_zone_noon']"
      ]
     },
     "execution_count": 7,
     "metadata": {},
     "output_type": "execute_result"
    }
   ],
   "source": [
    "train_dataset.columns.to_list()"
   ]
  },
  {
   "cell_type": "code",
   "execution_count": 8,
   "metadata": {},
   "outputs": [
    {
     "name": "stdout",
     "output_type": "stream",
     "text": [
      "Ok, no NAs in train dataset.\n"
     ]
    }
   ],
   "source": [
    "for col in train_dataset.isna().sum():\n",
    "    assert col==0\n",
    "print(\"Ok, no NAs in train dataset.\")"
   ]
  },
  {
   "cell_type": "code",
   "execution_count": 9,
   "metadata": {},
   "outputs": [
    {
     "data": {
      "text/html": [
       "<div>\n",
       "<style scoped>\n",
       "    .dataframe tbody tr th:only-of-type {\n",
       "        vertical-align: middle;\n",
       "    }\n",
       "\n",
       "    .dataframe tbody tr th {\n",
       "        vertical-align: top;\n",
       "    }\n",
       "\n",
       "    .dataframe thead th {\n",
       "        text-align: right;\n",
       "    }\n",
       "</style>\n",
       "<table border=\"1\" class=\"dataframe\">\n",
       "  <thead>\n",
       "    <tr style=\"text-align: right;\">\n",
       "      <th></th>\n",
       "      <th>trip_distance</th>\n",
       "      <th>hour_of_day</th>\n",
       "      <th>rush_hour</th>\n",
       "      <th>fare_amount</th>\n",
       "      <th>trip_duration</th>\n",
       "      <th>hour_zone_afternoon</th>\n",
       "      <th>hour_zone_evening</th>\n",
       "      <th>hour_zone_morning</th>\n",
       "      <th>hour_zone_night</th>\n",
       "      <th>hour_zone_noon</th>\n",
       "    </tr>\n",
       "  </thead>\n",
       "  <tbody>\n",
       "    <tr>\n",
       "      <th>count</th>\n",
       "      <td>3.275421e+06</td>\n",
       "      <td>3.275421e+06</td>\n",
       "      <td>3.275421e+06</td>\n",
       "      <td>3.275421e+06</td>\n",
       "      <td>3.275421e+06</td>\n",
       "      <td>3.275421e+06</td>\n",
       "      <td>3.275421e+06</td>\n",
       "      <td>3.275421e+06</td>\n",
       "      <td>3.275421e+06</td>\n",
       "      <td>3.275421e+06</td>\n",
       "    </tr>\n",
       "    <tr>\n",
       "      <th>mean</th>\n",
       "      <td>3.243137e+00</td>\n",
       "      <td>1.416682e+01</td>\n",
       "      <td>3.170713e-01</td>\n",
       "      <td>1.369555e+01</td>\n",
       "      <td>1.533393e+01</td>\n",
       "      <td>3.019203e-01</td>\n",
       "      <td>2.459235e-01</td>\n",
       "      <td>2.269525e-01</td>\n",
       "      <td>1.685594e-01</td>\n",
       "      <td>5.664432e-02</td>\n",
       "    </tr>\n",
       "    <tr>\n",
       "      <th>std</th>\n",
       "      <td>3.744687e+00</td>\n",
       "      <td>5.748614e+00</td>\n",
       "      <td>4.653355e-01</td>\n",
       "      <td>1.054161e+01</td>\n",
       "      <td>1.091489e+01</td>\n",
       "      <td>4.590909e-01</td>\n",
       "      <td>4.306335e-01</td>\n",
       "      <td>4.188617e-01</td>\n",
       "      <td>3.743624e-01</td>\n",
       "      <td>2.311618e-01</td>\n",
       "    </tr>\n",
       "    <tr>\n",
       "      <th>min</th>\n",
       "      <td>0.000000e+00</td>\n",
       "      <td>0.000000e+00</td>\n",
       "      <td>0.000000e+00</td>\n",
       "      <td>2.500000e+00</td>\n",
       "      <td>1.100000e+00</td>\n",
       "      <td>0.000000e+00</td>\n",
       "      <td>0.000000e+00</td>\n",
       "      <td>0.000000e+00</td>\n",
       "      <td>0.000000e+00</td>\n",
       "      <td>0.000000e+00</td>\n",
       "    </tr>\n",
       "    <tr>\n",
       "      <th>25%</th>\n",
       "      <td>1.140000e+00</td>\n",
       "      <td>1.000000e+01</td>\n",
       "      <td>0.000000e+00</td>\n",
       "      <td>7.000000e+00</td>\n",
       "      <td>7.666667e+00</td>\n",
       "      <td>0.000000e+00</td>\n",
       "      <td>0.000000e+00</td>\n",
       "      <td>0.000000e+00</td>\n",
       "      <td>0.000000e+00</td>\n",
       "      <td>0.000000e+00</td>\n",
       "    </tr>\n",
       "    <tr>\n",
       "      <th>50%</th>\n",
       "      <td>1.900000e+00</td>\n",
       "      <td>1.500000e+01</td>\n",
       "      <td>0.000000e+00</td>\n",
       "      <td>1.000000e+01</td>\n",
       "      <td>1.241667e+01</td>\n",
       "      <td>0.000000e+00</td>\n",
       "      <td>0.000000e+00</td>\n",
       "      <td>0.000000e+00</td>\n",
       "      <td>0.000000e+00</td>\n",
       "      <td>0.000000e+00</td>\n",
       "    </tr>\n",
       "    <tr>\n",
       "      <th>75%</th>\n",
       "      <td>3.430000e+00</td>\n",
       "      <td>1.900000e+01</td>\n",
       "      <td>1.000000e+00</td>\n",
       "      <td>1.550000e+01</td>\n",
       "      <td>1.968333e+01</td>\n",
       "      <td>1.000000e+00</td>\n",
       "      <td>0.000000e+00</td>\n",
       "      <td>0.000000e+00</td>\n",
       "      <td>0.000000e+00</td>\n",
       "      <td>0.000000e+00</td>\n",
       "    </tr>\n",
       "    <tr>\n",
       "      <th>max</th>\n",
       "      <td>2.030000e+01</td>\n",
       "      <td>2.300000e+01</td>\n",
       "      <td>1.000000e+00</td>\n",
       "      <td>5.550000e+01</td>\n",
       "      <td>6.591667e+01</td>\n",
       "      <td>1.000000e+00</td>\n",
       "      <td>1.000000e+00</td>\n",
       "      <td>1.000000e+00</td>\n",
       "      <td>1.000000e+00</td>\n",
       "      <td>1.000000e+00</td>\n",
       "    </tr>\n",
       "  </tbody>\n",
       "</table>\n",
       "</div>"
      ],
      "text/plain": [
       "       trip_distance   hour_of_day     rush_hour   fare_amount  trip_duration  \\\n",
       "count   3.275421e+06  3.275421e+06  3.275421e+06  3.275421e+06   3.275421e+06   \n",
       "mean    3.243137e+00  1.416682e+01  3.170713e-01  1.369555e+01   1.533393e+01   \n",
       "std     3.744687e+00  5.748614e+00  4.653355e-01  1.054161e+01   1.091489e+01   \n",
       "min     0.000000e+00  0.000000e+00  0.000000e+00  2.500000e+00   1.100000e+00   \n",
       "25%     1.140000e+00  1.000000e+01  0.000000e+00  7.000000e+00   7.666667e+00   \n",
       "50%     1.900000e+00  1.500000e+01  0.000000e+00  1.000000e+01   1.241667e+01   \n",
       "75%     3.430000e+00  1.900000e+01  1.000000e+00  1.550000e+01   1.968333e+01   \n",
       "max     2.030000e+01  2.300000e+01  1.000000e+00  5.550000e+01   6.591667e+01   \n",
       "\n",
       "       hour_zone_afternoon  hour_zone_evening  hour_zone_morning  \\\n",
       "count         3.275421e+06       3.275421e+06       3.275421e+06   \n",
       "mean          3.019203e-01       2.459235e-01       2.269525e-01   \n",
       "std           4.590909e-01       4.306335e-01       4.188617e-01   \n",
       "min           0.000000e+00       0.000000e+00       0.000000e+00   \n",
       "25%           0.000000e+00       0.000000e+00       0.000000e+00   \n",
       "50%           0.000000e+00       0.000000e+00       0.000000e+00   \n",
       "75%           1.000000e+00       0.000000e+00       0.000000e+00   \n",
       "max           1.000000e+00       1.000000e+00       1.000000e+00   \n",
       "\n",
       "       hour_zone_night  hour_zone_noon  \n",
       "count     3.275421e+06    3.275421e+06  \n",
       "mean      1.685594e-01    5.664432e-02  \n",
       "std       3.743624e-01    2.311618e-01  \n",
       "min       0.000000e+00    0.000000e+00  \n",
       "25%       0.000000e+00    0.000000e+00  \n",
       "50%       0.000000e+00    0.000000e+00  \n",
       "75%       0.000000e+00    0.000000e+00  \n",
       "max       1.000000e+00    1.000000e+00  "
      ]
     },
     "execution_count": 9,
     "metadata": {},
     "output_type": "execute_result"
    }
   ],
   "source": [
    "train_dataset.describe()"
   ]
  },
  {
   "cell_type": "code",
   "execution_count": 10,
   "metadata": {},
   "outputs": [],
   "source": [
    "from sklearn.ensemble import RandomForestRegressor\n",
    "from sklearn.linear_model import LinearRegression\n",
    "from sklearn.model_selection import train_test_split\n",
    "from sklearn.preprocessing import StandardScaler\n",
    "from sklearn.metrics import mean_squared_error, r2_score"
   ]
  },
  {
   "cell_type": "code",
   "execution_count": 11,
   "metadata": {},
   "outputs": [],
   "source": [
    "# Split features and targets\n",
    "X, y = preprocessing.split_dataset(train_dataset)"
   ]
  },
  {
   "cell_type": "code",
   "execution_count": 12,
   "metadata": {},
   "outputs": [],
   "source": [
    "X_train, X_test, y_train, y_test = train_test_split(X, y, test_size=0.2, random_state=42)"
   ]
  },
  {
   "cell_type": "code",
   "execution_count": 13,
   "metadata": {},
   "outputs": [],
   "source": [
    "scaler = StandardScaler()\n",
    "X_train_scaled = scaler.fit_transform(X_train)\n",
    "X_test_scaled = scaler.transform(X_test)"
   ]
  },
  {
   "cell_type": "code",
   "execution_count": 14,
   "metadata": {},
   "outputs": [],
   "source": [
    "y_train_td = y_train[\"trip_duration\"]\n",
    "model_td = RandomForestRegressor(n_jobs=-1, n_estimators=5)\n",
    "model_td.fit(X_train_scaled, y_train_td.values.ravel())\n",
    "predictions = model_td.predict(X_test_scaled)"
   ]
  },
  {
   "cell_type": "code",
   "execution_count": 15,
   "metadata": {},
   "outputs": [
    {
     "name": "stdout",
     "output_type": "stream",
     "text": [
      "MSE: 31.668346386910024\n",
      "re: 0.7345484889010755\n"
     ]
    }
   ],
   "source": [
    "y_test_td = y_test[\"trip_duration\"]\n",
    "mse_td = mean_squared_error(y_test_td, predictions)\n",
    "r2_td = r2_score(y_test_td, predictions)\n",
    "print(f\"MSE: {mse_td}\")\n",
    "print(f\"re: {r2_td}\")"
   ]
  },
  {
   "cell_type": "code",
   "execution_count": 16,
   "metadata": {},
   "outputs": [],
   "source": [
    "y_train_fa = y_train[\"fare_amount\"]\n",
    "model_fa = RandomForestRegressor(n_jobs=-1, n_estimators=5)\n",
    "model_fa.fit(X_train_scaled, y_train_fa.values.ravel())\n",
    "predictions = model_fa.predict(X_test_scaled)"
   ]
  },
  {
   "cell_type": "code",
   "execution_count": 17,
   "metadata": {},
   "outputs": [
    {
     "name": "stdout",
     "output_type": "stream",
     "text": [
      "MSE: 7.469940771627599\n",
      "re: 0.9328755983533104\n"
     ]
    }
   ],
   "source": [
    "y_test_fa = y_test[\"fare_amount\"]\n",
    "mse_fa = mean_squared_error(y_test_fa, predictions)\n",
    "r2_fa = r2_score(y_test_fa, predictions)\n",
    "print(f\"MSE: {mse_fa}\")\n",
    "print(f\"re: {r2_fa}\")"
   ]
  },
  {
   "cell_type": "code",
   "execution_count": 18,
   "metadata": {},
   "outputs": [],
   "source": [
    "pickle.dump(model_fa, open('model_fa.pkl', 'wb'))\n",
    "pickle.dump(model_td, open('model_td.pkl', 'wb'))\n",
    "pickle.dump(scaler, open('scaler.pkl', 'wb'))"
   ]
  },
  {
   "cell_type": "markdown",
   "metadata": {},
   "source": [
    "### Inference"
   ]
  },
  {
   "cell_type": "code",
   "execution_count": 19,
   "metadata": {},
   "outputs": [],
   "source": [
    "if os.path.exists(\"model_td.pkl\"):\n",
    "    with open(\"model_td.pkl\", \"rb\") as model_td_file:\n",
    "        model_td = pickle.load(model_td_file)\n",
    "else:\n",
    "    print(\"TD model not found!\")\n",
    "\n",
    "if os.path.exists(\"model_fa.pkl\"):\n",
    "    with open(\"model_fa.pkl\", \"rb\") as model_fa_file:\n",
    "        model_fa = pickle.load(model_fa_file)\n",
    "else:\n",
    "    print(\"FA model not found!\")\n",
    "\n",
    "if os.path.exists(\"scaler.pkl\"):\n",
    "    with open(\"scaler.pkl\", \"rb\") as scaler_file:\n",
    "        scaler = pickle.load(scaler_file)\n",
    "else:\n",
    "    print(\"Scaler model not found!\")\n",
    "\n",
    "if os.path.exists(\"encoders.pkl\"):\n",
    "    with open(\"encoders.pkl\", \"rb\") as encoders_file:\n",
    "        encoders = pickle.load(encoders_file)\n",
    "else:\n",
    "    print(\"Encoders model not found!\")"
   ]
  },
  {
   "cell_type": "markdown",
   "metadata": {},
   "source": [
    "Input"
   ]
  },
  {
   "cell_type": "code",
   "execution_count": 20,
   "metadata": {},
   "outputs": [],
   "source": [
    "pickup_date=\"2023/12/12\"\n",
    "pickup_time=\"12:15:12\"\n",
    "tpep_pickup_datetime = pickup_date + \" \" + pickup_time\n",
    "trip_distance = \"5.5\""
   ]
  },
  {
   "cell_type": "code",
   "execution_count": 21,
   "metadata": {},
   "outputs": [],
   "source": [
    "data = {\n",
    "    \"trip_distance\": [float(trip_distance)], \n",
    "    \"tpep_pickup_datetime\": [pd.to_datetime(tpep_pickup_datetime)] }\n",
    "df = pd.DataFrame(data)\n",
    "df = preprocessing.add_features(df)\n",
    "df.drop(columns=\"tpep_pickup_datetime\", inplace=True)"
   ]
  },
  {
   "cell_type": "code",
   "execution_count": 22,
   "metadata": {},
   "outputs": [],
   "source": [
    "for encoder_model in encoders:\n",
    "    encoder, col = encoder_model\n",
    "    array = pd.DataFrame(df[col].values.reshape(1,-1), columns=[col])\n",
    "    encoded_data = encoder.transform(array)\n",
    "    encoded_data = encoded_data.toarray()\n",
    "    encoded_df = pd.DataFrame(encoded_data, \n",
    "                            columns=encoder.get_feature_names_out([col])\n",
    "    )\n",
    "    df = pd.concat([df, encoded_df], axis=1, join=\"inner\")\n",
    "    df.drop(columns=col, inplace=True)"
   ]
  },
  {
   "cell_type": "code",
   "execution_count": 23,
   "metadata": {},
   "outputs": [],
   "source": [
    "x = scaler.transform(df)"
   ]
  },
  {
   "cell_type": "code",
   "execution_count": 24,
   "metadata": {},
   "outputs": [],
   "source": [
    "y_fa = round(model_fa.predict(x)[0],2)\n",
    "y_td = int(model_td.predict(x)[0])"
   ]
  },
  {
   "cell_type": "code",
   "execution_count": 25,
   "metadata": {},
   "outputs": [
    {
     "name": "stdout",
     "output_type": "stream",
     "text": [
      "Trip duration: 27 minutes\n",
      "Fare amount: $ 20.09\n"
     ]
    }
   ],
   "source": [
    "print(f\"Trip duration: {y_td} minutes\")\n",
    "print(f\"Fare amount: $ {y_fa}\")"
   ]
  }
 ],
 "metadata": {
  "kernelspec": {
   "display_name": "venv",
   "language": "python",
   "name": "python3"
  },
  "language_info": {
   "codemirror_mode": {
    "name": "ipython",
    "version": 3
   },
   "file_extension": ".py",
   "mimetype": "text/x-python",
   "name": "python",
   "nbconvert_exporter": "python",
   "pygments_lexer": "ipython3",
   "version": "3.9.18"
  }
 },
 "nbformat": 4,
 "nbformat_minor": 2
}
