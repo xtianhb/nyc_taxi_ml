{
 "cells": [
  {
   "cell_type": "markdown",
   "metadata": {},
   "source": [
    "# NYC Taxi Fare & Duration\n",
    "## Model Training"
   ]
  },
  {
   "cell_type": "code",
   "execution_count": 13,
   "metadata": {},
   "outputs": [
    {
     "name": "stdout",
     "output_type": "stream",
     "text": [
      "The autoreload extension is already loaded. To reload it, use:\n",
      "  %reload_ext autoreload\n"
     ]
    }
   ],
   "source": [
    "%load_ext autoreload\n",
    "%autoreload 2"
   ]
  },
  {
   "cell_type": "code",
   "execution_count": 14,
   "metadata": {},
   "outputs": [],
   "source": [
    "import os\n",
    "import sys\n",
    "import matplotlib.pyplot as plt\n",
    "import pandas as pd\n",
    "import numpy as np\n",
    "import wget\n",
    "\n",
    "sys.path.append(\"..\")\n",
    "\n",
    "import source.configs as configs\n",
    "import source.preprocessing as preprocessing\n",
    "\n",
    "# Check if we are in COLAB\n",
    "IN_COLAB = 'google.colab' in sys.modules"
   ]
  },
  {
   "cell_type": "code",
   "execution_count": 15,
   "metadata": {},
   "outputs": [],
   "source": [
    "if not os.path.exists(\"../dataset/yellow_tripdata_2022-05.parquet\"):\n",
    "    if IN_COLAB:\n",
    "        !wget https://d37ci6vzurychx.cloudfront.net/trip-data/yellow_tripdata_2022-05.parquet \"../dataset\"\n",
    "    else:\n",
    "        wget.download(configs.START_DATASET_URL, \"../dataset\")"
   ]
  },
  {
   "cell_type": "code",
   "execution_count": 16,
   "metadata": {},
   "outputs": [],
   "source": [
    "dataset = pd.read_parquet(\"../dataset/yellow_tripdata_2022-05.parquet\")"
   ]
  },
  {
   "cell_type": "code",
   "execution_count": 17,
   "metadata": {},
   "outputs": [],
   "source": [
    "dataset = preprocessing.add_trip_duration_feature(dataset)\n",
    "dataset = preprocessing.fill_na_values(dataset)\n",
    "dataset = preprocessing.filter_outliers(dataset)"
   ]
  },
  {
   "cell_type": "code",
   "execution_count": 18,
   "metadata": {},
   "outputs": [],
   "source": [
    "dataset = preprocessing.add_day_of_week(dataset)\n",
    "dataset = preprocessing.add_hour_of_day(dataset)\n",
    "dataset = preprocessing.map_hour_zone(dataset)\n",
    "dataset = preprocessing.map_rush_hour(dataset)"
   ]
  },
  {
   "cell_type": "code",
   "execution_count": 19,
   "metadata": {},
   "outputs": [],
   "source": [
    "dataset = preprocessing.create_one_hot_encodings(dataset)"
   ]
  },
  {
   "cell_type": "markdown",
   "metadata": {},
   "source": [
    "### Features selection\n",
    "* trip_distance\n",
    "* vendor_id\n",
    "* passenger_count\n",
    "* day_of_week (engineered)\n",
    "* hour_zone (engineered)\n",
    "* rush_hour"
   ]
  },
  {
   "cell_type": "markdown",
   "metadata": {},
   "source": [
    "### Targets \n",
    "* trip_duration (engineered)\n",
    "* fare_amount"
   ]
  },
  {
   "cell_type": "markdown",
   "metadata": {},
   "source": [
    "### Dropped\n",
    "* tpep_pickup_datetime: We use engineered features extracted from this timestamp.\n",
    "* tpep_dropoff_datetime: We can't use this, it's from the future.\n",
    "* store_and_fwd_flag: Trip record was held in vehicle memory.\n",
    "* extra: Rush hour + overnight.\n",
    "* mta_tax: Autmatic triggered based on rate in use.\n",
    "* improvement_surcharge: Surcharge.\n",
    "* total_amount: Fare + taxes + etc.\n",
    "* tip_amount: Not used.\n",
    "* congestion_surcharge: Not included for now.\n",
    "* PULocationID & DOLocationID: Taxi zones, add 100s of categorical features, not used.\n",
    "* payment_type: Should not be relevant.\n",
    "* tolls_amount: Not used.\n",
    "* airport_fee: Not used."
   ]
  },
  {
   "cell_type": "code",
   "execution_count": 20,
   "metadata": {},
   "outputs": [],
   "source": [
    "features_drop_list = [\"tpep_pickup_datetime\",\n",
    "                    \"tpep_dropoff_datetime\", \n",
    "                    \"store_and_fwd_flag\", \n",
    "                    \"extra\", \n",
    "                    \"mta_tax\", \n",
    "                    \"improvement_surcharge\", \n",
    "                    \"total_amount\",\n",
    "                    \"tip_amount\" ,\n",
    "                    \"congestion_surcharge\", \n",
    "                    \"PULocationID\",\n",
    "                    \"DOLocationID\",\n",
    "                    \"payment_type\",\n",
    "                    \"tolls_amount\",\n",
    "                    \"airport_fee\"]\n",
    "\n",
    "features_drop_list.append(\"hour_of_day\")"
   ]
  },
  {
   "cell_type": "code",
   "execution_count": 21,
   "metadata": {},
   "outputs": [],
   "source": [
    "dataset = preprocessing.drop_features(dataset, features_drop_list)"
   ]
  },
  {
   "cell_type": "code",
   "execution_count": 22,
   "metadata": {},
   "outputs": [
    {
     "data": {
      "text/plain": [
       "['passenger_count',\n",
       " 'trip_distance',\n",
       " 'RatecodeID',\n",
       " 'fare_amount',\n",
       " 'trip_duration',\n",
       " 'day_of_week',\n",
       " 'rush_hour',\n",
       " 'RatecodeID_1.0',\n",
       " 'RatecodeID_2.0',\n",
       " 'RatecodeID_3.0',\n",
       " 'RatecodeID_4.0',\n",
       " 'RatecodeID_5.0',\n",
       " 'RatecodeID_6.0',\n",
       " 'VendorID_1',\n",
       " 'VendorID_2',\n",
       " 'VendorID_5',\n",
       " 'VendorID_6',\n",
       " 'day_of_week_0',\n",
       " 'day_of_week_1',\n",
       " 'day_of_week_2',\n",
       " 'day_of_week_3',\n",
       " 'day_of_week_4',\n",
       " 'day_of_week_5',\n",
       " 'day_of_week_6',\n",
       " 'hour_zone_Afternoon',\n",
       " 'hour_zone_Evening',\n",
       " 'hour_zone_Morning',\n",
       " 'hour_zone_Night',\n",
       " 'hour_zone_Noon']"
      ]
     },
     "execution_count": 22,
     "metadata": {},
     "output_type": "execute_result"
    }
   ],
   "source": [
    "dataset.columns.to_list()"
   ]
  },
  {
   "cell_type": "code",
   "execution_count": 23,
   "metadata": {},
   "outputs": [],
   "source": [
    "for col in dataset.isna().sum():\n",
    "    assert col==0"
   ]
  },
  {
   "cell_type": "code",
   "execution_count": 24,
   "metadata": {},
   "outputs": [
    {
     "data": {
      "text/html": [
       "<div>\n",
       "<style scoped>\n",
       "    .dataframe tbody tr th:only-of-type {\n",
       "        vertical-align: middle;\n",
       "    }\n",
       "\n",
       "    .dataframe tbody tr th {\n",
       "        vertical-align: top;\n",
       "    }\n",
       "\n",
       "    .dataframe thead th {\n",
       "        text-align: right;\n",
       "    }\n",
       "</style>\n",
       "<table border=\"1\" class=\"dataframe\">\n",
       "  <thead>\n",
       "    <tr style=\"text-align: right;\">\n",
       "      <th></th>\n",
       "      <th>passenger_count</th>\n",
       "      <th>trip_distance</th>\n",
       "      <th>RatecodeID</th>\n",
       "      <th>fare_amount</th>\n",
       "      <th>trip_duration</th>\n",
       "      <th>day_of_week</th>\n",
       "      <th>rush_hour</th>\n",
       "      <th>RatecodeID_1.0</th>\n",
       "      <th>RatecodeID_2.0</th>\n",
       "      <th>RatecodeID_3.0</th>\n",
       "      <th>...</th>\n",
       "      <th>day_of_week_2</th>\n",
       "      <th>day_of_week_3</th>\n",
       "      <th>day_of_week_4</th>\n",
       "      <th>day_of_week_5</th>\n",
       "      <th>day_of_week_6</th>\n",
       "      <th>hour_zone_Afternoon</th>\n",
       "      <th>hour_zone_Evening</th>\n",
       "      <th>hour_zone_Morning</th>\n",
       "      <th>hour_zone_Night</th>\n",
       "      <th>hour_zone_Noon</th>\n",
       "    </tr>\n",
       "  </thead>\n",
       "  <tbody>\n",
       "    <tr>\n",
       "      <th>count</th>\n",
       "      <td>3.588295e+06</td>\n",
       "      <td>3.588295e+06</td>\n",
       "      <td>3.588295e+06</td>\n",
       "      <td>3.588295e+06</td>\n",
       "      <td>3.588295e+06</td>\n",
       "      <td>3.588295e+06</td>\n",
       "      <td>3.588295e+06</td>\n",
       "      <td>3.588295e+06</td>\n",
       "      <td>3.588295e+06</td>\n",
       "      <td>3.588295e+06</td>\n",
       "      <td>...</td>\n",
       "      <td>3.588295e+06</td>\n",
       "      <td>3.588295e+06</td>\n",
       "      <td>3.588295e+06</td>\n",
       "      <td>3.588295e+06</td>\n",
       "      <td>3.588295e+06</td>\n",
       "      <td>3.588295e+06</td>\n",
       "      <td>3.588295e+06</td>\n",
       "      <td>3.588295e+06</td>\n",
       "      <td>3.588295e+06</td>\n",
       "      <td>3.588295e+06</td>\n",
       "    </tr>\n",
       "    <tr>\n",
       "      <th>mean</th>\n",
       "      <td>1.341704e+00</td>\n",
       "      <td>3.400188e+00</td>\n",
       "      <td>1.083079e+00</td>\n",
       "      <td>1.253954e+01</td>\n",
       "      <td>1.822221e+01</td>\n",
       "      <td>2.918017e+00</td>\n",
       "      <td>3.176007e-01</td>\n",
       "      <td>9.465144e-01</td>\n",
       "      <td>4.103314e-02</td>\n",
       "      <td>3.242766e-03</td>\n",
       "      <td>...</td>\n",
       "      <td>1.395510e-01</td>\n",
       "      <td>1.434860e-01</td>\n",
       "      <td>1.372239e-01</td>\n",
       "      <td>1.301445e-01</td>\n",
       "      <td>1.403318e-01</td>\n",
       "      <td>1.897141e-01</td>\n",
       "      <td>2.428981e-01</td>\n",
       "      <td>2.330787e-01</td>\n",
       "      <td>1.607117e-01</td>\n",
       "      <td>1.735975e-01</td>\n",
       "    </tr>\n",
       "    <tr>\n",
       "      <th>std</th>\n",
       "      <td>7.744593e-01</td>\n",
       "      <td>3.996767e+00</td>\n",
       "      <td>4.307322e-01</td>\n",
       "      <td>8.072620e+00</td>\n",
       "      <td>5.156555e+01</td>\n",
       "      <td>2.000686e+00</td>\n",
       "      <td>4.655433e-01</td>\n",
       "      <td>2.249997e-01</td>\n",
       "      <td>1.983669e-01</td>\n",
       "      <td>5.685289e-02</td>\n",
       "      <td>...</td>\n",
       "      <td>3.465206e-01</td>\n",
       "      <td>3.505678e-01</td>\n",
       "      <td>3.440837e-01</td>\n",
       "      <td>3.364624e-01</td>\n",
       "      <td>3.473310e-01</td>\n",
       "      <td>3.920748e-01</td>\n",
       "      <td>4.288341e-01</td>\n",
       "      <td>4.227920e-01</td>\n",
       "      <td>3.672649e-01</td>\n",
       "      <td>3.787630e-01</td>\n",
       "    </tr>\n",
       "    <tr>\n",
       "      <th>min</th>\n",
       "      <td>1.000000e+00</td>\n",
       "      <td>0.000000e+00</td>\n",
       "      <td>1.000000e+00</td>\n",
       "      <td>0.000000e+00</td>\n",
       "      <td>0.000000e+00</td>\n",
       "      <td>0.000000e+00</td>\n",
       "      <td>0.000000e+00</td>\n",
       "      <td>0.000000e+00</td>\n",
       "      <td>0.000000e+00</td>\n",
       "      <td>0.000000e+00</td>\n",
       "      <td>...</td>\n",
       "      <td>0.000000e+00</td>\n",
       "      <td>0.000000e+00</td>\n",
       "      <td>0.000000e+00</td>\n",
       "      <td>0.000000e+00</td>\n",
       "      <td>0.000000e+00</td>\n",
       "      <td>0.000000e+00</td>\n",
       "      <td>0.000000e+00</td>\n",
       "      <td>0.000000e+00</td>\n",
       "      <td>0.000000e+00</td>\n",
       "      <td>0.000000e+00</td>\n",
       "    </tr>\n",
       "    <tr>\n",
       "      <th>25%</th>\n",
       "      <td>1.000000e+00</td>\n",
       "      <td>1.150000e+00</td>\n",
       "      <td>1.000000e+00</td>\n",
       "      <td>7.500000e+00</td>\n",
       "      <td>7.666667e+00</td>\n",
       "      <td>1.000000e+00</td>\n",
       "      <td>0.000000e+00</td>\n",
       "      <td>1.000000e+00</td>\n",
       "      <td>0.000000e+00</td>\n",
       "      <td>0.000000e+00</td>\n",
       "      <td>...</td>\n",
       "      <td>0.000000e+00</td>\n",
       "      <td>0.000000e+00</td>\n",
       "      <td>0.000000e+00</td>\n",
       "      <td>0.000000e+00</td>\n",
       "      <td>0.000000e+00</td>\n",
       "      <td>0.000000e+00</td>\n",
       "      <td>0.000000e+00</td>\n",
       "      <td>0.000000e+00</td>\n",
       "      <td>0.000000e+00</td>\n",
       "      <td>0.000000e+00</td>\n",
       "    </tr>\n",
       "    <tr>\n",
       "      <th>50%</th>\n",
       "      <td>1.000000e+00</td>\n",
       "      <td>1.960000e+00</td>\n",
       "      <td>1.000000e+00</td>\n",
       "      <td>1.050000e+01</td>\n",
       "      <td>1.270000e+01</td>\n",
       "      <td>3.000000e+00</td>\n",
       "      <td>0.000000e+00</td>\n",
       "      <td>1.000000e+00</td>\n",
       "      <td>0.000000e+00</td>\n",
       "      <td>0.000000e+00</td>\n",
       "      <td>...</td>\n",
       "      <td>0.000000e+00</td>\n",
       "      <td>0.000000e+00</td>\n",
       "      <td>0.000000e+00</td>\n",
       "      <td>0.000000e+00</td>\n",
       "      <td>0.000000e+00</td>\n",
       "      <td>0.000000e+00</td>\n",
       "      <td>0.000000e+00</td>\n",
       "      <td>0.000000e+00</td>\n",
       "      <td>0.000000e+00</td>\n",
       "      <td>0.000000e+00</td>\n",
       "    </tr>\n",
       "    <tr>\n",
       "      <th>75%</th>\n",
       "      <td>1.000000e+00</td>\n",
       "      <td>3.600000e+00</td>\n",
       "      <td>1.000000e+00</td>\n",
       "      <td>1.475000e+01</td>\n",
       "      <td>2.061667e+01</td>\n",
       "      <td>5.000000e+00</td>\n",
       "      <td>1.000000e+00</td>\n",
       "      <td>1.000000e+00</td>\n",
       "      <td>0.000000e+00</td>\n",
       "      <td>0.000000e+00</td>\n",
       "      <td>...</td>\n",
       "      <td>0.000000e+00</td>\n",
       "      <td>0.000000e+00</td>\n",
       "      <td>0.000000e+00</td>\n",
       "      <td>0.000000e+00</td>\n",
       "      <td>0.000000e+00</td>\n",
       "      <td>0.000000e+00</td>\n",
       "      <td>0.000000e+00</td>\n",
       "      <td>0.000000e+00</td>\n",
       "      <td>0.000000e+00</td>\n",
       "      <td>0.000000e+00</td>\n",
       "    </tr>\n",
       "    <tr>\n",
       "      <th>max</th>\n",
       "      <td>5.000000e+00</td>\n",
       "      <td>2.000000e+01</td>\n",
       "      <td>6.000000e+00</td>\n",
       "      <td>5.000000e+01</td>\n",
       "      <td>6.823550e+03</td>\n",
       "      <td>6.000000e+00</td>\n",
       "      <td>1.000000e+00</td>\n",
       "      <td>1.000000e+00</td>\n",
       "      <td>1.000000e+00</td>\n",
       "      <td>1.000000e+00</td>\n",
       "      <td>...</td>\n",
       "      <td>1.000000e+00</td>\n",
       "      <td>1.000000e+00</td>\n",
       "      <td>1.000000e+00</td>\n",
       "      <td>1.000000e+00</td>\n",
       "      <td>1.000000e+00</td>\n",
       "      <td>1.000000e+00</td>\n",
       "      <td>1.000000e+00</td>\n",
       "      <td>1.000000e+00</td>\n",
       "      <td>1.000000e+00</td>\n",
       "      <td>1.000000e+00</td>\n",
       "    </tr>\n",
       "  </tbody>\n",
       "</table>\n",
       "<p>8 rows × 29 columns</p>\n",
       "</div>"
      ],
      "text/plain": [
       "       passenger_count  trip_distance    RatecodeID   fare_amount  \\\n",
       "count     3.588295e+06   3.588295e+06  3.588295e+06  3.588295e+06   \n",
       "mean      1.341704e+00   3.400188e+00  1.083079e+00  1.253954e+01   \n",
       "std       7.744593e-01   3.996767e+00  4.307322e-01  8.072620e+00   \n",
       "min       1.000000e+00   0.000000e+00  1.000000e+00  0.000000e+00   \n",
       "25%       1.000000e+00   1.150000e+00  1.000000e+00  7.500000e+00   \n",
       "50%       1.000000e+00   1.960000e+00  1.000000e+00  1.050000e+01   \n",
       "75%       1.000000e+00   3.600000e+00  1.000000e+00  1.475000e+01   \n",
       "max       5.000000e+00   2.000000e+01  6.000000e+00  5.000000e+01   \n",
       "\n",
       "       trip_duration   day_of_week     rush_hour  RatecodeID_1.0  \\\n",
       "count   3.588295e+06  3.588295e+06  3.588295e+06    3.588295e+06   \n",
       "mean    1.822221e+01  2.918017e+00  3.176007e-01    9.465144e-01   \n",
       "std     5.156555e+01  2.000686e+00  4.655433e-01    2.249997e-01   \n",
       "min     0.000000e+00  0.000000e+00  0.000000e+00    0.000000e+00   \n",
       "25%     7.666667e+00  1.000000e+00  0.000000e+00    1.000000e+00   \n",
       "50%     1.270000e+01  3.000000e+00  0.000000e+00    1.000000e+00   \n",
       "75%     2.061667e+01  5.000000e+00  1.000000e+00    1.000000e+00   \n",
       "max     6.823550e+03  6.000000e+00  1.000000e+00    1.000000e+00   \n",
       "\n",
       "       RatecodeID_2.0  RatecodeID_3.0  ...  day_of_week_2  day_of_week_3  \\\n",
       "count    3.588295e+06    3.588295e+06  ...   3.588295e+06   3.588295e+06   \n",
       "mean     4.103314e-02    3.242766e-03  ...   1.395510e-01   1.434860e-01   \n",
       "std      1.983669e-01    5.685289e-02  ...   3.465206e-01   3.505678e-01   \n",
       "min      0.000000e+00    0.000000e+00  ...   0.000000e+00   0.000000e+00   \n",
       "25%      0.000000e+00    0.000000e+00  ...   0.000000e+00   0.000000e+00   \n",
       "50%      0.000000e+00    0.000000e+00  ...   0.000000e+00   0.000000e+00   \n",
       "75%      0.000000e+00    0.000000e+00  ...   0.000000e+00   0.000000e+00   \n",
       "max      1.000000e+00    1.000000e+00  ...   1.000000e+00   1.000000e+00   \n",
       "\n",
       "       day_of_week_4  day_of_week_5  day_of_week_6  hour_zone_Afternoon  \\\n",
       "count   3.588295e+06   3.588295e+06   3.588295e+06         3.588295e+06   \n",
       "mean    1.372239e-01   1.301445e-01   1.403318e-01         1.897141e-01   \n",
       "std     3.440837e-01   3.364624e-01   3.473310e-01         3.920748e-01   \n",
       "min     0.000000e+00   0.000000e+00   0.000000e+00         0.000000e+00   \n",
       "25%     0.000000e+00   0.000000e+00   0.000000e+00         0.000000e+00   \n",
       "50%     0.000000e+00   0.000000e+00   0.000000e+00         0.000000e+00   \n",
       "75%     0.000000e+00   0.000000e+00   0.000000e+00         0.000000e+00   \n",
       "max     1.000000e+00   1.000000e+00   1.000000e+00         1.000000e+00   \n",
       "\n",
       "       hour_zone_Evening  hour_zone_Morning  hour_zone_Night  hour_zone_Noon  \n",
       "count       3.588295e+06       3.588295e+06     3.588295e+06    3.588295e+06  \n",
       "mean        2.428981e-01       2.330787e-01     1.607117e-01    1.735975e-01  \n",
       "std         4.288341e-01       4.227920e-01     3.672649e-01    3.787630e-01  \n",
       "min         0.000000e+00       0.000000e+00     0.000000e+00    0.000000e+00  \n",
       "25%         0.000000e+00       0.000000e+00     0.000000e+00    0.000000e+00  \n",
       "50%         0.000000e+00       0.000000e+00     0.000000e+00    0.000000e+00  \n",
       "75%         0.000000e+00       0.000000e+00     0.000000e+00    0.000000e+00  \n",
       "max         1.000000e+00       1.000000e+00     1.000000e+00    1.000000e+00  \n",
       "\n",
       "[8 rows x 29 columns]"
      ]
     },
     "execution_count": 24,
     "metadata": {},
     "output_type": "execute_result"
    }
   ],
   "source": [
    "dataset.describe()"
   ]
  },
  {
   "cell_type": "code",
   "execution_count": 30,
   "metadata": {},
   "outputs": [],
   "source": [
    "from sklearn.ensemble import RandomForestRegressor\n",
    "from sklearn.linear_model import LinearRegression\n",
    "from sklearn.model_selection import train_test_split\n",
    "from sklearn.preprocessing import StandardScaler\n",
    "from sklearn.metrics import mean_squared_error, r2_score"
   ]
  },
  {
   "cell_type": "code",
   "execution_count": 31,
   "metadata": {},
   "outputs": [],
   "source": [
    "# Split features and targets\n",
    "X, y_td, y_fa = preprocessing.split_dataset(dataset)"
   ]
  },
  {
   "cell_type": "code",
   "execution_count": 32,
   "metadata": {},
   "outputs": [],
   "source": [
    "X_train, X_test, y_train_td, y_test_td = train_test_split(X, y_td, test_size=0.2, random_state=42)"
   ]
  },
  {
   "cell_type": "code",
   "execution_count": 33,
   "metadata": {},
   "outputs": [],
   "source": [
    "scaler = StandardScaler()\n",
    "X_train_scaled = scaler.fit_transform(X_train)\n",
    "X_test_scaled = scaler.transform(X_test)"
   ]
  },
  {
   "cell_type": "code",
   "execution_count": 42,
   "metadata": {},
   "outputs": [],
   "source": [
    "model_td = RandomForestRegressor(n_jobs=-1, n_estimators=40)\n",
    "#model_td = LinearRegression()\n",
    "model_td.fit(X_train_scaled, y_train_td.values.ravel())\n",
    "predictions = model_td.predict(X_test_scaled)"
   ]
  },
  {
   "cell_type": "code",
   "execution_count": 43,
   "metadata": {},
   "outputs": [],
   "source": [
    "mse_td = mean_squared_error(y_test_td, predictions)\n",
    "r2_td = r2_score(y_test_td, predictions)"
   ]
  },
  {
   "cell_type": "code",
   "execution_count": 44,
   "metadata": {},
   "outputs": [
    {
     "name": "stdout",
     "output_type": "stream",
     "text": [
      "MSE: 2802.5777391211564\n",
      "re: -0.062444797793963724\n"
     ]
    }
   ],
   "source": [
    "print(f\"MSE: {mse_td}\")\n",
    "print(f\"re: {r2_td}\")"
   ]
  },
  {
   "cell_type": "code",
   "execution_count": null,
   "metadata": {},
   "outputs": [],
   "source": []
  }
 ],
 "metadata": {
  "kernelspec": {
   "display_name": "venv",
   "language": "python",
   "name": "python3"
  },
  "language_info": {
   "codemirror_mode": {
    "name": "ipython",
    "version": 3
   },
   "file_extension": ".py",
   "mimetype": "text/x-python",
   "name": "python",
   "nbconvert_exporter": "python",
   "pygments_lexer": "ipython3",
   "version": "3.10.12"
  }
 },
 "nbformat": 4,
 "nbformat_minor": 2
}
