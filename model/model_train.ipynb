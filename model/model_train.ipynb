{
 "cells": [
  {
   "cell_type": "markdown",
   "metadata": {},
   "source": [
    "# NYC Taxi Fare & Duration\n",
    "## Model Training"
   ]
  },
  {
   "cell_type": "code",
   "execution_count": 1,
   "metadata": {},
   "outputs": [],
   "source": [
    "%load_ext autoreload\n",
    "%autoreload 2"
   ]
  },
  {
   "cell_type": "code",
   "execution_count": 71,
   "metadata": {},
   "outputs": [],
   "source": [
    "import os\n",
    "import sys\n",
    "import matplotlib.pyplot as plt\n",
    "import pandas as pd\n",
    "import numpy as np\n",
    "import wget\n",
    "import pickle\n",
    "\n",
    "sys.path.append(\"..\")\n",
    "\n",
    "import source.configs as configs\n",
    "import preprocessing as preprocessing\n",
    "\n",
    "# Check if we are in COLAB\n",
    "IN_COLAB = 'google.colab' in sys.modules"
   ]
  },
  {
   "cell_type": "code",
   "execution_count": 72,
   "metadata": {},
   "outputs": [],
   "source": [
    "if not os.path.exists(\"../dataset/yellow_tripdata_2022-05.parquet\"):\n",
    "    if IN_COLAB:\n",
    "        !wget https://d37ci6vzurychx.cloudfront.net/trip-data/yellow_tripdata_2022-05.parquet \"../dataset\"\n",
    "    else:\n",
    "        wget.download(configs.START_DATASET_URL, \"../dataset\")"
   ]
  },
  {
   "cell_type": "code",
   "execution_count": 73,
   "metadata": {},
   "outputs": [],
   "source": [
    "dataset = pd.read_parquet(\"../dataset/yellow_tripdata_2022-05.parquet\")"
   ]
  },
  {
   "cell_type": "code",
   "execution_count": 74,
   "metadata": {},
   "outputs": [],
   "source": [
    "dataset = preprocessing.add_features(dataset, \"train\")\n",
    "dataset = preprocessing.fill_na_values(dataset)\n",
    "dataset = preprocessing.process_outliers(dataset, \"delete\")"
   ]
  },
  {
   "cell_type": "markdown",
   "metadata": {},
   "source": [
    "### Features\n",
    "* trip_distance\n",
    "* hour_of_day: Extracted from tpep_pickup_datetime\n",
    "* hour_zone: Extracted from tpep_pickup_datetime. Categorical:[Morning, Noon, Afternoon, Evening, Night]\n",
    "* rush_hour: Extracted from tpep_pickup_datetime. Binary.\n",
    "### Targets\n",
    "* fare_amount\n",
    "* trip_duration"
   ]
  },
  {
   "cell_type": "code",
   "execution_count": 75,
   "metadata": {},
   "outputs": [],
   "source": [
    "features = preprocessing.features\n",
    "targets = preprocessing.targets\n",
    "columns = features + targets\n",
    "train_dataset = preprocessing.select_features(dataset, columns)\n",
    "train_dataset, encoders = preprocessing.create_one_hot_encodings(train_dataset, columns)\n",
    "pickle.dump(encoders, open('encoders.pkl', 'wb'))"
   ]
  },
  {
   "cell_type": "code",
   "execution_count": 76,
   "metadata": {},
   "outputs": [
    {
     "data": {
      "text/plain": [
       "['trip_distance',\n",
       " 'hour_of_day',\n",
       " 'rush_hour',\n",
       " 'fare_amount',\n",
       " 'trip_duration',\n",
       " 'hour_zone_afternoon',\n",
       " 'hour_zone_evening',\n",
       " 'hour_zone_morning',\n",
       " 'hour_zone_night',\n",
       " 'hour_zone_noon']"
      ]
     },
     "execution_count": 76,
     "metadata": {},
     "output_type": "execute_result"
    }
   ],
   "source": [
    "train_dataset.columns.to_list()"
   ]
  },
  {
   "cell_type": "code",
   "execution_count": 77,
   "metadata": {},
   "outputs": [
    {
     "name": "stdout",
     "output_type": "stream",
     "text": [
      "Ok, no NAs in train dataset.\n"
     ]
    }
   ],
   "source": [
    "for col in train_dataset.isna().sum():\n",
    "    assert col==0\n",
    "print(\"Ok, no NAs in train dataset.\")"
   ]
  },
  {
   "cell_type": "code",
   "execution_count": 11,
   "metadata": {},
   "outputs": [
    {
     "data": {
      "text/html": [
       "<div>\n",
       "<style scoped>\n",
       "    .dataframe tbody tr th:only-of-type {\n",
       "        vertical-align: middle;\n",
       "    }\n",
       "\n",
       "    .dataframe tbody tr th {\n",
       "        vertical-align: top;\n",
       "    }\n",
       "\n",
       "    .dataframe thead th {\n",
       "        text-align: right;\n",
       "    }\n",
       "</style>\n",
       "<table border=\"1\" class=\"dataframe\">\n",
       "  <thead>\n",
       "    <tr style=\"text-align: right;\">\n",
       "      <th></th>\n",
       "      <th>trip_distance</th>\n",
       "      <th>hour_of_day</th>\n",
       "      <th>rush_hour</th>\n",
       "      <th>fare_amount</th>\n",
       "      <th>trip_duration</th>\n",
       "      <th>hour_zone_afternoon</th>\n",
       "      <th>hour_zone_evening</th>\n",
       "      <th>hour_zone_morning</th>\n",
       "      <th>hour_zone_night</th>\n",
       "      <th>hour_zone_noon</th>\n",
       "    </tr>\n",
       "  </thead>\n",
       "  <tbody>\n",
       "    <tr>\n",
       "      <th>count</th>\n",
       "      <td>3.275421e+06</td>\n",
       "      <td>3.275421e+06</td>\n",
       "      <td>3.275421e+06</td>\n",
       "      <td>3.275421e+06</td>\n",
       "      <td>3.275421e+06</td>\n",
       "      <td>3.275421e+06</td>\n",
       "      <td>3.275421e+06</td>\n",
       "      <td>3.275421e+06</td>\n",
       "      <td>3.275421e+06</td>\n",
       "      <td>3.275421e+06</td>\n",
       "    </tr>\n",
       "    <tr>\n",
       "      <th>mean</th>\n",
       "      <td>3.243137e+00</td>\n",
       "      <td>1.416682e+01</td>\n",
       "      <td>3.170713e-01</td>\n",
       "      <td>1.369555e+01</td>\n",
       "      <td>1.533393e+01</td>\n",
       "      <td>3.019203e-01</td>\n",
       "      <td>2.459235e-01</td>\n",
       "      <td>2.269525e-01</td>\n",
       "      <td>1.685594e-01</td>\n",
       "      <td>5.664432e-02</td>\n",
       "    </tr>\n",
       "    <tr>\n",
       "      <th>std</th>\n",
       "      <td>3.744687e+00</td>\n",
       "      <td>5.748614e+00</td>\n",
       "      <td>4.653355e-01</td>\n",
       "      <td>1.054161e+01</td>\n",
       "      <td>1.091489e+01</td>\n",
       "      <td>4.590909e-01</td>\n",
       "      <td>4.306335e-01</td>\n",
       "      <td>4.188617e-01</td>\n",
       "      <td>3.743624e-01</td>\n",
       "      <td>2.311618e-01</td>\n",
       "    </tr>\n",
       "    <tr>\n",
       "      <th>min</th>\n",
       "      <td>0.000000e+00</td>\n",
       "      <td>0.000000e+00</td>\n",
       "      <td>0.000000e+00</td>\n",
       "      <td>2.500000e+00</td>\n",
       "      <td>1.100000e+00</td>\n",
       "      <td>0.000000e+00</td>\n",
       "      <td>0.000000e+00</td>\n",
       "      <td>0.000000e+00</td>\n",
       "      <td>0.000000e+00</td>\n",
       "      <td>0.000000e+00</td>\n",
       "    </tr>\n",
       "    <tr>\n",
       "      <th>25%</th>\n",
       "      <td>1.140000e+00</td>\n",
       "      <td>1.000000e+01</td>\n",
       "      <td>0.000000e+00</td>\n",
       "      <td>7.000000e+00</td>\n",
       "      <td>7.666667e+00</td>\n",
       "      <td>0.000000e+00</td>\n",
       "      <td>0.000000e+00</td>\n",
       "      <td>0.000000e+00</td>\n",
       "      <td>0.000000e+00</td>\n",
       "      <td>0.000000e+00</td>\n",
       "    </tr>\n",
       "    <tr>\n",
       "      <th>50%</th>\n",
       "      <td>1.900000e+00</td>\n",
       "      <td>1.500000e+01</td>\n",
       "      <td>0.000000e+00</td>\n",
       "      <td>1.000000e+01</td>\n",
       "      <td>1.241667e+01</td>\n",
       "      <td>0.000000e+00</td>\n",
       "      <td>0.000000e+00</td>\n",
       "      <td>0.000000e+00</td>\n",
       "      <td>0.000000e+00</td>\n",
       "      <td>0.000000e+00</td>\n",
       "    </tr>\n",
       "    <tr>\n",
       "      <th>75%</th>\n",
       "      <td>3.430000e+00</td>\n",
       "      <td>1.900000e+01</td>\n",
       "      <td>1.000000e+00</td>\n",
       "      <td>1.550000e+01</td>\n",
       "      <td>1.968333e+01</td>\n",
       "      <td>1.000000e+00</td>\n",
       "      <td>0.000000e+00</td>\n",
       "      <td>0.000000e+00</td>\n",
       "      <td>0.000000e+00</td>\n",
       "      <td>0.000000e+00</td>\n",
       "    </tr>\n",
       "    <tr>\n",
       "      <th>max</th>\n",
       "      <td>2.030000e+01</td>\n",
       "      <td>2.300000e+01</td>\n",
       "      <td>1.000000e+00</td>\n",
       "      <td>5.550000e+01</td>\n",
       "      <td>6.591667e+01</td>\n",
       "      <td>1.000000e+00</td>\n",
       "      <td>1.000000e+00</td>\n",
       "      <td>1.000000e+00</td>\n",
       "      <td>1.000000e+00</td>\n",
       "      <td>1.000000e+00</td>\n",
       "    </tr>\n",
       "  </tbody>\n",
       "</table>\n",
       "</div>"
      ],
      "text/plain": [
       "       trip_distance   hour_of_day     rush_hour   fare_amount  trip_duration  \\\n",
       "count   3.275421e+06  3.275421e+06  3.275421e+06  3.275421e+06   3.275421e+06   \n",
       "mean    3.243137e+00  1.416682e+01  3.170713e-01  1.369555e+01   1.533393e+01   \n",
       "std     3.744687e+00  5.748614e+00  4.653355e-01  1.054161e+01   1.091489e+01   \n",
       "min     0.000000e+00  0.000000e+00  0.000000e+00  2.500000e+00   1.100000e+00   \n",
       "25%     1.140000e+00  1.000000e+01  0.000000e+00  7.000000e+00   7.666667e+00   \n",
       "50%     1.900000e+00  1.500000e+01  0.000000e+00  1.000000e+01   1.241667e+01   \n",
       "75%     3.430000e+00  1.900000e+01  1.000000e+00  1.550000e+01   1.968333e+01   \n",
       "max     2.030000e+01  2.300000e+01  1.000000e+00  5.550000e+01   6.591667e+01   \n",
       "\n",
       "       hour_zone_afternoon  hour_zone_evening  hour_zone_morning  \\\n",
       "count         3.275421e+06       3.275421e+06       3.275421e+06   \n",
       "mean          3.019203e-01       2.459235e-01       2.269525e-01   \n",
       "std           4.590909e-01       4.306335e-01       4.188617e-01   \n",
       "min           0.000000e+00       0.000000e+00       0.000000e+00   \n",
       "25%           0.000000e+00       0.000000e+00       0.000000e+00   \n",
       "50%           0.000000e+00       0.000000e+00       0.000000e+00   \n",
       "75%           1.000000e+00       0.000000e+00       0.000000e+00   \n",
       "max           1.000000e+00       1.000000e+00       1.000000e+00   \n",
       "\n",
       "       hour_zone_night  hour_zone_noon  \n",
       "count     3.275421e+06    3.275421e+06  \n",
       "mean      1.685594e-01    5.664432e-02  \n",
       "std       3.743624e-01    2.311618e-01  \n",
       "min       0.000000e+00    0.000000e+00  \n",
       "25%       0.000000e+00    0.000000e+00  \n",
       "50%       0.000000e+00    0.000000e+00  \n",
       "75%       0.000000e+00    0.000000e+00  \n",
       "max       1.000000e+00    1.000000e+00  "
      ]
     },
     "execution_count": 11,
     "metadata": {},
     "output_type": "execute_result"
    }
   ],
   "source": [
    "train_dataset.describe()"
   ]
  },
  {
   "cell_type": "code",
   "execution_count": 12,
   "metadata": {},
   "outputs": [],
   "source": [
    "from sklearn.ensemble import RandomForestRegressor\n",
    "from sklearn.linear_model import LinearRegression\n",
    "from sklearn.model_selection import train_test_split\n",
    "from sklearn.preprocessing import StandardScaler\n",
    "from sklearn.metrics import mean_squared_error, r2_score"
   ]
  },
  {
   "cell_type": "code",
   "execution_count": 13,
   "metadata": {},
   "outputs": [],
   "source": [
    "# Split features and targets\n",
    "X, y = preprocessing.split_dataset(train_dataset)"
   ]
  },
  {
   "cell_type": "code",
   "execution_count": 14,
   "metadata": {},
   "outputs": [],
   "source": [
    "X_train, X_test, y_train, y_test = train_test_split(X, y, test_size=0.2, random_state=42)"
   ]
  },
  {
   "cell_type": "code",
   "execution_count": 15,
   "metadata": {},
   "outputs": [],
   "source": [
    "scaler = StandardScaler()\n",
    "X_train_scaled = scaler.fit_transform(X_train)\n",
    "X_test_scaled = scaler.transform(X_test)"
   ]
  },
  {
   "cell_type": "code",
   "execution_count": 16,
   "metadata": {},
   "outputs": [],
   "source": [
    "y_train_td = y_train[\"trip_duration\"]\n",
    "model_td = RandomForestRegressor(n_jobs=-1, n_estimators=50)\n",
    "model_td.fit(X_train_scaled, y_train_td.values.ravel())\n",
    "predictions = model_td.predict(X_test_scaled)"
   ]
  },
  {
   "cell_type": "code",
   "execution_count": 17,
   "metadata": {},
   "outputs": [
    {
     "name": "stdout",
     "output_type": "stream",
     "text": [
      "MSE: 30.97501162289074\n",
      "re: 0.7403601835995524\n"
     ]
    }
   ],
   "source": [
    "y_test_td = y_test[\"trip_duration\"]\n",
    "mse_td = mean_squared_error(y_test_td, predictions)\n",
    "r2_td = r2_score(y_test_td, predictions)\n",
    "print(f\"MSE: {mse_td}\")\n",
    "print(f\"re: {r2_td}\")"
   ]
  },
  {
   "cell_type": "code",
   "execution_count": 18,
   "metadata": {},
   "outputs": [],
   "source": [
    "y_train_fa = y_train[\"fare_amount\"]\n",
    "model_fa = RandomForestRegressor(n_jobs=-1, n_estimators=50)\n",
    "model_fa.fit(X_train_scaled, y_train_fa.values.ravel())\n",
    "predictions = model_fa.predict(X_test_scaled)"
   ]
  },
  {
   "cell_type": "code",
   "execution_count": 19,
   "metadata": {},
   "outputs": [
    {
     "name": "stdout",
     "output_type": "stream",
     "text": [
      "MSE: 7.328737943058416\n",
      "re: 0.9341444377816666\n"
     ]
    }
   ],
   "source": [
    "y_test_fa = y_test[\"fare_amount\"]\n",
    "mse_fa = mean_squared_error(y_test_fa, predictions)\n",
    "r2_fa = r2_score(y_test_fa, predictions)\n",
    "print(f\"MSE: {mse_fa}\")\n",
    "print(f\"re: {r2_fa}\")"
   ]
  },
  {
   "cell_type": "code",
   "execution_count": 20,
   "metadata": {},
   "outputs": [],
   "source": [
    "pickle.dump(model_fa, open('model_fa.pkl', 'wb'))\n",
    "pickle.dump(model_td, open('model_td.pkl', 'wb'))\n",
    "pickle.dump(scaler, open('scaler.pkl', 'wb'))"
   ]
  },
  {
   "cell_type": "code",
   "execution_count": 78,
   "metadata": {},
   "outputs": [],
   "source": [
    "if os.path.exists(\"model_td.pkl\"):\n",
    "    with open(\"model_td.pkl\", \"rb\") as model_td_file:\n",
    "        model_td = pickle.load(model_td_file)\n",
    "else:\n",
    "    print(\"TD model not found!\")\n",
    "\n",
    "if os.path.exists(\"model_fa.pkl\"):\n",
    "    with open(\"model_fa.pkl\", \"rb\") as model_fa_file:\n",
    "        model_fa = pickle.load(model_fa_file)\n",
    "else:\n",
    "    print(\"FA model not found!\")\n",
    "\n",
    "if os.path.exists(\"scaler.pkl\"):\n",
    "    with open(\"scaler.pkl\", \"rb\") as scaler_file:\n",
    "        scaler = pickle.load(scaler_file)\n",
    "else:\n",
    "    print(\"Scaler model not found!\")\n",
    "\n",
    "if os.path.exists(\"encoders.pkl\"):\n",
    "    with open(\"encoders.pkl\", \"rb\") as encoders_file:\n",
    "        encoders = pickle.load(encoders_file)\n",
    "else:\n",
    "    print(\"Encoders model not found!\")"
   ]
  },
  {
   "cell_type": "code",
   "execution_count": 98,
   "metadata": {},
   "outputs": [],
   "source": [
    "pickup_date=\"2023/12/12\"\n",
    "pickup_time=\"12:15:12\"\n",
    "tpep_pickup_datetime = pickup_date + \" \" + pickup_time\n",
    "trip_distance = \"5.5\""
   ]
  },
  {
   "cell_type": "code",
   "execution_count": 106,
   "metadata": {},
   "outputs": [],
   "source": [
    "data = {\n",
    "    \"trip_distance\": [float(trip_distance)], \n",
    "    \"tpep_pickup_datetime\": [pd.to_datetime(tpep_pickup_datetime)] }\n",
    "df = pd.DataFrame(data)\n",
    "df = preprocessing.add_features(df, \"inference\")"
   ]
  },
  {
   "cell_type": "code",
   "execution_count": 107,
   "metadata": {},
   "outputs": [
    {
     "data": {
      "text/plain": [
       "['trip_distance',\n",
       " 'tpep_pickup_datetime',\n",
       " 'hour_of_day',\n",
       " 'hour_zone',\n",
       " 'rush_hour']"
      ]
     },
     "execution_count": 107,
     "metadata": {},
     "output_type": "execute_result"
    }
   ],
   "source": [
    "df.columns.to_list()"
   ]
  },
  {
   "cell_type": "code",
   "execution_count": 117,
   "metadata": {},
   "outputs": [
    {
     "name": "stdout",
     "output_type": "stream",
     "text": [
      "  (0, 4)\t1.0\n"
     ]
    },
    {
     "name": "stderr",
     "output_type": "stream",
     "text": [
      "/home/xtian/nyc_taxi/nyc_taxi_ml/venv/lib/python3.10/site-packages/sklearn/base.py:465: UserWarning: X does not have valid feature names, but OneHotEncoder was fitted with feature names\n",
      "  warnings.warn(\n"
     ]
    },
    {
     "ename": "AttributeError",
     "evalue": "'csr_matrix' object has no attribute 'to_array'",
     "output_type": "error",
     "traceback": [
      "\u001b[0;31m---------------------------------------------------------------------------\u001b[0m",
      "\u001b[0;31mAttributeError\u001b[0m                            Traceback (most recent call last)",
      "Cell \u001b[0;32mIn[117], line 7\u001b[0m\n\u001b[1;32m      4\u001b[0m encoded_data \u001b[38;5;241m=\u001b[39m encoder\u001b[38;5;241m.\u001b[39mtransform(array)\n\u001b[1;32m      5\u001b[0m \u001b[38;5;28mprint\u001b[39m(encoded_data)\n\u001b[1;32m      6\u001b[0m encoded_df \u001b[38;5;241m=\u001b[39m pd\u001b[38;5;241m.\u001b[39mDataFrame(\n\u001b[0;32m----> 7\u001b[0m     \u001b[43mencoded_data\u001b[49m\u001b[38;5;241;43m.\u001b[39;49m\u001b[43mto_array\u001b[49m(), columns\u001b[38;5;241m=\u001b[39mencoder\u001b[38;5;241m.\u001b[39mget_feature_names_out([col])\n\u001b[1;32m      8\u001b[0m )\n\u001b[1;32m      9\u001b[0m df \u001b[38;5;241m=\u001b[39m pd\u001b[38;5;241m.\u001b[39mconcat([df, encoded_df], axis\u001b[38;5;241m=\u001b[39m\u001b[38;5;241m1\u001b[39m, join\u001b[38;5;241m=\u001b[39m\u001b[38;5;124m\"\u001b[39m\u001b[38;5;124minner\u001b[39m\u001b[38;5;124m\"\u001b[39m)\n",
      "\u001b[0;31mAttributeError\u001b[0m: 'csr_matrix' object has no attribute 'to_array'"
     ]
    }
   ],
   "source": [
    "for encoder_model in encoders:\n",
    "    encoder, col = encoder_model\n",
    "    array = np.array(df[col]).reshape(1,-1)\n",
    "    encoded_data = encoder.transform(array)\n",
    "    print(encoded_data)\n",
    "    # HERE\n",
    "    encoded_df = pd.DataFrame(\n",
    "        encoded_data, columns=encoder.get_feature_names_out([col])\n",
    "    )\n",
    "    df = pd.concat([df, encoded_df], axis=1, join=\"inner\")"
   ]
  },
  {
   "cell_type": "code",
   "execution_count": 90,
   "metadata": {},
   "outputs": [],
   "source": [
    "df = preprocessing.select_features(df, preprocessing.features)"
   ]
  },
  {
   "cell_type": "code",
   "execution_count": 97,
   "metadata": {},
   "outputs": [
    {
     "name": "stderr",
     "output_type": "stream",
     "text": [
      "/home/xtian/nyc_taxi/nyc_taxi_ml/venv/lib/python3.10/site-packages/sklearn/base.py:465: UserWarning: X does not have valid feature names, but OneHotEncoder was fitted with feature names\n",
      "  warnings.warn(\n",
      "/home/xtian/nyc_taxi/nyc_taxi_ml/venv/lib/python3.10/site-packages/sklearn/preprocessing/_label.py:132: DataConversionWarning: A column-vector y was passed when a 1d array was expected. Please change the shape of y to (n_samples, ), for example using ravel().\n",
      "  y = column_or_1d(y, dtype=self.classes_.dtype, warn=True)\n"
     ]
    },
    {
     "ename": "AttributeError",
     "evalue": "'numpy.ndarray' object has no attribute 'toarray'",
     "output_type": "error",
     "traceback": [
      "\u001b[0;31m---------------------------------------------------------------------------\u001b[0m",
      "\u001b[0;31mAttributeError\u001b[0m                            Traceback (most recent call last)",
      "Cell \u001b[0;32mIn[97], line 6\u001b[0m\n\u001b[1;32m      3\u001b[0m array \u001b[38;5;241m=\u001b[39m np\u001b[38;5;241m.\u001b[39marray(df[col])\u001b[38;5;241m.\u001b[39mreshape(\u001b[38;5;241m-\u001b[39m\u001b[38;5;241m1\u001b[39m,\u001b[38;5;241m1\u001b[39m)\n\u001b[1;32m      4\u001b[0m encoded_data \u001b[38;5;241m=\u001b[39m encoder\u001b[38;5;241m.\u001b[39mtransform(array)\n\u001b[1;32m      5\u001b[0m encoded_df \u001b[38;5;241m=\u001b[39m pd\u001b[38;5;241m.\u001b[39mDataFrame(\n\u001b[0;32m----> 6\u001b[0m     \u001b[43mencoded_data\u001b[49m\u001b[38;5;241;43m.\u001b[39;49m\u001b[43mtoarray\u001b[49m(), columns\u001b[38;5;241m=\u001b[39mencoder\u001b[38;5;241m.\u001b[39mget_feature_names_out([col])\n\u001b[1;32m      7\u001b[0m )\n",
      "\u001b[0;31mAttributeError\u001b[0m: 'numpy.ndarray' object has no attribute 'toarray'"
     ]
    }
   ],
   "source": []
  },
  {
   "cell_type": "code",
   "execution_count": null,
   "metadata": {},
   "outputs": [],
   "source": []
  }
 ],
 "metadata": {
  "kernelspec": {
   "display_name": "venv",
   "language": "python",
   "name": "python3"
  },
  "language_info": {
   "codemirror_mode": {
    "name": "ipython",
    "version": 3
   },
   "file_extension": ".py",
   "mimetype": "text/x-python",
   "name": "python",
   "nbconvert_exporter": "python",
   "pygments_lexer": "ipython3",
   "version": "3.10.12"
  }
 },
 "nbformat": 4,
 "nbformat_minor": 2
}
