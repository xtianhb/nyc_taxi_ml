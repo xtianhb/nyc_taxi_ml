{
 "cells": [
  {
   "cell_type": "markdown",
   "metadata": {},
   "source": [
    "# NYC Taxi Fare & Duration\n",
    "## Model Training"
   ]
  },
  {
   "cell_type": "code",
   "execution_count": 1,
   "metadata": {},
   "outputs": [],
   "source": [
    "%load_ext autoreload\n",
    "%autoreload 2"
   ]
  },
  {
   "cell_type": "code",
   "execution_count": 2,
   "metadata": {},
   "outputs": [],
   "source": [
    "import os\n",
    "import sys\n",
    "import matplotlib.pyplot as plt\n",
    "import pandas as pd\n",
    "import numpy as np\n",
    "import wget\n",
    "import pickle\n",
    "import glob\n",
    "\n",
    "sys.path.append(\"..\")\n",
    "\n",
    "import source.configs as configs\n",
    "import preprocessing as preprocessing\n",
    "\n",
    "# Check if we are in COLAB\n",
    "IN_COLAB = 'google.colab' in sys.modules"
   ]
  },
  {
   "cell_type": "markdown",
   "metadata": {},
   "source": [
    "Download dataset files (2022)"
   ]
  },
  {
   "cell_type": "code",
   "execution_count": 3,
   "metadata": {},
   "outputs": [
    {
     "name": "stdout",
     "output_type": "stream",
     "text": [
      "yellow_tripdata_2022-05.parquet already in disk. Skipping download.\n"
     ]
    }
   ],
   "source": [
    "if IN_COLAB:\n",
    "    !wget https://d37ci6vzurychx.cloudfront.net/trip-data/yellow_tripdata_2022-05.parquet \"../dataset\"\n",
    "else:\n",
    "    for url in configs.TRAIN_DATASET_URLS:\n",
    "        fname = url.split(\"/\")[-1] \n",
    "        if not os.path.exists(f\"../dataset/train/{fname}\"):\n",
    "            print(f\"Downloading {fname}\")\n",
    "            wget.download(url, \"../dataset/train\")\n",
    "        else:\n",
    "            print(f\"{fname} already in disk. Skipping download.\")"
   ]
  },
  {
   "cell_type": "code",
   "execution_count": 4,
   "metadata": {},
   "outputs": [
    {
     "name": "stdout",
     "output_type": "stream",
     "text": [
      "Reading ../dataset/train/yellow_tripdata_2022-05.parquet\n",
      "Pandas concat for dataframes...\n",
      "Done!\n"
     ]
    }
   ],
   "source": [
    "files_list = glob.glob(\"../dataset/train/*.parquet\")\n",
    "dataset_list = []\n",
    "for file in files_list:\n",
    "    print(f\"Reading {file}\")\n",
    "    df_month = pd.read_parquet(file)\n",
    "    dataset_list.append(df_month)\n",
    "print(\"Pandas concat for dataframes...\")\n",
    "dataset = pd.concat(dataset_list, axis=0, ignore_index=True)\n",
    "print(\"Done!\")"
   ]
  },
  {
   "cell_type": "code",
   "execution_count": 5,
   "metadata": {},
   "outputs": [
    {
     "name": "stdout",
     "output_type": "stream",
     "text": [
      "Add targets\n",
      "Process outliers\n",
      "Avereage speed dictionary {0: 0.25195469322838193, 1: 0.2503693835995309, 2: 0.24999335352944238, 3: 0.26612218282651856, 4: 0.31345897957385943, 5: 0.3355459231509819, 6: 0.27443853508122146, 7: 0.21423070424047383, 8: 0.18310836751240536, 9: 0.1801333123203435, 10: 0.17675564690190834, 11: 0.16859408041651547, 12: 0.16663810140450216, 13: 0.16766048469717576, 14: 0.16282710598596348, 15: 0.15792099847450106, 16: 0.16202178873469653, 17: 0.16106102095237498, 18: 0.16875892761499706, 19: 0.18793062365816957, 20: 0.207260086062618, 21: 0.21805265270227106, 22: 0.22578244300596678, 23: 0.24366564777182562}\n",
      "Add features\n",
      "Using pre-processed average speed dictionary\n",
      "Fill na values\n",
      "Done!\n"
     ]
    }
   ],
   "source": [
    "print(\"Add targets\")\n",
    "dataset = preprocessing.add_targets(dataset)\n",
    "\n",
    "print(\"Process outliers\")\n",
    "dataset = preprocessing.process_outliers(dataset, \"delete\")\n",
    "\n",
    "if os.path.exists(\"avg_speed_dict.model\"):\n",
    "    with open(\"avg_speed_dict.model\", \"rb\") as avg_speed_dict_fd:\n",
    "        avg_speed_dict = pickle.load(avg_speed_dict_fd)\n",
    "        print(\"Avereage speed dictionary\", avg_speed_dict)\n",
    "else:\n",
    "    print(\"Error: Average speed dictionary not found!\")\n",
    "\n",
    "print(\"Add features\")\n",
    "dataset, _ = preprocessing.add_features(dataset, avg_speed_dict)\n",
    "\n",
    "print(\"Fill na values\")\n",
    "dataset = preprocessing.fill_na_values(dataset)\n",
    "print(\"Done!\")"
   ]
  },
  {
   "cell_type": "markdown",
   "metadata": {},
   "source": [
    "### Features\n",
    "* trip_distance\n",
    "* hour_of_day: Extracted from tpep_pickup_datetime\n",
    "* avg_speed: trip_distance / trip_duration. It is stored to use during inference.\n",
    "* trip_d2: Trip distance squared\n",
    "* rush_hour: Extracted from tpep_pickup_datetime. Binary.\n",
    "### Targets\n",
    "* fare_amount\n",
    "* trip_duration"
   ]
  },
  {
   "cell_type": "code",
   "execution_count": 7,
   "metadata": {},
   "outputs": [],
   "source": [
    "columns = preprocessing.features + preprocessing.targets\n",
    "train_dataset = preprocessing.select_features(dataset, columns)\n",
    "train_dataset, encoders = preprocessing.create_one_hot_encodings(train_dataset, columns)\n",
    "pickle.dump(encoders, open('encoders.model', 'wb'))"
   ]
  },
  {
   "cell_type": "code",
   "execution_count": 8,
   "metadata": {},
   "outputs": [
    {
     "data": {
      "text/plain": [
       "['trip_distance',\n",
       " 'hour_of_day',\n",
       " 'rush_hour',\n",
       " 'day_of_week',\n",
       " 'trip_d2',\n",
       " 'avg_speed',\n",
       " 'fare_amount',\n",
       " 'trip_duration']"
      ]
     },
     "execution_count": 8,
     "metadata": {},
     "output_type": "execute_result"
    }
   ],
   "source": [
    "train_dataset.columns.to_list()"
   ]
  },
  {
   "cell_type": "code",
   "execution_count": 9,
   "metadata": {},
   "outputs": [
    {
     "name": "stdout",
     "output_type": "stream",
     "text": [
      "Ok, no NAs in train dataset!\n"
     ]
    }
   ],
   "source": [
    "for col in train_dataset.isna().sum():\n",
    "    assert col==0\n",
    "print(\"Ok, no NAs in train dataset!\")"
   ]
  },
  {
   "cell_type": "code",
   "execution_count": 10,
   "metadata": {},
   "outputs": [
    {
     "data": {
      "text/html": [
       "<div>\n",
       "<style scoped>\n",
       "    .dataframe tbody tr th:only-of-type {\n",
       "        vertical-align: middle;\n",
       "    }\n",
       "\n",
       "    .dataframe tbody tr th {\n",
       "        vertical-align: top;\n",
       "    }\n",
       "\n",
       "    .dataframe thead th {\n",
       "        text-align: right;\n",
       "    }\n",
       "</style>\n",
       "<table border=\"1\" class=\"dataframe\">\n",
       "  <thead>\n",
       "    <tr style=\"text-align: right;\">\n",
       "      <th></th>\n",
       "      <th>trip_distance</th>\n",
       "      <th>hour_of_day</th>\n",
       "      <th>rush_hour</th>\n",
       "      <th>day_of_week</th>\n",
       "      <th>trip_d2</th>\n",
       "      <th>avg_speed</th>\n",
       "      <th>fare_amount</th>\n",
       "      <th>trip_duration</th>\n",
       "    </tr>\n",
       "  </thead>\n",
       "  <tbody>\n",
       "    <tr>\n",
       "      <th>count</th>\n",
       "      <td>3.289664e+06</td>\n",
       "      <td>3.289664e+06</td>\n",
       "      <td>3.289664e+06</td>\n",
       "      <td>3.289664e+06</td>\n",
       "      <td>3.289664e+06</td>\n",
       "      <td>3.289664e+06</td>\n",
       "      <td>3.289664e+06</td>\n",
       "      <td>3.289664e+06</td>\n",
       "    </tr>\n",
       "    <tr>\n",
       "      <th>mean</th>\n",
       "      <td>3.546120e+00</td>\n",
       "      <td>1.421627e+01</td>\n",
       "      <td>3.194651e-01</td>\n",
       "      <td>2.906948e+00</td>\n",
       "      <td>3.086053e+01</td>\n",
       "      <td>1.899809e-01</td>\n",
       "      <td>1.448234e+01</td>\n",
       "      <td>1.613262e+01</td>\n",
       "    </tr>\n",
       "    <tr>\n",
       "      <th>std</th>\n",
       "      <td>4.276163e+00</td>\n",
       "      <td>5.748154e+00</td>\n",
       "      <td>4.662695e-01</td>\n",
       "      <td>1.998258e+00</td>\n",
       "      <td>7.831490e+01</td>\n",
       "      <td>3.418965e-02</td>\n",
       "      <td>1.193054e+01</td>\n",
       "      <td>1.260353e+01</td>\n",
       "    </tr>\n",
       "    <tr>\n",
       "      <th>min</th>\n",
       "      <td>1.000000e-01</td>\n",
       "      <td>0.000000e+00</td>\n",
       "      <td>0.000000e+00</td>\n",
       "      <td>0.000000e+00</td>\n",
       "      <td>1.000000e-02</td>\n",
       "      <td>1.579210e-01</td>\n",
       "      <td>2.500000e+00</td>\n",
       "      <td>2.500000e-01</td>\n",
       "    </tr>\n",
       "    <tr>\n",
       "      <th>25%</th>\n",
       "      <td>1.170000e+00</td>\n",
       "      <td>1.100000e+01</td>\n",
       "      <td>0.000000e+00</td>\n",
       "      <td>1.000000e+00</td>\n",
       "      <td>1.368900e+00</td>\n",
       "      <td>1.628271e-01</td>\n",
       "      <td>7.000000e+00</td>\n",
       "      <td>7.733333e+00</td>\n",
       "    </tr>\n",
       "    <tr>\n",
       "      <th>50%</th>\n",
       "      <td>1.940000e+00</td>\n",
       "      <td>1.500000e+01</td>\n",
       "      <td>0.000000e+00</td>\n",
       "      <td>3.000000e+00</td>\n",
       "      <td>3.763600e+00</td>\n",
       "      <td>1.767556e-01</td>\n",
       "      <td>1.050000e+01</td>\n",
       "      <td>1.260000e+01</td>\n",
       "    </tr>\n",
       "    <tr>\n",
       "      <th>75%</th>\n",
       "      <td>3.610000e+00</td>\n",
       "      <td>1.900000e+01</td>\n",
       "      <td>1.000000e+00</td>\n",
       "      <td>5.000000e+00</td>\n",
       "      <td>1.303210e+01</td>\n",
       "      <td>2.142307e-01</td>\n",
       "      <td>1.600000e+01</td>\n",
       "      <td>2.025000e+01</td>\n",
       "    </tr>\n",
       "    <tr>\n",
       "      <th>max</th>\n",
       "      <td>2.500000e+01</td>\n",
       "      <td>2.300000e+01</td>\n",
       "      <td>1.000000e+00</td>\n",
       "      <td>6.000000e+00</td>\n",
       "      <td>6.250000e+02</td>\n",
       "      <td>3.355459e-01</td>\n",
       "      <td>7.500000e+01</td>\n",
       "      <td>9.000000e+01</td>\n",
       "    </tr>\n",
       "  </tbody>\n",
       "</table>\n",
       "</div>"
      ],
      "text/plain": [
       "       trip_distance   hour_of_day     rush_hour   day_of_week       trip_d2  \\\n",
       "count   3.289664e+06  3.289664e+06  3.289664e+06  3.289664e+06  3.289664e+06   \n",
       "mean    3.546120e+00  1.421627e+01  3.194651e-01  2.906948e+00  3.086053e+01   \n",
       "std     4.276163e+00  5.748154e+00  4.662695e-01  1.998258e+00  7.831490e+01   \n",
       "min     1.000000e-01  0.000000e+00  0.000000e+00  0.000000e+00  1.000000e-02   \n",
       "25%     1.170000e+00  1.100000e+01  0.000000e+00  1.000000e+00  1.368900e+00   \n",
       "50%     1.940000e+00  1.500000e+01  0.000000e+00  3.000000e+00  3.763600e+00   \n",
       "75%     3.610000e+00  1.900000e+01  1.000000e+00  5.000000e+00  1.303210e+01   \n",
       "max     2.500000e+01  2.300000e+01  1.000000e+00  6.000000e+00  6.250000e+02   \n",
       "\n",
       "          avg_speed   fare_amount  trip_duration  \n",
       "count  3.289664e+06  3.289664e+06   3.289664e+06  \n",
       "mean   1.899809e-01  1.448234e+01   1.613262e+01  \n",
       "std    3.418965e-02  1.193054e+01   1.260353e+01  \n",
       "min    1.579210e-01  2.500000e+00   2.500000e-01  \n",
       "25%    1.628271e-01  7.000000e+00   7.733333e+00  \n",
       "50%    1.767556e-01  1.050000e+01   1.260000e+01  \n",
       "75%    2.142307e-01  1.600000e+01   2.025000e+01  \n",
       "max    3.355459e-01  7.500000e+01   9.000000e+01  "
      ]
     },
     "execution_count": 10,
     "metadata": {},
     "output_type": "execute_result"
    }
   ],
   "source": [
    "train_dataset.describe()"
   ]
  },
  {
   "cell_type": "code",
   "execution_count": 11,
   "metadata": {},
   "outputs": [
    {
     "data": {
      "text/plain": [
       "['trip_distance',\n",
       " 'hour_of_day',\n",
       " 'rush_hour',\n",
       " 'day_of_week',\n",
       " 'trip_d2',\n",
       " 'avg_speed',\n",
       " 'fare_amount',\n",
       " 'trip_duration']"
      ]
     },
     "execution_count": 11,
     "metadata": {},
     "output_type": "execute_result"
    }
   ],
   "source": [
    "train_dataset.columns.to_list()"
   ]
  },
  {
   "cell_type": "code",
   "execution_count": 13,
   "metadata": {},
   "outputs": [
    {
     "data": {
      "image/png": "[encoded data removed]",
      "text/plain": [
       "<Figure size 600x600 with 2 Axes>"
      ]
     },
     "metadata": {},
     "output_type": "display_data"
    }
   ],
   "source": [
    "correlation_matrix = train_dataset.corr()\n",
    "plt.figure(figsize=(6, 6))  # Adjust the figure size as needed\n",
    "plt.imshow(correlation_matrix, cmap='coolwarm', interpolation='nearest')\n",
    "plt.colorbar()  # Add a colorbar to show the scale\n",
    "plt.title('Correlation Matrix')\n",
    "plt.xticks(ticks=range(len(correlation_matrix)), labels=correlation_matrix.columns, rotation=90)\n",
    "plt.yticks(ticks=range(len(correlation_matrix)), labels=correlation_matrix.columns)\n",
    "plt.show()"
   ]
  },
  {
   "cell_type": "markdown",
   "metadata": {},
   "source": [
    "## Model Training"
   ]
  },
  {
   "cell_type": "code",
   "execution_count": 14,
   "metadata": {},
   "outputs": [],
   "source": [
    "from sklearn.model_selection import train_test_split\n",
    "from sklearn.metrics import mean_squared_error, r2_score"
   ]
  },
  {
   "cell_type": "markdown",
   "metadata": {},
   "source": [
    "Split dataset"
   ]
  },
  {
   "cell_type": "code",
   "execution_count": 15,
   "metadata": {},
   "outputs": [],
   "source": [
    "# Split features and targets\n",
    "X, y = preprocessing.split_dataset(train_dataset)\n",
    "X_train, X_test, y_train, y_test = train_test_split(X, y, test_size=0.2, random_state=42)\n",
    "y_train_td = y_train[\"trip_duration\"]\n",
    "y_train_fa = y_train[\"fare_amount\"]"
   ]
  },
  {
   "cell_type": "markdown",
   "metadata": {},
   "source": [
    "## LINEAR MODEL"
   ]
  },
  {
   "cell_type": "code",
   "execution_count": 16,
   "metadata": {},
   "outputs": [],
   "source": [
    "from sklearn.linear_model import LinearRegression\n",
    "linreg_model_td = LinearRegression(n_jobs=-1)\n",
    "linreg_model_fa = LinearRegression(n_jobs=-1)"
   ]
  },
  {
   "cell_type": "code",
   "execution_count": 17,
   "metadata": {},
   "outputs": [
    {
     "name": "stdout",
     "output_type": "stream",
     "text": [
      "Fit model TD\n",
      "Fit model FA\n",
      "Done!\n"
     ]
    }
   ],
   "source": [
    "print(\"Fit model TD\")\n",
    "linreg_model_td.fit(X_train, y_train_td.values.ravel());\n",
    "print(\"Fit model FA\")\n",
    "linreg_model_fa.fit(X_train, y_train_fa.values.ravel());\n",
    "print(\"Done!\")"
   ]
  },
  {
   "cell_type": "code",
   "execution_count": 18,
   "metadata": {},
   "outputs": [
    {
     "name": "stdout",
     "output_type": "stream",
     "text": [
      "Trip duration MSE: 6.4503865713590995 minutes\n",
      "Trip duration R2: 0.7377935050470039\n",
      "Fare amount MSE: 3.074538333778374 $\n",
      "Fare amount R2: 0.9336034996902388\n"
     ]
    }
   ],
   "source": [
    "test_predictions_fa = linreg_model_fa.predict(X_test)\n",
    "test_predictions_td = linreg_model_td.predict(X_test)\n",
    "\n",
    "y_test_td = y_test[\"trip_duration\"]\n",
    "mse_td = mean_squared_error(y_test_td, test_predictions_td)**0.5\n",
    "r2_td = r2_score(y_test_td, test_predictions_td)\n",
    "print(f\"Trip duration MSE: {mse_td} minutes\")\n",
    "print(f\"Trip duration R2: {r2_td}\")\n",
    "\n",
    "y_test_fa = y_test[\"fare_amount\"]\n",
    "mse_fa = mean_squared_error(y_test_fa, test_predictions_fa)**0.5\n",
    "r2_fa = r2_score(y_test_fa, test_predictions_fa)\n",
    "print(f\"Fare amount MSE: {mse_fa} $\")\n",
    "print(f\"Fare amount R2: {r2_fa}\")"
   ]
  },
  {
   "cell_type": "code",
   "execution_count": 19,
   "metadata": {},
   "outputs": [],
   "source": [
    "pickle.dump(linreg_model_fa, open('linreg_model_fa.model', 'wb'))\n",
    "pickle.dump(linreg_model_td, open('linreg_model_td.model', 'wb'))"
   ]
  },
  {
   "cell_type": "markdown",
   "metadata": {},
   "source": [
    "## MODEL RANDOM FOREST"
   ]
  },
  {
   "cell_type": "code",
   "execution_count": 20,
   "metadata": {},
   "outputs": [],
   "source": [
    "ENABLE_RF = True"
   ]
  },
  {
   "cell_type": "code",
   "execution_count": 32,
   "metadata": {},
   "outputs": [],
   "source": [
    "if ENABLE_RF:\n",
    "    from sklearn.ensemble import RandomForestRegressor\n",
    "    rf_model_td = RandomForestRegressor(n_jobs=-1,\n",
    "                                        n_estimators=10)\n",
    "    rf_model_fa = RandomForestRegressor(n_jobs=-1,\n",
    "                                        n_estimators=10)"
   ]
  },
  {
   "cell_type": "code",
   "execution_count": 33,
   "metadata": {},
   "outputs": [
    {
     "name": "stdout",
     "output_type": "stream",
     "text": [
      "Fit model TD\n",
      "Fit model FA\n",
      "Done!\n"
     ]
    }
   ],
   "source": [
    "if ENABLE_RF:\n",
    "    print(\"Fit model TD\")\n",
    "    rf_model_td.fit(X_train, y_train_td.values.ravel());\n",
    "    print(\"Fit model FA\")\n",
    "    rf_model_fa.fit(X_train, y_train_fa.values.ravel());\n",
    "    print(\"Done!\")"
   ]
  },
  {
   "cell_type": "code",
   "execution_count": 34,
   "metadata": {},
   "outputs": [
    {
     "data": {
      "image/png": "[encoded data removed]",
      "text/plain": [
       "<Figure size 640x480 with 1 Axes>"
      ]
     },
     "metadata": {},
     "output_type": "display_data"
    }
   ],
   "source": [
    "if ENABLE_RF:\n",
    "    global_importances = pd.Series(rf_model_td.feature_importances_, index=X_train.columns)\n",
    "    global_importances.sort_values(ascending=True, inplace=True)\n",
    "    global_importances.plot.barh(color='green')\n",
    "    plt.xlabel(\"Importance\")\n",
    "    plt.ylabel(\"Feature\")\n",
    "    plt.title(\"Trip duration - feature importance\")"
   ]
  },
  {
   "cell_type": "code",
   "execution_count": 36,
   "metadata": {},
   "outputs": [
    {
     "data": {
      "image/png": "[encoded data removed]",
      "text/plain": [
       "<Figure size 640x480 with 1 Axes>"
      ]
     },
     "metadata": {},
     "output_type": "display_data"
    }
   ],
   "source": [
    "if ENABLE_RF:\n",
    "    global_importances = pd.Series(rf_model_fa.feature_importances_, index=X_train.columns)\n",
    "    global_importances.sort_values(ascending=True, inplace=True)\n",
    "    global_importances.plot.barh(color='green')\n",
    "    plt.xlabel(\"Importance\")\n",
    "    plt.ylabel(\"Feature\")\n",
    "    plt.title(\"Fare amount - feature importance\")"
   ]
  },
  {
   "cell_type": "code",
   "execution_count": 37,
   "metadata": {},
   "outputs": [
    {
     "name": "stdout",
     "output_type": "stream",
     "text": [
      "Trip duration MSE: 5.843555249602062 minutes\n",
      "Trip duration R2: 0.7848079271617957\n",
      "Fare amount MSE: 3.1225554577142707 $\n",
      "Fare amount R2: 0.9315133876015844\n"
     ]
    }
   ],
   "source": [
    "if ENABLE_RF:\n",
    "    test_predictions_fa = rf_model_fa.predict(X_test)\n",
    "    test_predictions_td = rf_model_td.predict(X_test)\n",
    "\n",
    "    y_test_td = y_test[\"trip_duration\"]\n",
    "    mse_td = mean_squared_error(y_test_td, test_predictions_td)**0.5\n",
    "    r2_td = r2_score(y_test_td, test_predictions_td)\n",
    "    print(f\"Trip duration MSE: {mse_td} minutes\")\n",
    "    print(f\"Trip duration R2: {r2_td}\")\n",
    "\n",
    "    y_test_fa = y_test[\"fare_amount\"]\n",
    "    mse_fa = mean_squared_error(y_test_fa, test_predictions_fa)**0.5\n",
    "    r2_fa = r2_score(y_test_fa, test_predictions_fa)\n",
    "    print(f\"Fare amount MSE: {mse_fa} $\")\n",
    "    print(f\"Fare amount R2: {r2_fa}\")"
   ]
  },
  {
   "cell_type": "code",
   "execution_count": 38,
   "metadata": {},
   "outputs": [],
   "source": [
    "if ENABLE_RF:\n",
    "    pickle.dump(rf_model_fa, open('rf_model_fa.model', 'wb'))\n",
    "    pickle.dump(rf_model_td, open('rf_model_td.model', 'wb'))"
   ]
  },
  {
   "cell_type": "markdown",
   "metadata": {},
   "source": [
    "## MODEL LIGHT GBM"
   ]
  },
  {
   "cell_type": "code",
   "execution_count": 52,
   "metadata": {},
   "outputs": [
    {
     "name": "stdout",
     "output_type": "stream",
     "text": [
      "Model LightGBM\n"
     ]
    }
   ],
   "source": [
    "print(\"Model LightGBM\")\n",
    "import lightgbm as lgb\n",
    "\n",
    "train_data_lgb_td = lgb.Dataset(X_train, label=y_train_td)\n",
    "train_data_lgb_fa = lgb.Dataset(X_train, label=y_train_fa)\n",
    "params = {\n",
    "    \"objective\": \"regression\",  # 'regression' for regression problems\n",
    "    \"metric\": \"rmse\",  # Root Mean Squared Error for evaluation\n",
    "    \"boosting_type\": \"gbdt\",  # Gradient Boosting Decision Tree\n",
    "    \"num_leaves\": 100,  # Maximum number of leaves in one tree\n",
    "    \"learning_rate\": 0.05,  # Learning rate\n",
    "    \"feature_fraction\": 0.9,  # Fraction of features to be used in each iteration\n",
    "    \"bagging_fraction\": 0.8,  # Fraction of data to be used for bagging\n",
    "    \"bagging_freq\": 5,  # Frequency for bagging\n",
    "    \"verbose\": 1,  # Verbosity (0: silent, 1: progress bar, 2: print all)\n",
    "}\n",
    "num_rounds = 500  # Number of boosting rounds (iterations)"
   ]
  },
  {
   "cell_type": "code",
   "execution_count": 53,
   "metadata": {},
   "outputs": [
    {
     "name": "stdout",
     "output_type": "stream",
     "text": [
      "Training LGBM\n",
      "Fit model TD\n",
      "[LightGBM] [Info] Auto-choosing col-wise multi-threading, the overhead of testing was 0.079249 seconds.\n",
      "You can set `force_col_wise=true` to remove the overhead.\n",
      "[LightGBM] [Info] Total Bins 568\n",
      "[LightGBM] [Info] Number of data points in the train set: 2631731, number of used features: 6\n",
      "[LightGBM] [Info] Start training from score 16.137781\n",
      "Fit model FA\n",
      "[LightGBM] [Info] Auto-choosing row-wise multi-threading, the overhead of testing was 0.042208 seconds.\n",
      "You can set `force_row_wise=true` to remove the overhead.\n",
      "And if memory is not enough, you can set `force_col_wise=true`.\n",
      "[LightGBM] [Info] Total Bins 568\n",
      "[LightGBM] [Info] Number of data points in the train set: 2631731, number of used features: 6\n",
      "[LightGBM] [Info] Start training from score 14.486215\n",
      "Done!\n"
     ]
    }
   ],
   "source": [
    "print(\"Training LGBM\")\n",
    "print(\"Fit model TD\")\n",
    "lgbm_model_td = lgb.train(params, train_data_lgb_td, num_rounds)\n",
    "print(\"Fit model FA\")\n",
    "lgbm_model_fa = lgb.train(params, train_data_lgb_fa, num_rounds)\n",
    "print(\"Done!\")"
   ]
  },
  {
   "cell_type": "code",
   "execution_count": 54,
   "metadata": {},
   "outputs": [
    {
     "data": {
      "text/plain": [
       "<Axes: title={'center': 'Feature importance'}, xlabel='Feature importance', ylabel='Features'>"
      ]
     },
     "execution_count": 54,
     "metadata": {},
     "output_type": "execute_result"
    },
    {
     "data": {
      "image/png": "[encoded data removed]",
      "text/plain": [
       "<Figure size 640x480 with 1 Axes>"
      ]
     },
     "metadata": {},
     "output_type": "display_data"
    },
    {
     "data": {
      "image/png": "[encoded data removed]",
      "text/plain": [
       "<Figure size 640x480 with 1 Axes>"
      ]
     },
     "metadata": {},
     "output_type": "display_data"
    }
   ],
   "source": [
    "lgb.plot_importance(lgbm_model_fa, height=.5)\n",
    "lgb.plot_importance(lgbm_model_td, height=.5)"
   ]
  },
  {
   "cell_type": "code",
   "execution_count": 55,
   "metadata": {},
   "outputs": [
    {
     "name": "stdout",
     "output_type": "stream",
     "text": [
      "Trip duration RMSE: 5.376763099058563 minutes\n",
      "Trip duration R2: 0.817814519051157\n",
      "Fare amount RMSE: 2.899967498558544 $\n",
      "Fare amount R2: 0.9409293669193678\n"
     ]
    }
   ],
   "source": [
    "test_predictions_fa = lgbm_model_fa.predict(X_test)\n",
    "test_predictions_td = lgbm_model_td.predict(X_test)\n",
    "\n",
    "y_test_td = y_test[\"trip_duration\"]\n",
    "mse_td = mean_squared_error(y_test_td, test_predictions_td)**0.5\n",
    "r2_td = r2_score(y_test_td, test_predictions_td)\n",
    "print(f\"Trip duration RMSE: {mse_td} minutes\")\n",
    "print(f\"Trip duration R2: {r2_td}\")\n",
    "\n",
    "y_test_fa = y_test[\"fare_amount\"]\n",
    "mse_fa = mean_squared_error(y_test_fa, test_predictions_fa)**0.5\n",
    "r2_fa = r2_score(y_test_fa, test_predictions_fa)\n",
    "print(f\"Fare amount RMSE: {mse_fa} $\")\n",
    "print(f\"Fare amount R2: {r2_fa}\")\n"
   ]
  },
  {
   "cell_type": "code",
   "execution_count": 56,
   "metadata": {},
   "outputs": [
    {
     "data": {
      "text/plain": [
       "<lightgbm.basic.Booster at 0x7f2c60e0d9f0>"
      ]
     },
     "execution_count": 56,
     "metadata": {},
     "output_type": "execute_result"
    }
   ],
   "source": [
    "lgbm_model_fa.save_model('lgbm_model_fa.model')\n",
    "lgbm_model_td.save_model('lgbm_model_td.model')"
   ]
  },
  {
   "cell_type": "markdown",
   "metadata": {},
   "source": [
    "# Inference"
   ]
  },
  {
   "cell_type": "code",
   "execution_count": 46,
   "metadata": {},
   "outputs": [
    {
     "name": "stdout",
     "output_type": "stream",
     "text": [
      "lgbm_model_td.model\n",
      "lgbm_model_fa.model\n"
     ]
    }
   ],
   "source": [
    "model_prefix = \"lgbm\"\n",
    "model_name_td = f\"{model_prefix}_model_td.model\"\n",
    "model_name_fa = f\"{model_prefix}_model_fa.model\"\n",
    "\n",
    "print(model_name_td)\n",
    "print(model_name_fa)\n",
    "\n",
    "if model_prefix == \"lgbm\":\n",
    "    import lightgbm as lgb\n",
    "    model_td = lgb.Booster(model_file=model_name_td)\n",
    "    model_fa = lgb.Booster(model_file=model_name_fa)\n",
    "else:\n",
    "    if os.path.exists(model_name_td):\n",
    "        with open(model_name_td, \"rb\") as model_td_fd:\n",
    "            model_td = pickle.load(model_td_fd)\n",
    "    else:\n",
    "        print(\"TD model not found!\")\n",
    "\n",
    "    if os.path.exists(model_name_fa):\n",
    "        with open(model_name_fa, \"rb\") as model_fa_fd:\n",
    "            model_fa = pickle.load(model_fa_fd)\n",
    "    else:\n",
    "        print(\"FA model not found!\")\n",
    "\n",
    "if os.path.exists(\"encoders.model\"):\n",
    "    with open(\"encoders.model\", \"rb\") as encoders_file:\n",
    "        encoders = pickle.load(encoders_file)\n",
    "else:\n",
    "    print(\"Encoders model not found!\")\n",
    "\n",
    "if os.path.exists(\"avg_speed_dict.model\"):\n",
    "    with open(\"avg_speed_dict.model\", \"rb\") as avg_speed_dict_fd:\n",
    "        avg_speed_dict = pickle.load(avg_speed_dict_fd)\n",
    "else:\n",
    "    print(\"Average speed dictionary not found!\")"
   ]
  },
  {
   "cell_type": "markdown",
   "metadata": {},
   "source": [
    "Input"
   ]
  },
  {
   "cell_type": "code",
   "execution_count": 47,
   "metadata": {},
   "outputs": [],
   "source": [
    "pickup_date=\"2024/01/03\"\n",
    "pickup_time=\"08:00:00\"\n",
    "tpep_pickup_datetime = pickup_date + \" \" + pickup_time\n",
    "trip_distance = \"18.0\""
   ]
  },
  {
   "cell_type": "code",
   "execution_count": 48,
   "metadata": {},
   "outputs": [
    {
     "name": "stdout",
     "output_type": "stream",
     "text": [
      "Using pre-processed average speed dictionary\n",
      "{0: 0.25195469322838193, 1: 0.2503693835995309, 2: 0.24999335352944238, 3: 0.26612218282651856, 4: 0.31345897957385943, 5: 0.3355459231509819, 6: 0.27443853508122146, 7: 0.21423070424047383, 8: 0.18310836751240536, 9: 0.1801333123203435, 10: 0.17675564690190834, 11: 0.16859408041651547, 12: 0.16663810140450216, 13: 0.16766048469717576, 14: 0.16282710598596348, 15: 0.15792099847450106, 16: 0.16202178873469653, 17: 0.16106102095237498, 18: 0.16875892761499706, 19: 0.18793062365816957, 20: 0.207260086062618, 21: 0.21805265270227106, 22: 0.22578244300596678, 23: 0.24366564777182562}\n"
     ]
    }
   ],
   "source": [
    "data = {\n",
    "    \"trip_distance\": [float(trip_distance)], \n",
    "    \"tpep_pickup_datetime\": [pd.to_datetime(tpep_pickup_datetime)] }\n",
    "df = pd.DataFrame(data)\n",
    "df,_ = preprocessing.add_features(df, avg_speed_dict)\n",
    "df.drop(columns=\"tpep_pickup_datetime\", inplace=True)\n",
    "print(avg_speed_dict)"
   ]
  },
  {
   "cell_type": "code",
   "execution_count": 49,
   "metadata": {},
   "outputs": [],
   "source": [
    "for encoder_model in encoders:\n",
    "    encoder, col = encoder_model\n",
    "    array = pd.DataFrame(df[col].values.reshape(1,-1), columns=[col])\n",
    "    encoded_data = encoder.transform(array)\n",
    "    encoded_data = encoded_data.toarray()\n",
    "    encoded_df = pd.DataFrame(encoded_data, \n",
    "                            columns=encoder.get_feature_names_out([col])\n",
    "    )\n",
    "    df = pd.concat([df, encoded_df], axis=1, join=\"inner\")\n",
    "    df.drop(columns=col, inplace=True)"
   ]
  },
  {
   "cell_type": "code",
   "execution_count": 50,
   "metadata": {},
   "outputs": [
    {
     "data": {
      "text/html": [
       "<div>\n",
       "<style scoped>\n",
       "    .dataframe tbody tr th:only-of-type {\n",
       "        vertical-align: middle;\n",
       "    }\n",
       "\n",
       "    .dataframe tbody tr th {\n",
       "        vertical-align: top;\n",
       "    }\n",
       "\n",
       "    .dataframe thead th {\n",
       "        text-align: right;\n",
       "    }\n",
       "</style>\n",
       "<table border=\"1\" class=\"dataframe\">\n",
       "  <thead>\n",
       "    <tr style=\"text-align: right;\">\n",
       "      <th></th>\n",
       "      <th>trip_distance</th>\n",
       "      <th>hour_of_day</th>\n",
       "      <th>rush_hour</th>\n",
       "      <th>day_of_week</th>\n",
       "      <th>trip_d2</th>\n",
       "      <th>avg_speed</th>\n",
       "    </tr>\n",
       "  </thead>\n",
       "  <tbody>\n",
       "    <tr>\n",
       "      <th>0</th>\n",
       "      <td>18.0</td>\n",
       "      <td>8</td>\n",
       "      <td>0</td>\n",
       "      <td>2</td>\n",
       "      <td>324.0</td>\n",
       "      <td>0.183108</td>\n",
       "    </tr>\n",
       "  </tbody>\n",
       "</table>\n",
       "</div>"
      ],
      "text/plain": [
       "   trip_distance  hour_of_day  rush_hour  day_of_week  trip_d2  avg_speed\n",
       "0           18.0            8          0            2    324.0   0.183108"
      ]
     },
     "execution_count": 50,
     "metadata": {},
     "output_type": "execute_result"
    }
   ],
   "source": [
    "df.head()"
   ]
  },
  {
   "cell_type": "code",
   "execution_count": 51,
   "metadata": {},
   "outputs": [
    {
     "name": "stdout",
     "output_type": "stream",
     "text": [
      "Trip duration: 56 minutes\n",
      "Fare amount: $ 52.73\n"
     ]
    }
   ],
   "source": [
    "y_fa = round(model_fa.predict(df)[0],2)\n",
    "y_td = int(model_td.predict(df)[0])\n",
    "print(f\"Trip duration: {y_td} minutes\")\n",
    "print(f\"Fare amount: $ {y_fa}\")"
   ]
  }
 ],
 "metadata": {
  "kernelspec": {
   "display_name": "venv",
   "language": "python",
   "name": "python3"
  },
  "language_info": {
   "codemirror_mode": {
    "name": "ipython",
    "version": 3
   },
   "file_extension": ".py",
   "mimetype": "text/x-python",
   "name": "python",
   "nbconvert_exporter": "python",
   "pygments_lexer": "ipython3",
   "version": "3.10.12"
  }
 },
 "nbformat": 4,
 "nbformat_minor": 2
}
