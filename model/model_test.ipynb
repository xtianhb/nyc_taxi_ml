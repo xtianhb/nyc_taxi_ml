{
 "cells": [
  {
   "cell_type": "markdown",
   "metadata": {},
   "source": [
    "# NYC Taxi Fare & Duration\n",
    "## Model Testing"
   ]
  },
  {
   "cell_type": "code",
   "execution_count": 1,
   "metadata": {},
   "outputs": [],
   "source": [
    "%load_ext autoreload\n",
    "%autoreload 2"
   ]
  },
  {
   "cell_type": "code",
   "execution_count": 2,
   "metadata": {},
   "outputs": [],
   "source": [
    "import os\n",
    "import sys\n",
    "import matplotlib.pyplot as plt\n",
    "import pandas as pd\n",
    "import numpy as np\n",
    "import wget\n",
    "import pickle\n",
    "import glob\n",
    "\n",
    "sys.path.append(\"..\")\n",
    "\n",
    "import source.configs as configs\n",
    "import preprocessing as preprocessing\n",
    "\n",
    "# Check if we are in COLAB\n",
    "IN_COLAB = 'google.colab' in sys.modules"
   ]
  },
  {
   "cell_type": "markdown",
   "metadata": {},
   "source": [
    "Download dataset files (2022)"
   ]
  },
  {
   "cell_type": "code",
   "execution_count": 3,
   "metadata": {},
   "outputs": [
    {
     "name": "stdout",
     "output_type": "stream",
     "text": [
      "yellow_tripdata_2022-08.parquet already in disk. Skipping download.\n"
     ]
    }
   ],
   "source": [
    "if IN_COLAB:\n",
    "    !wget https://d37ci6vzurychx.cloudfront.net/trip-data/yellow_tripdata_2022-05.parquet \"../dataset\"\n",
    "else:\n",
    "    for url in configs.TEST_DATASET_URLS:\n",
    "        fname = url.split(\"/\")[-1] \n",
    "        if not os.path.exists(f\"../dataset/test/{fname}\"):\n",
    "            print(f\"Downloading {fname}\")\n",
    "            wget.download(url, \"../dataset/test/\")\n",
    "        else:\n",
    "            print(f\"{fname} already in disk. Skipping download.\")"
   ]
  },
  {
   "cell_type": "code",
   "execution_count": 4,
   "metadata": {},
   "outputs": [
    {
     "name": "stdout",
     "output_type": "stream",
     "text": [
      "Reading ../dataset/test/yellow_tripdata_2022-08.parquet\n",
      "Pandas concat for dataframes...\n",
      "Done!\n"
     ]
    }
   ],
   "source": [
    "files_list = glob.glob(\"../dataset/test/*.parquet\")\n",
    "dataset_list = []\n",
    "for file in files_list:\n",
    "    print(f\"Reading {file}\")\n",
    "    df_month = pd.read_parquet(file)\n",
    "    dataset_list.append(df_month)\n",
    "print(\"Pandas concat for dataframes...\")\n",
    "dataset = pd.concat(dataset_list, axis=0, ignore_index=True)\n",
    "print(\"Done!\")"
   ]
  },
  {
   "cell_type": "code",
   "execution_count": 5,
   "metadata": {},
   "outputs": [
    {
     "name": "stdout",
     "output_type": "stream",
     "text": [
      "Add targets\n",
      "Process outliers\n",
      "Avereage Speed dictionary {0: 0.25195469322838193, 1: 0.2503693835995309, 2: 0.24999335352944238, 3: 0.26612218282651856, 4: 0.31345897957385943, 5: 0.3355459231509819, 6: 0.27443853508122146, 7: 0.21423070424047383, 8: 0.18310836751240536, 9: 0.1801333123203435, 10: 0.17675564690190834, 11: 0.16859408041651547, 12: 0.16663810140450216, 13: 0.16766048469717576, 14: 0.16282710598596348, 15: 0.15792099847450106, 16: 0.16202178873469653, 17: 0.16106102095237498, 18: 0.16875892761499706, 19: 0.18793062365816957, 20: 0.207260086062618, 21: 0.21805265270227106, 22: 0.22578244300596678, 23: 0.24366564777182562}\n",
      "Add features\n",
      "Using pre-processed average speed dictionary\n",
      "Fill na values\n",
      "Done!\n"
     ]
    }
   ],
   "source": [
    "print(\"Add targets\")\n",
    "dataset = preprocessing.add_targets(dataset)\n",
    "\n",
    "print(\"Process outliers\")\n",
    "dataset = preprocessing.process_outliers(dataset, \"delete\")\n",
    "\n",
    "if os.path.exists(\"avg_speed_dict.model\"):\n",
    "    with open(\"avg_speed_dict.model\", \"rb\") as avg_speed_dict_fd:\n",
    "        avg_speed_dict = pickle.load(avg_speed_dict_fd)\n",
    "        print(\"Avereage Speed dictionary\", avg_speed_dict)\n",
    "else:\n",
    "    print(\"Error: Average speed dictionary not found!\")\n",
    "\n",
    "print(\"Add features\")\n",
    "dataset, _ = preprocessing.add_features(dataset, avg_speed_dict)\n",
    "\n",
    "print(\"Fill na values\")\n",
    "dataset = preprocessing.fill_na_values(dataset)\n",
    "\n",
    "print(\"Done!\")"
   ]
  },
  {
   "cell_type": "code",
   "execution_count": 6,
   "metadata": {},
   "outputs": [],
   "source": [
    "columns = preprocessing.features + preprocessing.targets\n",
    "test_dataset = preprocessing.select_features(dataset, columns)\n",
    "test_dataset, encoders = preprocessing.create_one_hot_encodings(test_dataset, columns)"
   ]
  },
  {
   "cell_type": "code",
   "execution_count": 7,
   "metadata": {},
   "outputs": [
    {
     "data": {
      "text/plain": [
       "['trip_distance',\n",
       " 'hour_of_day',\n",
       " 'rush_hour',\n",
       " 'day_of_week',\n",
       " 'trip_d2',\n",
       " 'avg_speed',\n",
       " 'fare_amount',\n",
       " 'trip_duration']"
      ]
     },
     "execution_count": 7,
     "metadata": {},
     "output_type": "execute_result"
    }
   ],
   "source": [
    "test_dataset.columns.to_list()"
   ]
  },
  {
   "cell_type": "code",
   "execution_count": 8,
   "metadata": {},
   "outputs": [
    {
     "data": {
      "text/html": [
       "<div>\n",
       "<style scoped>\n",
       "    .dataframe tbody tr th:only-of-type {\n",
       "        vertical-align: middle;\n",
       "    }\n",
       "\n",
       "    .dataframe tbody tr th {\n",
       "        vertical-align: top;\n",
       "    }\n",
       "\n",
       "    .dataframe thead th {\n",
       "        text-align: right;\n",
       "    }\n",
       "</style>\n",
       "<table border=\"1\" class=\"dataframe\">\n",
       "  <thead>\n",
       "    <tr style=\"text-align: right;\">\n",
       "      <th></th>\n",
       "      <th>trip_distance</th>\n",
       "      <th>hour_of_day</th>\n",
       "      <th>rush_hour</th>\n",
       "      <th>day_of_week</th>\n",
       "      <th>trip_d2</th>\n",
       "      <th>avg_speed</th>\n",
       "      <th>fare_amount</th>\n",
       "      <th>trip_duration</th>\n",
       "    </tr>\n",
       "  </thead>\n",
       "  <tbody>\n",
       "    <tr>\n",
       "      <th>count</th>\n",
       "      <td>2.911092e+06</td>\n",
       "      <td>2.911092e+06</td>\n",
       "      <td>2.911092e+06</td>\n",
       "      <td>2.911092e+06</td>\n",
       "      <td>2.911092e+06</td>\n",
       "      <td>2.911092e+06</td>\n",
       "      <td>2.911092e+06</td>\n",
       "      <td>2.911092e+06</td>\n",
       "    </tr>\n",
       "    <tr>\n",
       "      <th>mean</th>\n",
       "      <td>3.591742e+00</td>\n",
       "      <td>1.422469e+01</td>\n",
       "      <td>3.214934e-01</td>\n",
       "      <td>2.772824e+00</td>\n",
       "      <td>3.175198e+01</td>\n",
       "      <td>2.519547e-01</td>\n",
       "      <td>1.425034e+01</td>\n",
       "      <td>1.527320e+01</td>\n",
       "    </tr>\n",
       "    <tr>\n",
       "      <th>std</th>\n",
       "      <td>4.341817e+00</td>\n",
       "      <td>5.750488e+00</td>\n",
       "      <td>4.670498e-01</td>\n",
       "      <td>1.940597e+00</td>\n",
       "      <td>8.004170e+01</td>\n",
       "      <td>1.498801e-15</td>\n",
       "      <td>1.196088e+01</td>\n",
       "      <td>1.162466e+01</td>\n",
       "    </tr>\n",
       "    <tr>\n",
       "      <th>min</th>\n",
       "      <td>1.000000e-01</td>\n",
       "      <td>0.000000e+00</td>\n",
       "      <td>0.000000e+00</td>\n",
       "      <td>0.000000e+00</td>\n",
       "      <td>1.000000e-02</td>\n",
       "      <td>2.519547e-01</td>\n",
       "      <td>2.500000e+00</td>\n",
       "      <td>2.500000e-01</td>\n",
       "    </tr>\n",
       "    <tr>\n",
       "      <th>25%</th>\n",
       "      <td>1.170000e+00</td>\n",
       "      <td>1.100000e+01</td>\n",
       "      <td>0.000000e+00</td>\n",
       "      <td>1.000000e+00</td>\n",
       "      <td>1.368900e+00</td>\n",
       "      <td>2.519547e-01</td>\n",
       "      <td>7.000000e+00</td>\n",
       "      <td>7.466667e+00</td>\n",
       "    </tr>\n",
       "    <tr>\n",
       "      <th>50%</th>\n",
       "      <td>1.940000e+00</td>\n",
       "      <td>1.500000e+01</td>\n",
       "      <td>0.000000e+00</td>\n",
       "      <td>3.000000e+00</td>\n",
       "      <td>3.763600e+00</td>\n",
       "      <td>2.519547e-01</td>\n",
       "      <td>1.000000e+01</td>\n",
       "      <td>1.201667e+01</td>\n",
       "    </tr>\n",
       "    <tr>\n",
       "      <th>75%</th>\n",
       "      <td>3.690000e+00</td>\n",
       "      <td>1.900000e+01</td>\n",
       "      <td>1.000000e+00</td>\n",
       "      <td>4.000000e+00</td>\n",
       "      <td>1.361610e+01</td>\n",
       "      <td>2.519547e-01</td>\n",
       "      <td>1.600000e+01</td>\n",
       "      <td>1.916667e+01</td>\n",
       "    </tr>\n",
       "    <tr>\n",
       "      <th>max</th>\n",
       "      <td>2.500000e+01</td>\n",
       "      <td>2.300000e+01</td>\n",
       "      <td>1.000000e+00</td>\n",
       "      <td>6.000000e+00</td>\n",
       "      <td>6.250000e+02</td>\n",
       "      <td>2.519547e-01</td>\n",
       "      <td>7.500000e+01</td>\n",
       "      <td>8.996667e+01</td>\n",
       "    </tr>\n",
       "  </tbody>\n",
       "</table>\n",
       "</div>"
      ],
      "text/plain": [
       "       trip_distance   hour_of_day     rush_hour   day_of_week       trip_d2  \\\n",
       "count   2.911092e+06  2.911092e+06  2.911092e+06  2.911092e+06  2.911092e+06   \n",
       "mean    3.591742e+00  1.422469e+01  3.214934e-01  2.772824e+00  3.175198e+01   \n",
       "std     4.341817e+00  5.750488e+00  4.670498e-01  1.940597e+00  8.004170e+01   \n",
       "min     1.000000e-01  0.000000e+00  0.000000e+00  0.000000e+00  1.000000e-02   \n",
       "25%     1.170000e+00  1.100000e+01  0.000000e+00  1.000000e+00  1.368900e+00   \n",
       "50%     1.940000e+00  1.500000e+01  0.000000e+00  3.000000e+00  3.763600e+00   \n",
       "75%     3.690000e+00  1.900000e+01  1.000000e+00  4.000000e+00  1.361610e+01   \n",
       "max     2.500000e+01  2.300000e+01  1.000000e+00  6.000000e+00  6.250000e+02   \n",
       "\n",
       "          avg_speed   fare_amount  trip_duration  \n",
       "count  2.911092e+06  2.911092e+06   2.911092e+06  \n",
       "mean   2.519547e-01  1.425034e+01   1.527320e+01  \n",
       "std    1.498801e-15  1.196088e+01   1.162466e+01  \n",
       "min    2.519547e-01  2.500000e+00   2.500000e-01  \n",
       "25%    2.519547e-01  7.000000e+00   7.466667e+00  \n",
       "50%    2.519547e-01  1.000000e+01   1.201667e+01  \n",
       "75%    2.519547e-01  1.600000e+01   1.916667e+01  \n",
       "max    2.519547e-01  7.500000e+01   8.996667e+01  "
      ]
     },
     "execution_count": 8,
     "metadata": {},
     "output_type": "execute_result"
    }
   ],
   "source": [
    "test_dataset.describe()"
   ]
  },
  {
   "cell_type": "markdown",
   "metadata": {},
   "source": [
    "## Model Testing"
   ]
  },
  {
   "cell_type": "code",
   "execution_count": 9,
   "metadata": {},
   "outputs": [
    {
     "name": "stdout",
     "output_type": "stream",
     "text": [
      "lgbm_model_td.model\n",
      "lgbm_model_fa.model\n"
     ]
    }
   ],
   "source": [
    "from sklearn.metrics import mean_squared_error, r2_score\n",
    "\n",
    "model_prefix = \"lgbm\"\n",
    "model_name_td = f\"{model_prefix}_model_td.model\"\n",
    "model_name_fa = f\"{model_prefix}_model_fa.model\"\n",
    "\n",
    "print(model_name_td)\n",
    "print(model_name_fa)\n",
    "\n",
    "if model_prefix == \"lgbm\":\n",
    "    import lightgbm as lgb\n",
    "    model_td = lgb.Booster(model_file=model_name_td)\n",
    "    model_fa = lgb.Booster(model_file=model_name_fa)\n",
    "else:\n",
    "    if os.path.exists(model_name_td):\n",
    "        with open(model_name_td, \"rb\") as model_td_fd:\n",
    "            model_td = pickle.load(model_td_fd)\n",
    "    else:\n",
    "        print(\"TD model not found!\")\n",
    "\n",
    "    if os.path.exists(model_name_fa):\n",
    "        with open(model_name_fa, \"rb\") as model_fa_fd:\n",
    "            model_fa = pickle.load(model_fa_fd)\n",
    "    else:\n",
    "        print(\"FA model not found!\")\n",
    "\n",
    "if os.path.exists(\"encoders.model\"):\n",
    "    with open(\"encoders.model\", \"rb\") as encoders_file:\n",
    "        encoders = pickle.load(encoders_file)\n",
    "else:\n",
    "    print(\"Encoders model not found!\")\n",
    "\n",
    "if os.path.exists(\"avg_speed_dict.model\"):\n",
    "    with open(\"avg_speed_dict.model\", \"rb\") as avg_speed_dict_fd:\n",
    "        avg_speed_dict = pickle.load(avg_speed_dict_fd)\n",
    "else:\n",
    "    print(\"Average speed dictionary not found!\")"
   ]
  },
  {
   "cell_type": "markdown",
   "metadata": {},
   "source": [
    "Split dataset"
   ]
  },
  {
   "cell_type": "code",
   "execution_count": 10,
   "metadata": {},
   "outputs": [],
   "source": [
    "# Split features and targets\n",
    "X, y = preprocessing.split_dataset(test_dataset)\n",
    "y_test_td = y[\"trip_duration\"]\n",
    "y_test_fa = y[\"fare_amount\"]"
   ]
  },
  {
   "cell_type": "code",
   "execution_count": 11,
   "metadata": {},
   "outputs": [
    {
     "name": "stdout",
     "output_type": "stream",
     "text": [
      "Predict fare amount on test dataset\n",
      "Predict trip duration on test dataset\n",
      "Trip duration RMSE: 5.237583267460371 minutes\n",
      "Trip duration R2: 0.7969975831792483\n",
      "Fare amount RMSE: 2.8583603141702234 $\n",
      "Fare amount R2: 0.9428905302315065\n"
     ]
    }
   ],
   "source": [
    "print(\"Predict fare amount on test dataset\")\n",
    "test_predictions_fa = model_fa.predict(X)\n",
    "\n",
    "print(\"Predict trip duration on test dataset\")\n",
    "test_predictions_td = model_td.predict(X)\n",
    "\n",
    "rmse_td = mean_squared_error(y_test_td, test_predictions_td)**0.5\n",
    "r2_td = r2_score(y_test_td, test_predictions_td)\n",
    "print(f\"Trip duration RMSE: {rmse_td} minutes\")\n",
    "print(f\"Trip duration R2: {r2_td}\")\n",
    "\n",
    "rmse_fa = mean_squared_error(y_test_fa, test_predictions_fa)**0.5\n",
    "r2_fa = r2_score(y_test_fa, test_predictions_fa)\n",
    "print(f\"Fare amount RMSE: {rmse_fa} $\")\n",
    "print(f\"Fare amount R2: {r2_fa}\")\n"
   ]
  },
  {
   "cell_type": "code",
   "execution_count": 12,
   "metadata": {},
   "outputs": [
    {
     "name": "stderr",
     "output_type": "stream",
     "text": [
      "/tmp/ipykernel_19648/2814643581.py:1: SettingWithCopyWarning: \n",
      "A value is trying to be set on a copy of a slice from a DataFrame.\n",
      "Try using .loc[row_indexer,col_indexer] = value instead\n",
      "\n",
      "See the caveats in the documentation: https://pandas.pydata.org/pandas-docs/stable/user_guide/indexing.html#returning-a-view-versus-a-copy\n",
      "  test_dataset.loc[:,\"pred_fa\"] = test_predictions_fa\n",
      "/tmp/ipykernel_19648/2814643581.py:2: SettingWithCopyWarning: \n",
      "A value is trying to be set on a copy of a slice from a DataFrame.\n",
      "Try using .loc[row_indexer,col_indexer] = value instead\n",
      "\n",
      "See the caveats in the documentation: https://pandas.pydata.org/pandas-docs/stable/user_guide/indexing.html#returning-a-view-versus-a-copy\n",
      "  test_dataset.loc[:,\"pred_td\"] = test_predictions_td\n"
     ]
    }
   ],
   "source": [
    "test_dataset.loc[:,\"pred_fa\"] = test_predictions_fa\n",
    "test_dataset.loc[:,\"pred_td\"] = test_predictions_td"
   ]
  },
  {
   "cell_type": "code",
   "execution_count": 13,
   "metadata": {},
   "outputs": [
    {
     "data": {
      "text/html": [
       "<div>\n",
       "<style scoped>\n",
       "    .dataframe tbody tr th:only-of-type {\n",
       "        vertical-align: middle;\n",
       "    }\n",
       "\n",
       "    .dataframe tbody tr th {\n",
       "        vertical-align: top;\n",
       "    }\n",
       "\n",
       "    .dataframe thead th {\n",
       "        text-align: right;\n",
       "    }\n",
       "</style>\n",
       "<table border=\"1\" class=\"dataframe\">\n",
       "  <thead>\n",
       "    <tr style=\"text-align: right;\">\n",
       "      <th></th>\n",
       "      <th>trip_distance</th>\n",
       "      <th>hour_of_day</th>\n",
       "      <th>rush_hour</th>\n",
       "      <th>day_of_week</th>\n",
       "      <th>trip_d2</th>\n",
       "      <th>avg_speed</th>\n",
       "      <th>fare_amount</th>\n",
       "      <th>trip_duration</th>\n",
       "      <th>pred_fa</th>\n",
       "      <th>pred_td</th>\n",
       "    </tr>\n",
       "  </thead>\n",
       "  <tbody>\n",
       "    <tr>\n",
       "      <th>count</th>\n",
       "      <td>2.911092e+06</td>\n",
       "      <td>2.911092e+06</td>\n",
       "      <td>2.911092e+06</td>\n",
       "      <td>2.911092e+06</td>\n",
       "      <td>2.911092e+06</td>\n",
       "      <td>2.911092e+06</td>\n",
       "      <td>2.911092e+06</td>\n",
       "      <td>2.911092e+06</td>\n",
       "      <td>2.911092e+06</td>\n",
       "      <td>2.911092e+06</td>\n",
       "    </tr>\n",
       "    <tr>\n",
       "      <th>mean</th>\n",
       "      <td>3.591742e+00</td>\n",
       "      <td>1.422469e+01</td>\n",
       "      <td>3.214934e-01</td>\n",
       "      <td>2.772824e+00</td>\n",
       "      <td>3.175198e+01</td>\n",
       "      <td>2.519547e-01</td>\n",
       "      <td>1.425034e+01</td>\n",
       "      <td>1.527320e+01</td>\n",
       "      <td>1.461828e+01</td>\n",
       "      <td>1.633512e+01</td>\n",
       "    </tr>\n",
       "    <tr>\n",
       "      <th>std</th>\n",
       "      <td>4.341817e+00</td>\n",
       "      <td>5.750488e+00</td>\n",
       "      <td>4.670498e-01</td>\n",
       "      <td>1.940597e+00</td>\n",
       "      <td>8.004170e+01</td>\n",
       "      <td>1.498801e-15</td>\n",
       "      <td>1.196088e+01</td>\n",
       "      <td>1.162466e+01</td>\n",
       "      <td>1.162210e+01</td>\n",
       "      <td>1.152929e+01</td>\n",
       "    </tr>\n",
       "    <tr>\n",
       "      <th>min</th>\n",
       "      <td>1.000000e-01</td>\n",
       "      <td>0.000000e+00</td>\n",
       "      <td>0.000000e+00</td>\n",
       "      <td>0.000000e+00</td>\n",
       "      <td>1.000000e-02</td>\n",
       "      <td>2.519547e-01</td>\n",
       "      <td>2.500000e+00</td>\n",
       "      <td>2.500000e-01</td>\n",
       "      <td>4.370062e+00</td>\n",
       "      <td>2.698250e+00</td>\n",
       "    </tr>\n",
       "    <tr>\n",
       "      <th>25%</th>\n",
       "      <td>1.170000e+00</td>\n",
       "      <td>1.100000e+01</td>\n",
       "      <td>0.000000e+00</td>\n",
       "      <td>1.000000e+00</td>\n",
       "      <td>1.368900e+00</td>\n",
       "      <td>2.519547e-01</td>\n",
       "      <td>7.000000e+00</td>\n",
       "      <td>7.466667e+00</td>\n",
       "      <td>7.467262e+00</td>\n",
       "      <td>8.521201e+00</td>\n",
       "    </tr>\n",
       "    <tr>\n",
       "      <th>50%</th>\n",
       "      <td>1.940000e+00</td>\n",
       "      <td>1.500000e+01</td>\n",
       "      <td>0.000000e+00</td>\n",
       "      <td>3.000000e+00</td>\n",
       "      <td>3.763600e+00</td>\n",
       "      <td>2.519547e-01</td>\n",
       "      <td>1.000000e+01</td>\n",
       "      <td>1.201667e+01</td>\n",
       "      <td>1.040263e+01</td>\n",
       "      <td>1.303153e+01</td>\n",
       "    </tr>\n",
       "    <tr>\n",
       "      <th>75%</th>\n",
       "      <td>3.690000e+00</td>\n",
       "      <td>1.900000e+01</td>\n",
       "      <td>1.000000e+00</td>\n",
       "      <td>4.000000e+00</td>\n",
       "      <td>1.361610e+01</td>\n",
       "      <td>2.519547e-01</td>\n",
       "      <td>1.600000e+01</td>\n",
       "      <td>1.916667e+01</td>\n",
       "      <td>1.628002e+01</td>\n",
       "      <td>2.065751e+01</td>\n",
       "    </tr>\n",
       "    <tr>\n",
       "      <th>max</th>\n",
       "      <td>2.500000e+01</td>\n",
       "      <td>2.300000e+01</td>\n",
       "      <td>1.000000e+00</td>\n",
       "      <td>6.000000e+00</td>\n",
       "      <td>6.250000e+02</td>\n",
       "      <td>2.519547e-01</td>\n",
       "      <td>7.500000e+01</td>\n",
       "      <td>8.996667e+01</td>\n",
       "      <td>5.853652e+01</td>\n",
       "      <td>7.432955e+01</td>\n",
       "    </tr>\n",
       "  </tbody>\n",
       "</table>\n",
       "</div>"
      ],
      "text/plain": [
       "       trip_distance   hour_of_day     rush_hour   day_of_week       trip_d2  \\\n",
       "count   2.911092e+06  2.911092e+06  2.911092e+06  2.911092e+06  2.911092e+06   \n",
       "mean    3.591742e+00  1.422469e+01  3.214934e-01  2.772824e+00  3.175198e+01   \n",
       "std     4.341817e+00  5.750488e+00  4.670498e-01  1.940597e+00  8.004170e+01   \n",
       "min     1.000000e-01  0.000000e+00  0.000000e+00  0.000000e+00  1.000000e-02   \n",
       "25%     1.170000e+00  1.100000e+01  0.000000e+00  1.000000e+00  1.368900e+00   \n",
       "50%     1.940000e+00  1.500000e+01  0.000000e+00  3.000000e+00  3.763600e+00   \n",
       "75%     3.690000e+00  1.900000e+01  1.000000e+00  4.000000e+00  1.361610e+01   \n",
       "max     2.500000e+01  2.300000e+01  1.000000e+00  6.000000e+00  6.250000e+02   \n",
       "\n",
       "          avg_speed   fare_amount  trip_duration       pred_fa       pred_td  \n",
       "count  2.911092e+06  2.911092e+06   2.911092e+06  2.911092e+06  2.911092e+06  \n",
       "mean   2.519547e-01  1.425034e+01   1.527320e+01  1.461828e+01  1.633512e+01  \n",
       "std    1.498801e-15  1.196088e+01   1.162466e+01  1.162210e+01  1.152929e+01  \n",
       "min    2.519547e-01  2.500000e+00   2.500000e-01  4.370062e+00  2.698250e+00  \n",
       "25%    2.519547e-01  7.000000e+00   7.466667e+00  7.467262e+00  8.521201e+00  \n",
       "50%    2.519547e-01  1.000000e+01   1.201667e+01  1.040263e+01  1.303153e+01  \n",
       "75%    2.519547e-01  1.600000e+01   1.916667e+01  1.628002e+01  2.065751e+01  \n",
       "max    2.519547e-01  7.500000e+01   8.996667e+01  5.853652e+01  7.432955e+01  "
      ]
     },
     "execution_count": 13,
     "metadata": {},
     "output_type": "execute_result"
    }
   ],
   "source": [
    "test_dataset.describe()"
   ]
  },
  {
   "cell_type": "code",
   "execution_count": 14,
   "metadata": {},
   "outputs": [
    {
     "name": "stderr",
     "output_type": "stream",
     "text": [
      "/tmp/ipykernel_19648/3533585116.py:1: SettingWithCopyWarning: \n",
      "A value is trying to be set on a copy of a slice from a DataFrame.\n",
      "Try using .loc[row_indexer,col_indexer] = value instead\n",
      "\n",
      "See the caveats in the documentation: https://pandas.pydata.org/pandas-docs/stable/user_guide/indexing.html#returning-a-view-versus-a-copy\n",
      "  test_dataset[\"fa_diff\"] = abs(test_dataset[\"pred_fa\"]-test_dataset[\"fare_amount\"])\n",
      "/tmp/ipykernel_19648/3533585116.py:2: SettingWithCopyWarning: \n",
      "A value is trying to be set on a copy of a slice from a DataFrame.\n",
      "Try using .loc[row_indexer,col_indexer] = value instead\n",
      "\n",
      "See the caveats in the documentation: https://pandas.pydata.org/pandas-docs/stable/user_guide/indexing.html#returning-a-view-versus-a-copy\n",
      "  test_dataset[\"td_diff\"] = abs(test_dataset[\"pred_td\"]-test_dataset[\"trip_duration\"])\n"
     ]
    }
   ],
   "source": [
    "test_dataset[\"fa_diff\"] = abs(test_dataset[\"pred_fa\"]-test_dataset[\"fare_amount\"])\n",
    "test_dataset[\"td_diff\"] = abs(test_dataset[\"pred_td\"]-test_dataset[\"trip_duration\"])"
   ]
  },
  {
   "cell_type": "code",
   "execution_count": 15,
   "metadata": {},
   "outputs": [
    {
     "data": {
      "text/html": [
       "<div>\n",
       "<style scoped>\n",
       "    .dataframe tbody tr th:only-of-type {\n",
       "        vertical-align: middle;\n",
       "    }\n",
       "\n",
       "    .dataframe tbody tr th {\n",
       "        vertical-align: top;\n",
       "    }\n",
       "\n",
       "    .dataframe thead th {\n",
       "        text-align: right;\n",
       "    }\n",
       "</style>\n",
       "<table border=\"1\" class=\"dataframe\">\n",
       "  <thead>\n",
       "    <tr style=\"text-align: right;\">\n",
       "      <th></th>\n",
       "      <th>trip_distance</th>\n",
       "      <th>hour_of_day</th>\n",
       "      <th>rush_hour</th>\n",
       "      <th>day_of_week</th>\n",
       "      <th>trip_d2</th>\n",
       "      <th>avg_speed</th>\n",
       "      <th>fare_amount</th>\n",
       "      <th>trip_duration</th>\n",
       "      <th>pred_fa</th>\n",
       "      <th>pred_td</th>\n",
       "      <th>fa_diff</th>\n",
       "      <th>td_diff</th>\n",
       "    </tr>\n",
       "  </thead>\n",
       "  <tbody>\n",
       "    <tr>\n",
       "      <th>count</th>\n",
       "      <td>2.911092e+06</td>\n",
       "      <td>2.911092e+06</td>\n",
       "      <td>2.911092e+06</td>\n",
       "      <td>2.911092e+06</td>\n",
       "      <td>2.911092e+06</td>\n",
       "      <td>2.911092e+06</td>\n",
       "      <td>2.911092e+06</td>\n",
       "      <td>2.911092e+06</td>\n",
       "      <td>2.911092e+06</td>\n",
       "      <td>2.911092e+06</td>\n",
       "      <td>2.911092e+06</td>\n",
       "      <td>2.911092e+06</td>\n",
       "    </tr>\n",
       "    <tr>\n",
       "      <th>mean</th>\n",
       "      <td>3.591742e+00</td>\n",
       "      <td>1.422469e+01</td>\n",
       "      <td>3.214934e-01</td>\n",
       "      <td>2.772824e+00</td>\n",
       "      <td>3.175198e+01</td>\n",
       "      <td>2.519547e-01</td>\n",
       "      <td>1.425034e+01</td>\n",
       "      <td>1.527320e+01</td>\n",
       "      <td>1.461828e+01</td>\n",
       "      <td>1.633512e+01</td>\n",
       "      <td>1.509064e+00</td>\n",
       "      <td>3.548360e+00</td>\n",
       "    </tr>\n",
       "    <tr>\n",
       "      <th>std</th>\n",
       "      <td>4.341817e+00</td>\n",
       "      <td>5.750488e+00</td>\n",
       "      <td>4.670498e-01</td>\n",
       "      <td>1.940597e+00</td>\n",
       "      <td>8.004170e+01</td>\n",
       "      <td>1.498801e-15</td>\n",
       "      <td>1.196088e+01</td>\n",
       "      <td>1.162466e+01</td>\n",
       "      <td>1.162210e+01</td>\n",
       "      <td>1.152929e+01</td>\n",
       "      <td>2.427540e+00</td>\n",
       "      <td>3.852457e+00</td>\n",
       "    </tr>\n",
       "    <tr>\n",
       "      <th>min</th>\n",
       "      <td>1.000000e-01</td>\n",
       "      <td>0.000000e+00</td>\n",
       "      <td>0.000000e+00</td>\n",
       "      <td>0.000000e+00</td>\n",
       "      <td>1.000000e-02</td>\n",
       "      <td>2.519547e-01</td>\n",
       "      <td>2.500000e+00</td>\n",
       "      <td>2.500000e-01</td>\n",
       "      <td>4.370062e+00</td>\n",
       "      <td>2.698250e+00</td>\n",
       "      <td>1.811566e-06</td>\n",
       "      <td>2.863479e-06</td>\n",
       "    </tr>\n",
       "    <tr>\n",
       "      <th>25%</th>\n",
       "      <td>1.170000e+00</td>\n",
       "      <td>1.100000e+01</td>\n",
       "      <td>0.000000e+00</td>\n",
       "      <td>1.000000e+00</td>\n",
       "      <td>1.368900e+00</td>\n",
       "      <td>2.519547e-01</td>\n",
       "      <td>7.000000e+00</td>\n",
       "      <td>7.466667e+00</td>\n",
       "      <td>7.467262e+00</td>\n",
       "      <td>8.521201e+00</td>\n",
       "      <td>4.898242e-01</td>\n",
       "      <td>1.116568e+00</td>\n",
       "    </tr>\n",
       "    <tr>\n",
       "      <th>50%</th>\n",
       "      <td>1.940000e+00</td>\n",
       "      <td>1.500000e+01</td>\n",
       "      <td>0.000000e+00</td>\n",
       "      <td>3.000000e+00</td>\n",
       "      <td>3.763600e+00</td>\n",
       "      <td>2.519547e-01</td>\n",
       "      <td>1.000000e+01</td>\n",
       "      <td>1.201667e+01</td>\n",
       "      <td>1.040263e+01</td>\n",
       "      <td>1.303153e+01</td>\n",
       "      <td>1.012888e+00</td>\n",
       "      <td>2.406710e+00</td>\n",
       "    </tr>\n",
       "    <tr>\n",
       "      <th>75%</th>\n",
       "      <td>3.690000e+00</td>\n",
       "      <td>1.900000e+01</td>\n",
       "      <td>1.000000e+00</td>\n",
       "      <td>4.000000e+00</td>\n",
       "      <td>1.361610e+01</td>\n",
       "      <td>2.519547e-01</td>\n",
       "      <td>1.600000e+01</td>\n",
       "      <td>1.916667e+01</td>\n",
       "      <td>1.628002e+01</td>\n",
       "      <td>2.065751e+01</td>\n",
       "      <td>1.808888e+00</td>\n",
       "      <td>4.559814e+00</td>\n",
       "    </tr>\n",
       "    <tr>\n",
       "      <th>max</th>\n",
       "      <td>2.500000e+01</td>\n",
       "      <td>2.300000e+01</td>\n",
       "      <td>1.000000e+00</td>\n",
       "      <td>6.000000e+00</td>\n",
       "      <td>6.250000e+02</td>\n",
       "      <td>2.519547e-01</td>\n",
       "      <td>7.500000e+01</td>\n",
       "      <td>8.996667e+01</td>\n",
       "      <td>5.853652e+01</td>\n",
       "      <td>7.432955e+01</td>\n",
       "      <td>7.050556e+01</td>\n",
       "      <td>8.204779e+01</td>\n",
       "    </tr>\n",
       "  </tbody>\n",
       "</table>\n",
       "</div>"
      ],
      "text/plain": [
       "       trip_distance   hour_of_day     rush_hour   day_of_week       trip_d2  \\\n",
       "count   2.911092e+06  2.911092e+06  2.911092e+06  2.911092e+06  2.911092e+06   \n",
       "mean    3.591742e+00  1.422469e+01  3.214934e-01  2.772824e+00  3.175198e+01   \n",
       "std     4.341817e+00  5.750488e+00  4.670498e-01  1.940597e+00  8.004170e+01   \n",
       "min     1.000000e-01  0.000000e+00  0.000000e+00  0.000000e+00  1.000000e-02   \n",
       "25%     1.170000e+00  1.100000e+01  0.000000e+00  1.000000e+00  1.368900e+00   \n",
       "50%     1.940000e+00  1.500000e+01  0.000000e+00  3.000000e+00  3.763600e+00   \n",
       "75%     3.690000e+00  1.900000e+01  1.000000e+00  4.000000e+00  1.361610e+01   \n",
       "max     2.500000e+01  2.300000e+01  1.000000e+00  6.000000e+00  6.250000e+02   \n",
       "\n",
       "          avg_speed   fare_amount  trip_duration       pred_fa       pred_td  \\\n",
       "count  2.911092e+06  2.911092e+06   2.911092e+06  2.911092e+06  2.911092e+06   \n",
       "mean   2.519547e-01  1.425034e+01   1.527320e+01  1.461828e+01  1.633512e+01   \n",
       "std    1.498801e-15  1.196088e+01   1.162466e+01  1.162210e+01  1.152929e+01   \n",
       "min    2.519547e-01  2.500000e+00   2.500000e-01  4.370062e+00  2.698250e+00   \n",
       "25%    2.519547e-01  7.000000e+00   7.466667e+00  7.467262e+00  8.521201e+00   \n",
       "50%    2.519547e-01  1.000000e+01   1.201667e+01  1.040263e+01  1.303153e+01   \n",
       "75%    2.519547e-01  1.600000e+01   1.916667e+01  1.628002e+01  2.065751e+01   \n",
       "max    2.519547e-01  7.500000e+01   8.996667e+01  5.853652e+01  7.432955e+01   \n",
       "\n",
       "            fa_diff       td_diff  \n",
       "count  2.911092e+06  2.911092e+06  \n",
       "mean   1.509064e+00  3.548360e+00  \n",
       "std    2.427540e+00  3.852457e+00  \n",
       "min    1.811566e-06  2.863479e-06  \n",
       "25%    4.898242e-01  1.116568e+00  \n",
       "50%    1.012888e+00  2.406710e+00  \n",
       "75%    1.808888e+00  4.559814e+00  \n",
       "max    7.050556e+01  8.204779e+01  "
      ]
     },
     "execution_count": 15,
     "metadata": {},
     "output_type": "execute_result"
    }
   ],
   "source": [
    "test_dataset.describe()"
   ]
  },
  {
   "cell_type": "code",
   "execution_count": 16,
   "metadata": {},
   "outputs": [
    {
     "data": {
      "text/plain": [
       "85.62240561273914"
      ]
     },
     "execution_count": 16,
     "metadata": {},
     "output_type": "execute_result"
    }
   ],
   "source": [
    "100 * (len(test_dataset[test_dataset[\"fa_diff\"]<2.5 & ]) / len(test_dataset))"
   ]
  },
  {
   "cell_type": "code",
   "execution_count": 17,
   "metadata": {},
   "outputs": [
    {
     "data": {
      "text/plain": [
       "78.11333341577662"
      ]
     },
     "execution_count": 17,
     "metadata": {},
     "output_type": "execute_result"
    }
   ],
   "source": [
    "100 * (len(test_dataset[test_dataset[\"td_diff\"]<5]) / len(test_dataset))"
   ]
  },
  {
   "cell_type": "code",
   "execution_count": 20,
   "metadata": {},
   "outputs": [
    {
     "data": {
      "text/plain": [
       "76.47212798496234"
      ]
     },
     "execution_count": 20,
     "metadata": {},
     "output_type": "execute_result"
    }
   ],
   "source": [
    "100 * (len(test_dataset[(test_dataset[\"fa_diff\"]<2.5) & (test_dataset[\"td_diff\"]<5)]) / len(test_dataset))"
   ]
  }
 ],
 "metadata": {
  "kernelspec": {
   "display_name": "venv",
   "language": "python",
   "name": "python3"
  },
  "language_info": {
   "codemirror_mode": {
    "name": "ipython",
    "version": 3
   },
   "file_extension": ".py",
   "mimetype": "text/x-python",
   "name": "python",
   "nbconvert_exporter": "python",
   "pygments_lexer": "ipython3",
   "version": "3.10.12"
  }
 },
 "nbformat": 4,
 "nbformat_minor": 2
}
