{
 "cells": [
  {
   "cell_type": "markdown",
   "metadata": {},
   "source": [
    "# NYC Taxi Fare & Duration\n",
    "## Exploratory Data Analysis (EDA)"
   ]
  },
  {
   "cell_type": "code",
   "execution_count": 1,
   "metadata": {},
   "outputs": [],
   "source": [
    "%load_ext autoreload\n",
    "%autoreload 2"
   ]
  },
  {
   "cell_type": "markdown",
   "metadata": {},
   "source": [
    "Imports"
   ]
  },
  {
   "cell_type": "code",
   "execution_count": 2,
   "metadata": {},
   "outputs": [],
   "source": [
    "import os\n",
    "import sys\n",
    "import matplotlib.pyplot as plt\n",
    "import pandas as pd\n",
    "import numpy as np\n",
    "import wget\n",
    "\n",
    "sys.path.append(\"..\")\n",
    "import source.configs as configs\n",
    "\n",
    "# Check if we are in COLAB\n",
    "IN_COLAB = 'google.colab' in sys.modules"
   ]
  },
  {
   "cell_type": "code",
   "execution_count": 3,
   "metadata": {},
   "outputs": [],
   "source": [
    "if not os.path.exists(\"../dataset/yellow_tripdata_2022-05.parquet\"):\n",
    "    if IN_COLAB:\n",
    "        !wget https://d37ci6vzurychx.cloudfront.net/trip-data/yellow_tripdata_2022-05.parquet \"../dataset\"\n",
    "    else:\n",
    "        wget.download(configs.START_DATASET_URL, \"../dataset\")"
   ]
  },
  {
   "cell_type": "markdown",
   "metadata": {},
   "source": [
    "## Read Dataset"
   ]
  },
  {
   "cell_type": "code",
   "execution_count": 4,
   "metadata": {},
   "outputs": [],
   "source": [
    "dataset = pd.read_parquet(\"../dataset/yellow_tripdata_2022-05.parquet\")"
   ]
  },
  {
   "cell_type": "markdown",
   "metadata": {},
   "source": [
    "### List of columns"
   ]
  },
  {
   "cell_type": "code",
   "execution_count": 5,
   "metadata": {},
   "outputs": [
    {
     "data": {
      "text/plain": [
       "['VendorID',\n",
       " 'tpep_pickup_datetime',\n",
       " 'tpep_dropoff_datetime',\n",
       " 'passenger_count',\n",
       " 'trip_distance',\n",
       " 'RatecodeID',\n",
       " 'store_and_fwd_flag',\n",
       " 'PULocationID',\n",
       " 'DOLocationID',\n",
       " 'payment_type',\n",
       " 'fare_amount',\n",
       " 'extra',\n",
       " 'mta_tax',\n",
       " 'tip_amount',\n",
       " 'tolls_amount',\n",
       " 'improvement_surcharge',\n",
       " 'total_amount',\n",
       " 'congestion_surcharge',\n",
       " 'airport_fee']"
      ]
     },
     "execution_count": 5,
     "metadata": {},
     "output_type": "execute_result"
    }
   ],
   "source": [
    "dataset.columns.to_list()"
   ]
  },
  {
   "cell_type": "markdown",
   "metadata": {},
   "source": [
    "### Types of columns"
   ]
  },
  {
   "cell_type": "code",
   "execution_count": 6,
   "metadata": {},
   "outputs": [
    {
     "data": {
      "text/plain": [
       "VendorID                          int64\n",
       "tpep_pickup_datetime     datetime64[us]\n",
       "tpep_dropoff_datetime    datetime64[us]\n",
       "passenger_count                 float64\n",
       "trip_distance                   float64\n",
       "RatecodeID                      float64\n",
       "store_and_fwd_flag               object\n",
       "PULocationID                      int64\n",
       "DOLocationID                      int64\n",
       "payment_type                      int64\n",
       "fare_amount                     float64\n",
       "extra                           float64\n",
       "mta_tax                         float64\n",
       "tip_amount                      float64\n",
       "tolls_amount                    float64\n",
       "improvement_surcharge           float64\n",
       "total_amount                    float64\n",
       "congestion_surcharge            float64\n",
       "airport_fee                     float64\n",
       "dtype: object"
      ]
     },
     "execution_count": 6,
     "metadata": {},
     "output_type": "execute_result"
    }
   ],
   "source": [
    "dataset.dtypes"
   ]
  },
  {
   "cell_type": "markdown",
   "metadata": {},
   "source": [
    "Conclusions\n",
    "* We have tpep_pickup_datetime, tpep_dropoff_datetime to calculate trip duration.\n"
   ]
  },
  {
   "cell_type": "markdown",
   "metadata": {},
   "source": [
    "### Head / Describe"
   ]
  },
  {
   "cell_type": "code",
   "execution_count": 27,
   "metadata": {},
   "outputs": [
    {
     "data": {
      "text/html": [
       "<div>\n",
       "<style scoped>\n",
       "    .dataframe tbody tr th:only-of-type {\n",
       "        vertical-align: middle;\n",
       "    }\n",
       "\n",
       "    .dataframe tbody tr th {\n",
       "        vertical-align: top;\n",
       "    }\n",
       "\n",
       "    .dataframe thead th {\n",
       "        text-align: right;\n",
       "    }\n",
       "</style>\n",
       "<table border=\"1\" class=\"dataframe\">\n",
       "  <thead>\n",
       "    <tr style=\"text-align: right;\">\n",
       "      <th></th>\n",
       "      <th>VendorID</th>\n",
       "      <th>tpep_pickup_datetime</th>\n",
       "      <th>tpep_dropoff_datetime</th>\n",
       "      <th>passenger_count</th>\n",
       "      <th>trip_distance</th>\n",
       "      <th>RatecodeID</th>\n",
       "      <th>store_and_fwd_flag</th>\n",
       "      <th>PULocationID</th>\n",
       "      <th>DOLocationID</th>\n",
       "      <th>payment_type</th>\n",
       "      <th>fare_amount</th>\n",
       "      <th>extra</th>\n",
       "      <th>mta_tax</th>\n",
       "      <th>tip_amount</th>\n",
       "      <th>tolls_amount</th>\n",
       "      <th>improvement_surcharge</th>\n",
       "      <th>total_amount</th>\n",
       "      <th>congestion_surcharge</th>\n",
       "      <th>airport_fee</th>\n",
       "    </tr>\n",
       "  </thead>\n",
       "  <tbody>\n",
       "    <tr>\n",
       "      <th>0</th>\n",
       "      <td>1</td>\n",
       "      <td>2022-05-01 00:00:36</td>\n",
       "      <td>2022-05-01 00:19:18</td>\n",
       "      <td>1.0</td>\n",
       "      <td>4.1</td>\n",
       "      <td>1.0</td>\n",
       "      <td>N</td>\n",
       "      <td>246</td>\n",
       "      <td>151</td>\n",
       "      <td>2</td>\n",
       "      <td>17.0</td>\n",
       "      <td>3.0</td>\n",
       "      <td>0.5</td>\n",
       "      <td>0.00</td>\n",
       "      <td>0.0</td>\n",
       "      <td>0.3</td>\n",
       "      <td>20.80</td>\n",
       "      <td>2.5</td>\n",
       "      <td>0.0</td>\n",
       "    </tr>\n",
       "    <tr>\n",
       "      <th>1</th>\n",
       "      <td>1</td>\n",
       "      <td>2022-05-01 00:27:44</td>\n",
       "      <td>2022-05-01 00:41:33</td>\n",
       "      <td>1.0</td>\n",
       "      <td>2.3</td>\n",
       "      <td>1.0</td>\n",
       "      <td>N</td>\n",
       "      <td>238</td>\n",
       "      <td>74</td>\n",
       "      <td>2</td>\n",
       "      <td>11.0</td>\n",
       "      <td>3.0</td>\n",
       "      <td>0.5</td>\n",
       "      <td>0.00</td>\n",
       "      <td>0.0</td>\n",
       "      <td>0.3</td>\n",
       "      <td>14.80</td>\n",
       "      <td>2.5</td>\n",
       "      <td>0.0</td>\n",
       "    </tr>\n",
       "    <tr>\n",
       "      <th>2</th>\n",
       "      <td>1</td>\n",
       "      <td>2022-05-01 00:59:00</td>\n",
       "      <td>2022-05-01 01:14:22</td>\n",
       "      <td>1.0</td>\n",
       "      <td>4.2</td>\n",
       "      <td>1.0</td>\n",
       "      <td>N</td>\n",
       "      <td>163</td>\n",
       "      <td>260</td>\n",
       "      <td>2</td>\n",
       "      <td>15.5</td>\n",
       "      <td>3.0</td>\n",
       "      <td>0.5</td>\n",
       "      <td>0.00</td>\n",
       "      <td>0.0</td>\n",
       "      <td>0.3</td>\n",
       "      <td>19.30</td>\n",
       "      <td>2.5</td>\n",
       "      <td>0.0</td>\n",
       "    </tr>\n",
       "    <tr>\n",
       "      <th>3</th>\n",
       "      <td>1</td>\n",
       "      <td>2022-05-01 00:48:18</td>\n",
       "      <td>2022-05-01 01:28:02</td>\n",
       "      <td>1.0</td>\n",
       "      <td>0.0</td>\n",
       "      <td>1.0</td>\n",
       "      <td>N</td>\n",
       "      <td>79</td>\n",
       "      <td>182</td>\n",
       "      <td>1</td>\n",
       "      <td>41.2</td>\n",
       "      <td>0.0</td>\n",
       "      <td>0.5</td>\n",
       "      <td>0.00</td>\n",
       "      <td>0.0</td>\n",
       "      <td>0.3</td>\n",
       "      <td>42.00</td>\n",
       "      <td>0.0</td>\n",
       "      <td>0.0</td>\n",
       "    </tr>\n",
       "    <tr>\n",
       "      <th>4</th>\n",
       "      <td>1</td>\n",
       "      <td>2022-05-01 00:28:26</td>\n",
       "      <td>2022-05-01 00:37:49</td>\n",
       "      <td>1.0</td>\n",
       "      <td>1.6</td>\n",
       "      <td>1.0</td>\n",
       "      <td>N</td>\n",
       "      <td>238</td>\n",
       "      <td>75</td>\n",
       "      <td>1</td>\n",
       "      <td>7.5</td>\n",
       "      <td>3.0</td>\n",
       "      <td>0.5</td>\n",
       "      <td>2.25</td>\n",
       "      <td>0.0</td>\n",
       "      <td>0.3</td>\n",
       "      <td>13.55</td>\n",
       "      <td>2.5</td>\n",
       "      <td>0.0</td>\n",
       "    </tr>\n",
       "  </tbody>\n",
       "</table>\n",
       "</div>"
      ],
      "text/plain": [
       "   VendorID tpep_pickup_datetime tpep_dropoff_datetime  passenger_count  \\\n",
       "0         1  2022-05-01 00:00:36   2022-05-01 00:19:18              1.0   \n",
       "1         1  2022-05-01 00:27:44   2022-05-01 00:41:33              1.0   \n",
       "2         1  2022-05-01 00:59:00   2022-05-01 01:14:22              1.0   \n",
       "3         1  2022-05-01 00:48:18   2022-05-01 01:28:02              1.0   \n",
       "4         1  2022-05-01 00:28:26   2022-05-01 00:37:49              1.0   \n",
       "\n",
       "   trip_distance  RatecodeID store_and_fwd_flag  PULocationID  DOLocationID  \\\n",
       "0            4.1         1.0                  N           246           151   \n",
       "1            2.3         1.0                  N           238            74   \n",
       "2            4.2         1.0                  N           163           260   \n",
       "3            0.0         1.0                  N            79           182   \n",
       "4            1.6         1.0                  N           238            75   \n",
       "\n",
       "   payment_type  fare_amount  extra  mta_tax  tip_amount  tolls_amount  \\\n",
       "0             2         17.0    3.0      0.5        0.00           0.0   \n",
       "1             2         11.0    3.0      0.5        0.00           0.0   \n",
       "2             2         15.5    3.0      0.5        0.00           0.0   \n",
       "3             1         41.2    0.0      0.5        0.00           0.0   \n",
       "4             1          7.5    3.0      0.5        2.25           0.0   \n",
       "\n",
       "   improvement_surcharge  total_amount  congestion_surcharge  airport_fee  \n",
       "0                    0.3         20.80                   2.5          0.0  \n",
       "1                    0.3         14.80                   2.5          0.0  \n",
       "2                    0.3         19.30                   2.5          0.0  \n",
       "3                    0.3         42.00                   0.0          0.0  \n",
       "4                    0.3         13.55                   2.5          0.0  "
      ]
     },
     "execution_count": 27,
     "metadata": {},
     "output_type": "execute_result"
    }
   ],
   "source": [
    "dataset.head()"
   ]
  },
  {
   "cell_type": "markdown",
   "metadata": {},
   "source": [
    "### Relevant features\n",
    "* trip_distance is a very important feature to predict duration of the trip.\n",
    "* Trip duration is no in the dataset, but is a target feature we must build using pick-up and drop-off timestamps.\n",
    "* fare_amount is one of the target variables.\n",
    "* passenger_count could be relevant.\n",
    "* PULocationID, DOLocationID, these describe taxi zones, they can relevant.\n",
    "* RateCodeID: Tells which rate was applied at the end of the trip. It can be relevant.\n",
    "* The fare amout only depends on duration/distance of the trip. There are other charges that go into total amount."
   ]
  },
  {
   "cell_type": "markdown",
   "metadata": {},
   "source": [
    "Check this web page:\n",
    "https://www.nyc.gov/assets/tlc/downloads/pdf/data_dictionary_trip_records_yellow.pdf\n",
    "\n",
    "Total amount = Fare + Overnight_Charges + RushHour_Charges + ..."
   ]
  },
  {
   "cell_type": "code",
   "execution_count": 7,
   "metadata": {},
   "outputs": [
    {
     "data": {
      "text/html": [
       "<div>\n",
       "<style scoped>\n",
       "    .dataframe tbody tr th:only-of-type {\n",
       "        vertical-align: middle;\n",
       "    }\n",
       "\n",
       "    .dataframe tbody tr th {\n",
       "        vertical-align: top;\n",
       "    }\n",
       "\n",
       "    .dataframe thead th {\n",
       "        text-align: right;\n",
       "    }\n",
       "</style>\n",
       "<table border=\"1\" class=\"dataframe\">\n",
       "  <thead>\n",
       "    <tr style=\"text-align: right;\">\n",
       "      <th></th>\n",
       "      <th>VendorID</th>\n",
       "      <th>tpep_pickup_datetime</th>\n",
       "      <th>tpep_dropoff_datetime</th>\n",
       "      <th>passenger_count</th>\n",
       "      <th>trip_distance</th>\n",
       "      <th>RatecodeID</th>\n",
       "      <th>PULocationID</th>\n",
       "      <th>DOLocationID</th>\n",
       "      <th>payment_type</th>\n",
       "      <th>fare_amount</th>\n",
       "      <th>extra</th>\n",
       "      <th>mta_tax</th>\n",
       "      <th>tip_amount</th>\n",
       "      <th>tolls_amount</th>\n",
       "      <th>improvement_surcharge</th>\n",
       "      <th>total_amount</th>\n",
       "      <th>congestion_surcharge</th>\n",
       "      <th>airport_fee</th>\n",
       "    </tr>\n",
       "  </thead>\n",
       "  <tbody>\n",
       "    <tr>\n",
       "      <th>count</th>\n",
       "      <td>3.588295e+06</td>\n",
       "      <td>3588295</td>\n",
       "      <td>3588295</td>\n",
       "      <td>3.458771e+06</td>\n",
       "      <td>3.588295e+06</td>\n",
       "      <td>3.458771e+06</td>\n",
       "      <td>3.588295e+06</td>\n",
       "      <td>3.588295e+06</td>\n",
       "      <td>3.588295e+06</td>\n",
       "      <td>3.588295e+06</td>\n",
       "      <td>3.588295e+06</td>\n",
       "      <td>3.588295e+06</td>\n",
       "      <td>3.588295e+06</td>\n",
       "      <td>3.588295e+06</td>\n",
       "      <td>3.588295e+06</td>\n",
       "      <td>3.588295e+06</td>\n",
       "      <td>3.458771e+06</td>\n",
       "      <td>3.458771e+06</td>\n",
       "    </tr>\n",
       "    <tr>\n",
       "      <th>mean</th>\n",
       "      <td>1.713103e+00</td>\n",
       "      <td>2022-05-16 07:50:29.219312</td>\n",
       "      <td>2022-05-16 08:08:42.275203</td>\n",
       "      <td>1.393923e+00</td>\n",
       "      <td>6.856861e+00</td>\n",
       "      <td>1.365674e+00</td>\n",
       "      <td>1.645738e+02</td>\n",
       "      <td>1.625517e+02</td>\n",
       "      <td>1.183209e+00</td>\n",
       "      <td>1.516813e+01</td>\n",
       "      <td>1.020728e+00</td>\n",
       "      <td>4.891096e-01</td>\n",
       "      <td>2.824744e+00</td>\n",
       "      <td>5.827756e-01</td>\n",
       "      <td>2.964299e-01</td>\n",
       "      <td>2.207840e+01</td>\n",
       "      <td>2.282808e+00</td>\n",
       "      <td>1.008364e-01</td>\n",
       "    </tr>\n",
       "    <tr>\n",
       "      <th>min</th>\n",
       "      <td>1.000000e+00</td>\n",
       "      <td>2003-01-01 00:06:06</td>\n",
       "      <td>2003-01-01 00:31:38</td>\n",
       "      <td>0.000000e+00</td>\n",
       "      <td>0.000000e+00</td>\n",
       "      <td>1.000000e+00</td>\n",
       "      <td>1.000000e+00</td>\n",
       "      <td>1.000000e+00</td>\n",
       "      <td>0.000000e+00</td>\n",
       "      <td>-1.311500e+03</td>\n",
       "      <td>-4.500000e+00</td>\n",
       "      <td>-5.000000e-01</td>\n",
       "      <td>-1.457000e+02</td>\n",
       "      <td>-5.075000e+01</td>\n",
       "      <td>-3.000000e-01</td>\n",
       "      <td>-1.314800e+03</td>\n",
       "      <td>-2.500000e+00</td>\n",
       "      <td>-1.250000e+00</td>\n",
       "    </tr>\n",
       "    <tr>\n",
       "      <th>25%</th>\n",
       "      <td>1.000000e+00</td>\n",
       "      <td>2022-05-08 18:14:16.500000</td>\n",
       "      <td>2022-05-08 18:32:36</td>\n",
       "      <td>1.000000e+00</td>\n",
       "      <td>1.150000e+00</td>\n",
       "      <td>1.000000e+00</td>\n",
       "      <td>1.320000e+02</td>\n",
       "      <td>1.130000e+02</td>\n",
       "      <td>1.000000e+00</td>\n",
       "      <td>7.000000e+00</td>\n",
       "      <td>0.000000e+00</td>\n",
       "      <td>5.000000e-01</td>\n",
       "      <td>1.000000e+00</td>\n",
       "      <td>0.000000e+00</td>\n",
       "      <td>3.000000e-01</td>\n",
       "      <td>1.235000e+01</td>\n",
       "      <td>2.500000e+00</td>\n",
       "      <td>0.000000e+00</td>\n",
       "    </tr>\n",
       "    <tr>\n",
       "      <th>50%</th>\n",
       "      <td>2.000000e+00</td>\n",
       "      <td>2022-05-16 09:14:42</td>\n",
       "      <td>2022-05-16 09:33:15</td>\n",
       "      <td>1.000000e+00</td>\n",
       "      <td>1.960000e+00</td>\n",
       "      <td>1.000000e+00</td>\n",
       "      <td>1.620000e+02</td>\n",
       "      <td>1.620000e+02</td>\n",
       "      <td>1.000000e+00</td>\n",
       "      <td>1.050000e+01</td>\n",
       "      <td>5.000000e-01</td>\n",
       "      <td>5.000000e-01</td>\n",
       "      <td>2.160000e+00</td>\n",
       "      <td>0.000000e+00</td>\n",
       "      <td>3.000000e-01</td>\n",
       "      <td>1.630000e+01</td>\n",
       "      <td>2.500000e+00</td>\n",
       "      <td>0.000000e+00</td>\n",
       "    </tr>\n",
       "    <tr>\n",
       "      <th>75%</th>\n",
       "      <td>2.000000e+00</td>\n",
       "      <td>2022-05-23 18:03:17</td>\n",
       "      <td>2022-05-23 18:21:03.500000</td>\n",
       "      <td>1.000000e+00</td>\n",
       "      <td>3.730000e+00</td>\n",
       "      <td>1.000000e+00</td>\n",
       "      <td>2.340000e+02</td>\n",
       "      <td>2.340000e+02</td>\n",
       "      <td>1.000000e+00</td>\n",
       "      <td>1.700000e+01</td>\n",
       "      <td>2.500000e+00</td>\n",
       "      <td>5.000000e-01</td>\n",
       "      <td>3.460000e+00</td>\n",
       "      <td>0.000000e+00</td>\n",
       "      <td>3.000000e-01</td>\n",
       "      <td>2.376000e+01</td>\n",
       "      <td>2.500000e+00</td>\n",
       "      <td>0.000000e+00</td>\n",
       "    </tr>\n",
       "    <tr>\n",
       "      <th>max</th>\n",
       "      <td>6.000000e+00</td>\n",
       "      <td>2022-06-01 23:55:30</td>\n",
       "      <td>2022-06-02 00:03:51</td>\n",
       "      <td>9.000000e+00</td>\n",
       "      <td>3.571927e+05</td>\n",
       "      <td>9.900000e+01</td>\n",
       "      <td>2.650000e+02</td>\n",
       "      <td>2.650000e+02</td>\n",
       "      <td>4.000000e+00</td>\n",
       "      <td>6.966500e+03</td>\n",
       "      <td>8.800000e+00</td>\n",
       "      <td>3.300000e+00</td>\n",
       "      <td>6.650000e+02</td>\n",
       "      <td>8.137500e+02</td>\n",
       "      <td>3.000000e-01</td>\n",
       "      <td>6.970800e+03</td>\n",
       "      <td>2.750000e+00</td>\n",
       "      <td>1.250000e+00</td>\n",
       "    </tr>\n",
       "    <tr>\n",
       "      <th>std</th>\n",
       "      <td>4.888093e-01</td>\n",
       "      <td>NaN</td>\n",
       "      <td>NaN</td>\n",
       "      <td>9.555489e-01</td>\n",
       "      <td>6.908488e+02</td>\n",
       "      <td>5.239789e+00</td>\n",
       "      <td>6.562813e+01</td>\n",
       "      <td>7.027926e+01</td>\n",
       "      <td>5.075988e-01</td>\n",
       "      <td>1.489484e+01</td>\n",
       "      <td>1.256724e+00</td>\n",
       "      <td>9.008878e-02</td>\n",
       "      <td>3.368739e+00</td>\n",
       "      <td>2.173699e+00</td>\n",
       "      <td>4.576907e-02</td>\n",
       "      <td>1.848683e+01</td>\n",
       "      <td>7.452415e-01</td>\n",
       "      <td>3.434480e-01</td>\n",
       "    </tr>\n",
       "  </tbody>\n",
       "</table>\n",
       "</div>"
      ],
      "text/plain": [
       "           VendorID        tpep_pickup_datetime       tpep_dropoff_datetime  \\\n",
       "count  3.588295e+06                     3588295                     3588295   \n",
       "mean   1.713103e+00  2022-05-16 07:50:29.219312  2022-05-16 08:08:42.275203   \n",
       "min    1.000000e+00         2003-01-01 00:06:06         2003-01-01 00:31:38   \n",
       "25%    1.000000e+00  2022-05-08 18:14:16.500000         2022-05-08 18:32:36   \n",
       "50%    2.000000e+00         2022-05-16 09:14:42         2022-05-16 09:33:15   \n",
       "75%    2.000000e+00         2022-05-23 18:03:17  2022-05-23 18:21:03.500000   \n",
       "max    6.000000e+00         2022-06-01 23:55:30         2022-06-02 00:03:51   \n",
       "std    4.888093e-01                         NaN                         NaN   \n",
       "\n",
       "       passenger_count  trip_distance    RatecodeID  PULocationID  \\\n",
       "count     3.458771e+06   3.588295e+06  3.458771e+06  3.588295e+06   \n",
       "mean      1.393923e+00   6.856861e+00  1.365674e+00  1.645738e+02   \n",
       "min       0.000000e+00   0.000000e+00  1.000000e+00  1.000000e+00   \n",
       "25%       1.000000e+00   1.150000e+00  1.000000e+00  1.320000e+02   \n",
       "50%       1.000000e+00   1.960000e+00  1.000000e+00  1.620000e+02   \n",
       "75%       1.000000e+00   3.730000e+00  1.000000e+00  2.340000e+02   \n",
       "max       9.000000e+00   3.571927e+05  9.900000e+01  2.650000e+02   \n",
       "std       9.555489e-01   6.908488e+02  5.239789e+00  6.562813e+01   \n",
       "\n",
       "       DOLocationID  payment_type   fare_amount         extra       mta_tax  \\\n",
       "count  3.588295e+06  3.588295e+06  3.588295e+06  3.588295e+06  3.588295e+06   \n",
       "mean   1.625517e+02  1.183209e+00  1.516813e+01  1.020728e+00  4.891096e-01   \n",
       "min    1.000000e+00  0.000000e+00 -1.311500e+03 -4.500000e+00 -5.000000e-01   \n",
       "25%    1.130000e+02  1.000000e+00  7.000000e+00  0.000000e+00  5.000000e-01   \n",
       "50%    1.620000e+02  1.000000e+00  1.050000e+01  5.000000e-01  5.000000e-01   \n",
       "75%    2.340000e+02  1.000000e+00  1.700000e+01  2.500000e+00  5.000000e-01   \n",
       "max    2.650000e+02  4.000000e+00  6.966500e+03  8.800000e+00  3.300000e+00   \n",
       "std    7.027926e+01  5.075988e-01  1.489484e+01  1.256724e+00  9.008878e-02   \n",
       "\n",
       "         tip_amount  tolls_amount  improvement_surcharge  total_amount  \\\n",
       "count  3.588295e+06  3.588295e+06           3.588295e+06  3.588295e+06   \n",
       "mean   2.824744e+00  5.827756e-01           2.964299e-01  2.207840e+01   \n",
       "min   -1.457000e+02 -5.075000e+01          -3.000000e-01 -1.314800e+03   \n",
       "25%    1.000000e+00  0.000000e+00           3.000000e-01  1.235000e+01   \n",
       "50%    2.160000e+00  0.000000e+00           3.000000e-01  1.630000e+01   \n",
       "75%    3.460000e+00  0.000000e+00           3.000000e-01  2.376000e+01   \n",
       "max    6.650000e+02  8.137500e+02           3.000000e-01  6.970800e+03   \n",
       "std    3.368739e+00  2.173699e+00           4.576907e-02  1.848683e+01   \n",
       "\n",
       "       congestion_surcharge   airport_fee  \n",
       "count          3.458771e+06  3.458771e+06  \n",
       "mean           2.282808e+00  1.008364e-01  \n",
       "min           -2.500000e+00 -1.250000e+00  \n",
       "25%            2.500000e+00  0.000000e+00  \n",
       "50%            2.500000e+00  0.000000e+00  \n",
       "75%            2.500000e+00  0.000000e+00  \n",
       "max            2.750000e+00  1.250000e+00  \n",
       "std            7.452415e-01  3.434480e-01  "
      ]
     },
     "execution_count": 7,
     "metadata": {},
     "output_type": "execute_result"
    }
   ],
   "source": [
    "dataset.describe()"
   ]
  },
  {
   "cell_type": "code",
   "execution_count": 8,
   "metadata": {},
   "outputs": [
    {
     "name": "stdout",
     "output_type": "stream",
     "text": [
      "VendorID: 4\n",
      "RatecodeID: 7\n",
      "PULocationID: 259\n",
      "DOLocationID: 261\n",
      "payment_type: 5\n",
      "passenger_count: 10\n"
     ]
    },
    {
     "name": "stdout",
     "output_type": "stream",
     "text": [
      "extra: 61\n",
      "mta_tax: 13\n"
     ]
    }
   ],
   "source": [
    "for col in [\"VendorID\", \"RatecodeID\", \"PULocationID\", \"DOLocationID\",  \"payment_type\", \"passenger_count\", \"extra\", \"mta_tax\"]:\n",
    "    print(f\"{col}: {dataset[col].nunique()}\")"
   ]
  },
  {
   "cell_type": "markdown",
   "metadata": {},
   "source": [
    "### Trip duration feature\n",
    "\n",
    "https://pandas.pydata.org/docs/reference/api/pandas.Timedelta.html\n",
    "\n",
    "https://pandas.pydata.org/docs/user_guide/timeseries.html"
   ]
  },
  {
   "cell_type": "code",
   "execution_count": 9,
   "metadata": {},
   "outputs": [],
   "source": [
    "dataset[\"trip_duration\"] = (dataset[\"tpep_dropoff_datetime\"]-dataset[\"tpep_pickup_datetime\"]).dt.total_seconds()/60"
   ]
  },
  {
   "cell_type": "markdown",
   "metadata": {},
   "source": [
    "### Percentiles"
   ]
  },
  {
   "cell_type": "code",
   "execution_count": 10,
   "metadata": {},
   "outputs": [
    {
     "name": "stdout",
     "output_type": "stream",
     "text": [
      "** Percentiles for 0.9 **\n",
      "  trip_distance 9.4\n"
     ]
    },
    {
     "name": "stdout",
     "output_type": "stream",
     "text": [
      "  fare_amount 32.5\n",
      "  total_amount 45.15\n",
      "  trip_duration 32.45\n",
      "** Percentiles for 0.95 **\n",
      "  trip_distance 16.0\n",
      "  fare_amount 52.0\n",
      "  total_amount 63.41\n",
      "  trip_duration 43.95\n",
      "** Percentiles for 0.99 **\n",
      "  trip_distance 20.3\n",
      "  fare_amount 63.0\n",
      "  total_amount 81.36\n",
      "  trip_duration 71.45\n",
      "** Percentiles for 0.995 **\n",
      "  trip_distance 21.78\n",
      "  fare_amount 71.5\n",
      "  total_amount 93.95\n",
      "  trip_duration 83.06666666666666\n"
     ]
    }
   ],
   "source": [
    "for p in [0.9, 0.95, 0.99, 0.995]:\n",
    "    print(f\"** Percentiles for {p} **\")\n",
    "    for col in [\"trip_distance\", \"fare_amount\", \"total_amount\", \"trip_duration\"]:\n",
    "        print(f\"  {col} {dataset[col].quantile(p)}\")"
   ]
  },
  {
   "cell_type": "markdown",
   "metadata": {},
   "source": [
    "### Histogram of trip duration"
   ]
  },
  {
   "cell_type": "code",
   "execution_count": 11,
   "metadata": {},
   "outputs": [
    {
     "data": {
      "text/plain": [
       "(array([405344., 929518., 782033., 522838., 324352., 196529., 122206.,\n",
       "         79554.,  55421.,  40948.,  30526.,  25206.,  19575.,  13812.,\n",
       "         10172.,   7494.,   5341.,   3672.,   2415.,   1601.]),\n",
       " array([  0.,   5.,  10.,  15.,  20.,  25.,  30.,  35.,  40.,  45.,  50.,\n",
       "         55.,  60.,  65.,  70.,  75.,  80.,  85.,  90.,  95., 100.]),\n",
       " <BarContainer object of 20 artists>)"
      ]
     },
     "execution_count": 11,
     "metadata": {},
     "output_type": "execute_result"
    },
    {
     "data": {
      "image/png": "[encoded data removed]",
      "text/plain": [
       "<Figure size 1200x500 with 1 Axes>"
      ]
     },
     "metadata": {},
     "output_type": "display_data"
    }
   ],
   "source": [
    "plt.figure(figsize=(12,5))\n",
    "plt.hist(dataset[\"trip_duration\"], bins=20, range=(0,100))"
   ]
  },
  {
   "cell_type": "markdown",
   "metadata": {},
   "source": [
    "### Histogram of trip distance"
   ]
  },
  {
   "cell_type": "code",
   "execution_count": 12,
   "metadata": {},
   "outputs": [
    {
     "data": {
      "text/plain": [
       "(array([ 681329., 1136888.,  620100.,  312473.,  167875.,  105590.,\n",
       "          72472.,   54141.,   54702.,   57613.,   48598.,   34008.,\n",
       "          21169.,   13745.,   12460.,   15375.,   26499.,   47981.,\n",
       "          41649.,   22784.,   14966.,    9424.,    4591.,    2018.,\n",
       "           1423.]),\n",
       " array([ 0.,  1.,  2.,  3.,  4.,  5.,  6.,  7.,  8.,  9., 10., 11., 12.,\n",
       "        13., 14., 15., 16., 17., 18., 19., 20., 21., 22., 23., 24., 25.]),\n",
       " <BarContainer object of 25 artists>)"
      ]
     },
     "execution_count": 12,
     "metadata": {},
     "output_type": "execute_result"
    },
    {
     "data": {
      "image/png": "[encoded data removed]",
      "text/plain": [
       "<Figure size 1200x500 with 1 Axes>"
      ]
     },
     "metadata": {},
     "output_type": "display_data"
    }
   ],
   "source": [
    "plt.figure(figsize=(12,5))\n",
    "plt.hist(dataset[\"trip_distance\"], bins=25, range=(0,25))"
   ]
  },
  {
   "cell_type": "markdown",
   "metadata": {},
   "source": [
    "### Histogram of day of week"
   ]
  },
  {
   "cell_type": "code",
   "execution_count": 13,
   "metadata": {},
   "outputs": [
    {
     "data": {
      "text/plain": [
       "(array([511026., 598700., 500750., 514870., 492400., 466997., 503552.]),\n",
       " array([0.        , 0.85714286, 1.71428571, 2.57142857, 3.42857143,\n",
       "        4.28571429, 5.14285714, 6.        ]),\n",
       " <BarContainer object of 7 artists>)"
      ]
     },
     "execution_count": 13,
     "metadata": {},
     "output_type": "execute_result"
    },
    {
     "data": {
      "image/png": "[encoded data removed]",
      "text/plain": [
       "<Figure size 640x480 with 1 Axes>"
      ]
     },
     "metadata": {},
     "output_type": "display_data"
    }
   ],
   "source": [
    "#for col in [\"\", \"tpep_dropoff_datetime\", \"passenger_count\", \"\",  \"payment_type\", \"PULocationID\"]:\n",
    "plt.hist(dataset[\"tpep_pickup_datetime\"].dt.day_of_week,bins=7)"
   ]
  },
  {
   "cell_type": "markdown",
   "metadata": {},
   "source": [
    "### Histogram of hour of day"
   ]
  },
  {
   "cell_type": "code",
   "execution_count": 14,
   "metadata": {},
   "outputs": [
    {
     "data": {
      "text/plain": [
       "(array([101898.,  65741.,  42649.,  27727.,  19738.,  24285.,  58703.,\n",
       "        106019., 135426., 152979., 170337., 188606., 201967., 203613.,\n",
       "        217339., 221873., 220953., 237924., 253314., 230980., 196474.,\n",
       "        190822., 175247., 143681.]),\n",
       " array([ 0.        ,  0.95833333,  1.91666667,  2.875     ,  3.83333333,\n",
       "         4.79166667,  5.75      ,  6.70833333,  7.66666667,  8.625     ,\n",
       "         9.58333333, 10.54166667, 11.5       , 12.45833333, 13.41666667,\n",
       "        14.375     , 15.33333333, 16.29166667, 17.25      , 18.20833333,\n",
       "        19.16666667, 20.125     , 21.08333333, 22.04166667, 23.        ]),\n",
       " <BarContainer object of 24 artists>)"
      ]
     },
     "execution_count": 14,
     "metadata": {},
     "output_type": "execute_result"
    },
    {
     "data": {
      "image/png": "[encoded data removed]",
      "text/plain": [
       "<Figure size 640x480 with 1 Axes>"
      ]
     },
     "metadata": {},
     "output_type": "display_data"
    }
   ],
   "source": [
    "plt.hist(dataset[\"tpep_pickup_datetime\"].dt.hour, bins=24)"
   ]
  },
  {
   "cell_type": "markdown",
   "metadata": {},
   "source": []
  },
  {
   "cell_type": "markdown",
   "metadata": {},
   "source": [
    "### Histogram of fare amount"
   ]
  },
  {
   "cell_type": "code",
   "execution_count": 16,
   "metadata": {},
   "outputs": [
    {
     "data": {
      "text/plain": [
       "(array([ 55650., 986465., 987782., 536825., 282266., 162729., 104311.,\n",
       "         81352.,  64617.,  41761.,  27959.,  18752.,  12545., 155576.,\n",
       "          7415.,   7287.,   9959.,   6930.,   4164.,   2962.]),\n",
       " array([ 0.,  4.,  8., 12., 16., 20., 24., 28., 32., 36., 40., 44., 48.,\n",
       "        52., 56., 60., 64., 68., 72., 76., 80.]),\n",
       " <BarContainer object of 20 artists>)"
      ]
     },
     "execution_count": 16,
     "metadata": {},
     "output_type": "execute_result"
    },
    {
     "data": {
      "image/png": "[encoded data removed]",
      "text/plain": [
       "<Figure size 1000x500 with 1 Axes>"
      ]
     },
     "metadata": {},
     "output_type": "display_data"
    }
   ],
   "source": [
    "plt.figure(figsize=(10,5))\n",
    "plt.hist(dataset[\"fare_amount\"], bins=20, range=(0,80))"
   ]
  },
  {
   "cell_type": "markdown",
   "metadata": {},
   "source": [
    "### Histogram of passenger count"
   ]
  },
  {
   "cell_type": "code",
   "execution_count": 17,
   "metadata": {},
   "outputs": [
    {
     "data": {
      "text/plain": [
       "(array([7.35870e+04, 2.54988e+06, 5.39027e+05, 1.36997e+05, 0.00000e+00,\n",
       "        5.60920e+04, 6.12090e+04, 4.19480e+04, 1.50000e+01, 1.40000e+01]),\n",
       " array([0. , 0.8, 1.6, 2.4, 3.2, 4. , 4.8, 5.6, 6.4, 7.2, 8. ]),\n",
       " <BarContainer object of 10 artists>)"
      ]
     },
     "execution_count": 17,
     "metadata": {},
     "output_type": "execute_result"
    },
    {
     "data": {
      "image/png": "[encoded data removed]",
      "text/plain": [
       "<Figure size 1200x500 with 1 Axes>"
      ]
     },
     "metadata": {},
     "output_type": "display_data"
    }
   ],
   "source": [
    "plt.figure(figsize=(12,5))\n",
    "plt.hist(dataset[\"passenger_count\"], bins=10, range=(0,8))"
   ]
  },
  {
   "cell_type": "markdown",
   "metadata": {},
   "source": [
    "### Histogram of RatecodeID"
   ]
  },
  {
   "cell_type": "code",
   "execution_count": 18,
   "metadata": {},
   "outputs": [
    {
     "data": {
      "text/plain": [
       "(array([0.000000e+00, 3.256985e+06, 1.472390e+05, 0.000000e+00,\n",
       "        1.163600e+04, 4.626000e+03, 2.838200e+04, 3.900000e+01]),\n",
       " array([0.  , 0.75, 1.5 , 2.25, 3.  , 3.75, 4.5 , 5.25, 6.  ]),\n",
       " <BarContainer object of 8 artists>)"
      ]
     },
     "execution_count": 18,
     "metadata": {},
     "output_type": "execute_result"
    },
    {
     "data": {
      "image/png": "[encoded data removed]",
      "text/plain": [
       "<Figure size 640x480 with 1 Axes>"
      ]
     },
     "metadata": {},
     "output_type": "display_data"
    }
   ],
   "source": [
    "plt.hist(dataset[\"RatecodeID\"], bins=8, range=(0,6))"
   ]
  },
  {
   "cell_type": "markdown",
   "metadata": {},
   "source": [
    "### Analyze NA values"
   ]
  },
  {
   "cell_type": "code",
   "execution_count": 19,
   "metadata": {},
   "outputs": [
    {
     "name": "stdout",
     "output_type": "stream",
     "text": [
      "                       NA Count  NA Percentage\n",
      "VendorID                      0       0.000000\n",
      "tpep_pickup_datetime          0       0.000000\n",
      "tpep_dropoff_datetime         0       0.000000\n",
      "passenger_count          129524       3.609625\n",
      "trip_distance                 0       0.000000\n",
      "RatecodeID               129524       3.609625\n",
      "store_and_fwd_flag       129524       3.609625\n",
      "PULocationID                  0       0.000000\n",
      "DOLocationID                  0       0.000000\n",
      "payment_type                  0       0.000000\n",
      "fare_amount                   0       0.000000\n",
      "extra                         0       0.000000\n",
      "mta_tax                       0       0.000000\n",
      "tip_amount                    0       0.000000\n",
      "tolls_amount                  0       0.000000\n",
      "improvement_surcharge         0       0.000000\n",
      "total_amount                  0       0.000000\n",
      "congestion_surcharge     129524       3.609625\n",
      "airport_fee              129524       3.609625\n",
      "trip_duration                 0       0.000000\n"
     ]
    }
   ],
   "source": [
    "na_count = dataset.isna().sum()\n",
    "total_entries = dataset.shape[0]\n",
    "na_percentage = (na_count / total_entries) * 100\n",
    "na_summary = pd.DataFrame({'NA Count': na_count, 'NA Percentage': na_percentage})\n",
    "print(na_summary)"
   ]
  },
  {
   "cell_type": "code",
   "execution_count": null,
   "metadata": {},
   "outputs": [],
   "source": []
  }
 ],
 "metadata": {
  "kernelspec": {
   "display_name": "nyc_taxi_venv",
   "language": "python",
   "name": "python3"
  },
  "language_info": {
   "codemirror_mode": {
    "name": "ipython",
    "version": 3
   },
   "file_extension": ".py",
   "mimetype": "text/x-python",
   "name": "python",
   "nbconvert_exporter": "python",
   "pygments_lexer": "ipython3",
   "version": "3.10.12"
  }
 },
 "nbformat": 4,
 "nbformat_minor": 2
}
